{
 "cells": [
  {
   "cell_type": "markdown",
   "id": "8db9c95e",
   "metadata": {},
   "source": [
    "# Mini Project - Classification"
   ]
  },
  {
   "cell_type": "markdown",
   "id": "948a2bac",
   "metadata": {},
   "source": [
    "## Business objective"
   ]
  },
  {
   "cell_type": "markdown",
   "id": "6bf3a4ad",
   "metadata": {},
   "source": [
    "### Build a predictive model to determine the grade of the house. (The grades are A,B,C,D and E with A being the best and E the worst)"
   ]
  },
  {
   "cell_type": "markdown",
   "id": "47e610a3",
   "metadata": {},
   "source": [
    "# Import Libraries"
   ]
  },
  {
   "cell_type": "code",
   "execution_count": 190,
   "id": "ba00cf6c",
   "metadata": {},
   "outputs": [],
   "source": [
    "import pandas as pd \n",
    "import numpy as np\n",
    "import matplotlib.pyplot as plt\n",
    "import seaborn as sns\n",
    "\n",
    "from sklearn.preprocessing import LabelEncoder\n",
    "from sklearn.preprocessing import MinMaxScaler\n",
    "from sklearn.model_selection import train_test_split\n",
    "\n",
    "from sklearn.linear_model import LogisticRegression\n",
    "from sklearn.naive_bayes import GaussianNB\n",
    "from sklearn.tree import DecisionTreeClassifier\n",
    "from sklearn.ensemble import RandomForestClassifier\n",
    "from sklearn.ensemble import AdaBoostClassifier\n",
    "from sklearn.ensemble import StackingClassifier\n",
    "\n",
    "\n",
    "from sklearn.metrics import accuracy_score,classification_report,recall_score,f1_score,precision_score\n",
    "from sklearn.metrics import roc_auc_score\n",
    "\n",
    "\n",
    "import warnings\n",
    "warnings.filterwarnings('ignore')"
   ]
  },
  {
   "cell_type": "markdown",
   "id": "21b32fbd",
   "metadata": {},
   "source": [
    "# Read the data"
   ]
  },
  {
   "cell_type": "code",
   "execution_count": 3,
   "id": "e8852ab0",
   "metadata": {},
   "outputs": [
    {
     "data": {
      "text/html": [
       "<div>\n",
       "<style scoped>\n",
       "    .dataframe tbody tr th:only-of-type {\n",
       "        vertical-align: middle;\n",
       "    }\n",
       "\n",
       "    .dataframe tbody tr th {\n",
       "        vertical-align: top;\n",
       "    }\n",
       "\n",
       "    .dataframe thead th {\n",
       "        text-align: right;\n",
       "    }\n",
       "</style>\n",
       "<table border=\"1\" class=\"dataframe\">\n",
       "  <thead>\n",
       "    <tr style=\"text-align: right;\">\n",
       "      <th></th>\n",
       "      <th>Id</th>\n",
       "      <th>Area(total)</th>\n",
       "      <th>Trooms</th>\n",
       "      <th>Nbedrooms</th>\n",
       "      <th>Nbwashrooms</th>\n",
       "      <th>Twashrooms</th>\n",
       "      <th>roof</th>\n",
       "      <th>Roof(Area)</th>\n",
       "      <th>Lawn(Area)</th>\n",
       "      <th>Nfloors</th>\n",
       "      <th>API</th>\n",
       "      <th>ANB</th>\n",
       "      <th>Expected price</th>\n",
       "      <th>Grade</th>\n",
       "    </tr>\n",
       "  </thead>\n",
       "  <tbody>\n",
       "    <tr>\n",
       "      <th>0</th>\n",
       "      <td>1</td>\n",
       "      <td>339</td>\n",
       "      <td>6</td>\n",
       "      <td>5</td>\n",
       "      <td>4</td>\n",
       "      <td>6</td>\n",
       "      <td>NO</td>\n",
       "      <td>0</td>\n",
       "      <td>76</td>\n",
       "      <td>2</td>\n",
       "      <td>79</td>\n",
       "      <td>6</td>\n",
       "      <td>3481</td>\n",
       "      <td>D</td>\n",
       "    </tr>\n",
       "    <tr>\n",
       "      <th>1</th>\n",
       "      <td>2</td>\n",
       "      <td>358</td>\n",
       "      <td>5</td>\n",
       "      <td>4</td>\n",
       "      <td>3</td>\n",
       "      <td>4</td>\n",
       "      <td>YES</td>\n",
       "      <td>71</td>\n",
       "      <td>96</td>\n",
       "      <td>3</td>\n",
       "      <td>72</td>\n",
       "      <td>4</td>\n",
       "      <td>3510</td>\n",
       "      <td>D</td>\n",
       "    </tr>\n",
       "    <tr>\n",
       "      <th>2</th>\n",
       "      <td>3</td>\n",
       "      <td>324</td>\n",
       "      <td>7</td>\n",
       "      <td>5</td>\n",
       "      <td>4</td>\n",
       "      <td>5</td>\n",
       "      <td>YES</td>\n",
       "      <td>101</td>\n",
       "      <td>117</td>\n",
       "      <td>5</td>\n",
       "      <td>64</td>\n",
       "      <td>3</td>\n",
       "      <td>3748</td>\n",
       "      <td>C</td>\n",
       "    </tr>\n",
       "    <tr>\n",
       "      <th>3</th>\n",
       "      <td>4</td>\n",
       "      <td>330</td>\n",
       "      <td>6</td>\n",
       "      <td>4</td>\n",
       "      <td>3</td>\n",
       "      <td>5</td>\n",
       "      <td>YES</td>\n",
       "      <td>101</td>\n",
       "      <td>82</td>\n",
       "      <td>2</td>\n",
       "      <td>59</td>\n",
       "      <td>2</td>\n",
       "      <td>3134</td>\n",
       "      <td>D</td>\n",
       "    </tr>\n",
       "    <tr>\n",
       "      <th>4</th>\n",
       "      <td>5</td>\n",
       "      <td>320</td>\n",
       "      <td>7</td>\n",
       "      <td>4</td>\n",
       "      <td>4</td>\n",
       "      <td>5</td>\n",
       "      <td>NO</td>\n",
       "      <td>0</td>\n",
       "      <td>75</td>\n",
       "      <td>3</td>\n",
       "      <td>40</td>\n",
       "      <td>1</td>\n",
       "      <td>3843</td>\n",
       "      <td>D</td>\n",
       "    </tr>\n",
       "    <tr>\n",
       "      <th>...</th>\n",
       "      <td>...</td>\n",
       "      <td>...</td>\n",
       "      <td>...</td>\n",
       "      <td>...</td>\n",
       "      <td>...</td>\n",
       "      <td>...</td>\n",
       "      <td>...</td>\n",
       "      <td>...</td>\n",
       "      <td>...</td>\n",
       "      <td>...</td>\n",
       "      <td>...</td>\n",
       "      <td>...</td>\n",
       "      <td>...</td>\n",
       "      <td>...</td>\n",
       "    </tr>\n",
       "    <tr>\n",
       "      <th>2995</th>\n",
       "      <td>2996</td>\n",
       "      <td>341</td>\n",
       "      <td>9</td>\n",
       "      <td>6</td>\n",
       "      <td>5</td>\n",
       "      <td>7</td>\n",
       "      <td>YES</td>\n",
       "      <td>95</td>\n",
       "      <td>115</td>\n",
       "      <td>5</td>\n",
       "      <td>90</td>\n",
       "      <td>2</td>\n",
       "      <td>4246</td>\n",
       "      <td>B</td>\n",
       "    </tr>\n",
       "    <tr>\n",
       "      <th>2996</th>\n",
       "      <td>2997</td>\n",
       "      <td>292</td>\n",
       "      <td>9</td>\n",
       "      <td>8</td>\n",
       "      <td>7</td>\n",
       "      <td>8</td>\n",
       "      <td>YES</td>\n",
       "      <td>116</td>\n",
       "      <td>87</td>\n",
       "      <td>7</td>\n",
       "      <td>97</td>\n",
       "      <td>4</td>\n",
       "      <td>3753</td>\n",
       "      <td>A</td>\n",
       "    </tr>\n",
       "    <tr>\n",
       "      <th>2997</th>\n",
       "      <td>2998</td>\n",
       "      <td>328</td>\n",
       "      <td>7</td>\n",
       "      <td>4</td>\n",
       "      <td>3</td>\n",
       "      <td>5</td>\n",
       "      <td>NO</td>\n",
       "      <td>0</td>\n",
       "      <td>78</td>\n",
       "      <td>5</td>\n",
       "      <td>95</td>\n",
       "      <td>6</td>\n",
       "      <td>3607</td>\n",
       "      <td>D</td>\n",
       "    </tr>\n",
       "    <tr>\n",
       "      <th>2998</th>\n",
       "      <td>2999</td>\n",
       "      <td>293</td>\n",
       "      <td>9</td>\n",
       "      <td>7</td>\n",
       "      <td>7</td>\n",
       "      <td>8</td>\n",
       "      <td>NO</td>\n",
       "      <td>0</td>\n",
       "      <td>78</td>\n",
       "      <td>7</td>\n",
       "      <td>51</td>\n",
       "      <td>3</td>\n",
       "      <td>4198</td>\n",
       "      <td>B</td>\n",
       "    </tr>\n",
       "    <tr>\n",
       "      <th>2999</th>\n",
       "      <td>3000</td>\n",
       "      <td>343</td>\n",
       "      <td>7</td>\n",
       "      <td>6</td>\n",
       "      <td>6</td>\n",
       "      <td>8</td>\n",
       "      <td>NO</td>\n",
       "      <td>0</td>\n",
       "      <td>108</td>\n",
       "      <td>5</td>\n",
       "      <td>95</td>\n",
       "      <td>3</td>\n",
       "      <td>4105</td>\n",
       "      <td>C</td>\n",
       "    </tr>\n",
       "  </tbody>\n",
       "</table>\n",
       "<p>3000 rows × 14 columns</p>\n",
       "</div>"
      ],
      "text/plain": [
       "        Id  Area(total)  Trooms  Nbedrooms  Nbwashrooms  Twashrooms roof  \\\n",
       "0        1          339       6          5            4           6   NO   \n",
       "1        2          358       5          4            3           4  YES   \n",
       "2        3          324       7          5            4           5  YES   \n",
       "3        4          330       6          4            3           5  YES   \n",
       "4        5          320       7          4            4           5   NO   \n",
       "...    ...          ...     ...        ...          ...         ...  ...   \n",
       "2995  2996          341       9          6            5           7  YES   \n",
       "2996  2997          292       9          8            7           8  YES   \n",
       "2997  2998          328       7          4            3           5   NO   \n",
       "2998  2999          293       9          7            7           8   NO   \n",
       "2999  3000          343       7          6            6           8   NO   \n",
       "\n",
       "      Roof(Area)  Lawn(Area)  Nfloors  API  ANB  Expected price Grade  \n",
       "0              0          76        2   79    6            3481     D  \n",
       "1             71          96        3   72    4            3510     D  \n",
       "2            101         117        5   64    3            3748     C  \n",
       "3            101          82        2   59    2            3134     D  \n",
       "4              0          75        3   40    1            3843     D  \n",
       "...          ...         ...      ...  ...  ...             ...   ...  \n",
       "2995          95         115        5   90    2            4246     B  \n",
       "2996         116          87        7   97    4            3753     A  \n",
       "2997           0          78        5   95    6            3607     D  \n",
       "2998           0          78        7   51    3            4198     B  \n",
       "2999           0         108        5   95    3            4105     C  \n",
       "\n",
       "[3000 rows x 14 columns]"
      ]
     },
     "execution_count": 3,
     "metadata": {},
     "output_type": "execute_result"
    }
   ],
   "source": [
    "data=pd.read_csv(\"Project2_Classification_HouseGrade_Data_Project.csv\")\n",
    "data"
   ]
  },
  {
   "cell_type": "markdown",
   "id": "9590d1f9",
   "metadata": {},
   "source": [
    "# Data understanding"
   ]
  },
  {
   "cell_type": "code",
   "execution_count": 4,
   "id": "0d533236",
   "metadata": {},
   "outputs": [
    {
     "data": {
      "text/plain": [
       "Index(['Id', 'Area(total)', 'Trooms', 'Nbedrooms', 'Nbwashrooms', 'Twashrooms',\n",
       "       'roof', 'Roof(Area)', 'Lawn(Area)', 'Nfloors', 'API', 'ANB',\n",
       "       'Expected price', 'Grade'],\n",
       "      dtype='object')"
      ]
     },
     "execution_count": 4,
     "metadata": {},
     "output_type": "execute_result"
    }
   ],
   "source": [
    "data.columns"
   ]
  },
  {
   "cell_type": "code",
   "execution_count": 5,
   "id": "cf7b303c",
   "metadata": {},
   "outputs": [
    {
     "data": {
      "text/plain": [
       "42000"
      ]
     },
     "execution_count": 5,
     "metadata": {},
     "output_type": "execute_result"
    }
   ],
   "source": [
    "data.size            #total number of observations"
   ]
  },
  {
   "cell_type": "code",
   "execution_count": 6,
   "id": "80db1944",
   "metadata": {},
   "outputs": [
    {
     "data": {
      "text/plain": [
       "(3000, 14)"
      ]
     },
     "execution_count": 6,
     "metadata": {},
     "output_type": "execute_result"
    }
   ],
   "source": [
    "data.shape        #rows and columns"
   ]
  },
  {
   "cell_type": "code",
   "execution_count": 7,
   "id": "d34c3c42",
   "metadata": {},
   "outputs": [
    {
     "name": "stdout",
     "output_type": "stream",
     "text": [
      "<class 'pandas.core.frame.DataFrame'>\n",
      "RangeIndex: 3000 entries, 0 to 2999\n",
      "Data columns (total 14 columns):\n",
      " #   Column          Non-Null Count  Dtype \n",
      "---  ------          --------------  ----- \n",
      " 0   Id              3000 non-null   int64 \n",
      " 1   Area(total)     3000 non-null   int64 \n",
      " 2   Trooms          3000 non-null   int64 \n",
      " 3   Nbedrooms       3000 non-null   int64 \n",
      " 4   Nbwashrooms     3000 non-null   int64 \n",
      " 5   Twashrooms      3000 non-null   int64 \n",
      " 6   roof            3000 non-null   object\n",
      " 7   Roof(Area)      3000 non-null   int64 \n",
      " 8   Lawn(Area)      3000 non-null   int64 \n",
      " 9   Nfloors         3000 non-null   int64 \n",
      " 10  API             3000 non-null   int64 \n",
      " 11  ANB             3000 non-null   int64 \n",
      " 12  Expected price  3000 non-null   int64 \n",
      " 13  Grade           3000 non-null   object\n",
      "dtypes: int64(12), object(2)\n",
      "memory usage: 328.2+ KB\n"
     ]
    }
   ],
   "source": [
    "data.info()"
   ]
  },
  {
   "cell_type": "code",
   "execution_count": 8,
   "id": "3896097b",
   "metadata": {},
   "outputs": [
    {
     "data": {
      "text/html": [
       "<div>\n",
       "<style scoped>\n",
       "    .dataframe tbody tr th:only-of-type {\n",
       "        vertical-align: middle;\n",
       "    }\n",
       "\n",
       "    .dataframe tbody tr th {\n",
       "        vertical-align: top;\n",
       "    }\n",
       "\n",
       "    .dataframe thead th {\n",
       "        text-align: right;\n",
       "    }\n",
       "</style>\n",
       "<table border=\"1\" class=\"dataframe\">\n",
       "  <thead>\n",
       "    <tr style=\"text-align: right;\">\n",
       "      <th></th>\n",
       "      <th>count</th>\n",
       "      <th>mean</th>\n",
       "      <th>std</th>\n",
       "      <th>min</th>\n",
       "      <th>25%</th>\n",
       "      <th>50%</th>\n",
       "      <th>75%</th>\n",
       "      <th>max</th>\n",
       "    </tr>\n",
       "  </thead>\n",
       "  <tbody>\n",
       "    <tr>\n",
       "      <th>Id</th>\n",
       "      <td>3000.0</td>\n",
       "      <td>1500.500000</td>\n",
       "      <td>866.169729</td>\n",
       "      <td>1.0</td>\n",
       "      <td>750.75</td>\n",
       "      <td>1500.5</td>\n",
       "      <td>2250.25</td>\n",
       "      <td>3000.0</td>\n",
       "    </tr>\n",
       "    <tr>\n",
       "      <th>Area(total)</th>\n",
       "      <td>3000.0</td>\n",
       "      <td>325.117000</td>\n",
       "      <td>20.507742</td>\n",
       "      <td>290.0</td>\n",
       "      <td>308.00</td>\n",
       "      <td>325.0</td>\n",
       "      <td>343.00</td>\n",
       "      <td>360.0</td>\n",
       "    </tr>\n",
       "    <tr>\n",
       "      <th>Trooms</th>\n",
       "      <td>3000.0</td>\n",
       "      <td>7.021667</td>\n",
       "      <td>1.421221</td>\n",
       "      <td>5.0</td>\n",
       "      <td>6.00</td>\n",
       "      <td>7.0</td>\n",
       "      <td>8.00</td>\n",
       "      <td>9.0</td>\n",
       "    </tr>\n",
       "    <tr>\n",
       "      <th>Nbedrooms</th>\n",
       "      <td>3000.0</td>\n",
       "      <td>5.023000</td>\n",
       "      <td>1.634838</td>\n",
       "      <td>2.0</td>\n",
       "      <td>4.00</td>\n",
       "      <td>5.0</td>\n",
       "      <td>6.00</td>\n",
       "      <td>8.0</td>\n",
       "    </tr>\n",
       "    <tr>\n",
       "      <th>Nbwashrooms</th>\n",
       "      <td>3000.0</td>\n",
       "      <td>4.513667</td>\n",
       "      <td>1.715263</td>\n",
       "      <td>1.0</td>\n",
       "      <td>3.00</td>\n",
       "      <td>4.0</td>\n",
       "      <td>6.00</td>\n",
       "      <td>8.0</td>\n",
       "    </tr>\n",
       "    <tr>\n",
       "      <th>Twashrooms</th>\n",
       "      <td>3000.0</td>\n",
       "      <td>6.010667</td>\n",
       "      <td>1.786136</td>\n",
       "      <td>2.0</td>\n",
       "      <td>5.00</td>\n",
       "      <td>6.0</td>\n",
       "      <td>7.00</td>\n",
       "      <td>10.0</td>\n",
       "    </tr>\n",
       "    <tr>\n",
       "      <th>Roof(Area)</th>\n",
       "      <td>3000.0</td>\n",
       "      <td>48.980667</td>\n",
       "      <td>48.746641</td>\n",
       "      <td>0.0</td>\n",
       "      <td>0.00</td>\n",
       "      <td>71.0</td>\n",
       "      <td>96.00</td>\n",
       "      <td>120.0</td>\n",
       "    </tr>\n",
       "    <tr>\n",
       "      <th>Lawn(Area)</th>\n",
       "      <td>3000.0</td>\n",
       "      <td>95.609333</td>\n",
       "      <td>14.837388</td>\n",
       "      <td>70.0</td>\n",
       "      <td>83.00</td>\n",
       "      <td>96.0</td>\n",
       "      <td>109.00</td>\n",
       "      <td>120.0</td>\n",
       "    </tr>\n",
       "    <tr>\n",
       "      <th>Nfloors</th>\n",
       "      <td>3000.0</td>\n",
       "      <td>4.013333</td>\n",
       "      <td>1.621532</td>\n",
       "      <td>1.0</td>\n",
       "      <td>3.00</td>\n",
       "      <td>4.0</td>\n",
       "      <td>5.00</td>\n",
       "      <td>7.0</td>\n",
       "    </tr>\n",
       "    <tr>\n",
       "      <th>API</th>\n",
       "      <td>3000.0</td>\n",
       "      <td>70.190667</td>\n",
       "      <td>17.563460</td>\n",
       "      <td>40.0</td>\n",
       "      <td>55.00</td>\n",
       "      <td>70.0</td>\n",
       "      <td>85.00</td>\n",
       "      <td>100.0</td>\n",
       "    </tr>\n",
       "    <tr>\n",
       "      <th>ANB</th>\n",
       "      <td>3000.0</td>\n",
       "      <td>3.479000</td>\n",
       "      <td>1.694260</td>\n",
       "      <td>1.0</td>\n",
       "      <td>2.00</td>\n",
       "      <td>4.0</td>\n",
       "      <td>5.00</td>\n",
       "      <td>6.0</td>\n",
       "    </tr>\n",
       "    <tr>\n",
       "      <th>Expected price</th>\n",
       "      <td>3000.0</td>\n",
       "      <td>3782.938333</td>\n",
       "      <td>567.189995</td>\n",
       "      <td>2504.0</td>\n",
       "      <td>3354.00</td>\n",
       "      <td>3771.0</td>\n",
       "      <td>4208.00</td>\n",
       "      <td>5216.0</td>\n",
       "    </tr>\n",
       "  </tbody>\n",
       "</table>\n",
       "</div>"
      ],
      "text/plain": [
       "                 count         mean         std     min      25%     50%  \\\n",
       "Id              3000.0  1500.500000  866.169729     1.0   750.75  1500.5   \n",
       "Area(total)     3000.0   325.117000   20.507742   290.0   308.00   325.0   \n",
       "Trooms          3000.0     7.021667    1.421221     5.0     6.00     7.0   \n",
       "Nbedrooms       3000.0     5.023000    1.634838     2.0     4.00     5.0   \n",
       "Nbwashrooms     3000.0     4.513667    1.715263     1.0     3.00     4.0   \n",
       "Twashrooms      3000.0     6.010667    1.786136     2.0     5.00     6.0   \n",
       "Roof(Area)      3000.0    48.980667   48.746641     0.0     0.00    71.0   \n",
       "Lawn(Area)      3000.0    95.609333   14.837388    70.0    83.00    96.0   \n",
       "Nfloors         3000.0     4.013333    1.621532     1.0     3.00     4.0   \n",
       "API             3000.0    70.190667   17.563460    40.0    55.00    70.0   \n",
       "ANB             3000.0     3.479000    1.694260     1.0     2.00     4.0   \n",
       "Expected price  3000.0  3782.938333  567.189995  2504.0  3354.00  3771.0   \n",
       "\n",
       "                    75%     max  \n",
       "Id              2250.25  3000.0  \n",
       "Area(total)      343.00   360.0  \n",
       "Trooms             8.00     9.0  \n",
       "Nbedrooms          6.00     8.0  \n",
       "Nbwashrooms        6.00     8.0  \n",
       "Twashrooms         7.00    10.0  \n",
       "Roof(Area)        96.00   120.0  \n",
       "Lawn(Area)       109.00   120.0  \n",
       "Nfloors            5.00     7.0  \n",
       "API               85.00   100.0  \n",
       "ANB                5.00     6.0  \n",
       "Expected price  4208.00  5216.0  "
      ]
     },
     "execution_count": 8,
     "metadata": {},
     "output_type": "execute_result"
    }
   ],
   "source": [
    "data.describe().T        #summary of numerical data"
   ]
  },
  {
   "cell_type": "code",
   "execution_count": 9,
   "id": "691fbb00",
   "metadata": {},
   "outputs": [
    {
     "data": {
      "text/html": [
       "<div>\n",
       "<style scoped>\n",
       "    .dataframe tbody tr th:only-of-type {\n",
       "        vertical-align: middle;\n",
       "    }\n",
       "\n",
       "    .dataframe tbody tr th {\n",
       "        vertical-align: top;\n",
       "    }\n",
       "\n",
       "    .dataframe thead th {\n",
       "        text-align: right;\n",
       "    }\n",
       "</style>\n",
       "<table border=\"1\" class=\"dataframe\">\n",
       "  <thead>\n",
       "    <tr style=\"text-align: right;\">\n",
       "      <th></th>\n",
       "      <th>count</th>\n",
       "      <th>unique</th>\n",
       "      <th>top</th>\n",
       "      <th>freq</th>\n",
       "    </tr>\n",
       "  </thead>\n",
       "  <tbody>\n",
       "    <tr>\n",
       "      <th>roof</th>\n",
       "      <td>3000</td>\n",
       "      <td>2</td>\n",
       "      <td>YES</td>\n",
       "      <td>1543</td>\n",
       "    </tr>\n",
       "    <tr>\n",
       "      <th>Grade</th>\n",
       "      <td>3000</td>\n",
       "      <td>5</td>\n",
       "      <td>D</td>\n",
       "      <td>1270</td>\n",
       "    </tr>\n",
       "  </tbody>\n",
       "</table>\n",
       "</div>"
      ],
      "text/plain": [
       "      count unique  top  freq\n",
       "roof   3000      2  YES  1543\n",
       "Grade  3000      5    D  1270"
      ]
     },
     "execution_count": 9,
     "metadata": {},
     "output_type": "execute_result"
    }
   ],
   "source": [
    "data.describe(include='object').T          #summary of object data"
   ]
  },
  {
   "cell_type": "code",
   "execution_count": 10,
   "id": "d1d32989",
   "metadata": {
    "scrolled": false
   },
   "outputs": [
    {
     "data": {
      "text/plain": [
       "Id                0\n",
       "Area(total)       0\n",
       "Trooms            0\n",
       "Nbedrooms         0\n",
       "Nbwashrooms       0\n",
       "Twashrooms        0\n",
       "roof              0\n",
       "Roof(Area)        0\n",
       "Lawn(Area)        0\n",
       "Nfloors           0\n",
       "API               0\n",
       "ANB               0\n",
       "Expected price    0\n",
       "Grade             0\n",
       "dtype: int64"
      ]
     },
     "execution_count": 10,
     "metadata": {},
     "output_type": "execute_result"
    }
   ],
   "source": [
    "data.isna().sum()          #checking for null values"
   ]
  },
  {
   "cell_type": "markdown",
   "id": "ced16759",
   "metadata": {},
   "source": [
    "### There are no null values in the data"
   ]
  },
  {
   "cell_type": "code",
   "execution_count": 11,
   "id": "43802bf2",
   "metadata": {},
   "outputs": [
    {
     "data": {
      "text/plain": [
       "Id                 int64\n",
       "Area(total)        int64\n",
       "Trooms             int64\n",
       "Nbedrooms          int64\n",
       "Nbwashrooms        int64\n",
       "Twashrooms         int64\n",
       "roof              object\n",
       "Roof(Area)         int64\n",
       "Lawn(Area)         int64\n",
       "Nfloors            int64\n",
       "API                int64\n",
       "ANB                int64\n",
       "Expected price     int64\n",
       "Grade             object\n",
       "dtype: object"
      ]
     },
     "execution_count": 11,
     "metadata": {},
     "output_type": "execute_result"
    }
   ],
   "source": [
    "data.dtypes"
   ]
  },
  {
   "cell_type": "markdown",
   "id": "569b7d88",
   "metadata": {},
   "source": [
    "### Two columns, roof and grade are categorical columns, so we have to encode them into numerical columns"
   ]
  },
  {
   "cell_type": "markdown",
   "id": "37c47ae9",
   "metadata": {},
   "source": [
    "# Label encoding"
   ]
  },
  {
   "cell_type": "code",
   "execution_count": 13,
   "id": "ab024a0a",
   "metadata": {},
   "outputs": [],
   "source": [
    "label=LabelEncoder()"
   ]
  },
  {
   "cell_type": "code",
   "execution_count": 14,
   "id": "c4735a5e",
   "metadata": {},
   "outputs": [],
   "source": [
    "data['roof_encoder']=label.fit_transform(data.roof)"
   ]
  },
  {
   "cell_type": "code",
   "execution_count": 15,
   "id": "e2c30bc0",
   "metadata": {},
   "outputs": [],
   "source": [
    "data['Grade_encode']=label.fit_transform(data.Grade)"
   ]
  },
  {
   "cell_type": "code",
   "execution_count": 16,
   "id": "24cc12d8",
   "metadata": {},
   "outputs": [
    {
     "data": {
      "text/html": [
       "<div>\n",
       "<style scoped>\n",
       "    .dataframe tbody tr th:only-of-type {\n",
       "        vertical-align: middle;\n",
       "    }\n",
       "\n",
       "    .dataframe tbody tr th {\n",
       "        vertical-align: top;\n",
       "    }\n",
       "\n",
       "    .dataframe thead th {\n",
       "        text-align: right;\n",
       "    }\n",
       "</style>\n",
       "<table border=\"1\" class=\"dataframe\">\n",
       "  <thead>\n",
       "    <tr style=\"text-align: right;\">\n",
       "      <th></th>\n",
       "      <th>Id</th>\n",
       "      <th>Area(total)</th>\n",
       "      <th>Trooms</th>\n",
       "      <th>Nbedrooms</th>\n",
       "      <th>Nbwashrooms</th>\n",
       "      <th>Twashrooms</th>\n",
       "      <th>roof</th>\n",
       "      <th>Roof(Area)</th>\n",
       "      <th>Lawn(Area)</th>\n",
       "      <th>Nfloors</th>\n",
       "      <th>API</th>\n",
       "      <th>ANB</th>\n",
       "      <th>Expected price</th>\n",
       "      <th>Grade</th>\n",
       "      <th>roof_encoder</th>\n",
       "      <th>Grade_encode</th>\n",
       "    </tr>\n",
       "  </thead>\n",
       "  <tbody>\n",
       "    <tr>\n",
       "      <th>0</th>\n",
       "      <td>1</td>\n",
       "      <td>339</td>\n",
       "      <td>6</td>\n",
       "      <td>5</td>\n",
       "      <td>4</td>\n",
       "      <td>6</td>\n",
       "      <td>NO</td>\n",
       "      <td>0</td>\n",
       "      <td>76</td>\n",
       "      <td>2</td>\n",
       "      <td>79</td>\n",
       "      <td>6</td>\n",
       "      <td>3481</td>\n",
       "      <td>D</td>\n",
       "      <td>0</td>\n",
       "      <td>3</td>\n",
       "    </tr>\n",
       "    <tr>\n",
       "      <th>1</th>\n",
       "      <td>2</td>\n",
       "      <td>358</td>\n",
       "      <td>5</td>\n",
       "      <td>4</td>\n",
       "      <td>3</td>\n",
       "      <td>4</td>\n",
       "      <td>YES</td>\n",
       "      <td>71</td>\n",
       "      <td>96</td>\n",
       "      <td>3</td>\n",
       "      <td>72</td>\n",
       "      <td>4</td>\n",
       "      <td>3510</td>\n",
       "      <td>D</td>\n",
       "      <td>1</td>\n",
       "      <td>3</td>\n",
       "    </tr>\n",
       "    <tr>\n",
       "      <th>2</th>\n",
       "      <td>3</td>\n",
       "      <td>324</td>\n",
       "      <td>7</td>\n",
       "      <td>5</td>\n",
       "      <td>4</td>\n",
       "      <td>5</td>\n",
       "      <td>YES</td>\n",
       "      <td>101</td>\n",
       "      <td>117</td>\n",
       "      <td>5</td>\n",
       "      <td>64</td>\n",
       "      <td>3</td>\n",
       "      <td>3748</td>\n",
       "      <td>C</td>\n",
       "      <td>1</td>\n",
       "      <td>2</td>\n",
       "    </tr>\n",
       "    <tr>\n",
       "      <th>3</th>\n",
       "      <td>4</td>\n",
       "      <td>330</td>\n",
       "      <td>6</td>\n",
       "      <td>4</td>\n",
       "      <td>3</td>\n",
       "      <td>5</td>\n",
       "      <td>YES</td>\n",
       "      <td>101</td>\n",
       "      <td>82</td>\n",
       "      <td>2</td>\n",
       "      <td>59</td>\n",
       "      <td>2</td>\n",
       "      <td>3134</td>\n",
       "      <td>D</td>\n",
       "      <td>1</td>\n",
       "      <td>3</td>\n",
       "    </tr>\n",
       "    <tr>\n",
       "      <th>4</th>\n",
       "      <td>5</td>\n",
       "      <td>320</td>\n",
       "      <td>7</td>\n",
       "      <td>4</td>\n",
       "      <td>4</td>\n",
       "      <td>5</td>\n",
       "      <td>NO</td>\n",
       "      <td>0</td>\n",
       "      <td>75</td>\n",
       "      <td>3</td>\n",
       "      <td>40</td>\n",
       "      <td>1</td>\n",
       "      <td>3843</td>\n",
       "      <td>D</td>\n",
       "      <td>0</td>\n",
       "      <td>3</td>\n",
       "    </tr>\n",
       "    <tr>\n",
       "      <th>...</th>\n",
       "      <td>...</td>\n",
       "      <td>...</td>\n",
       "      <td>...</td>\n",
       "      <td>...</td>\n",
       "      <td>...</td>\n",
       "      <td>...</td>\n",
       "      <td>...</td>\n",
       "      <td>...</td>\n",
       "      <td>...</td>\n",
       "      <td>...</td>\n",
       "      <td>...</td>\n",
       "      <td>...</td>\n",
       "      <td>...</td>\n",
       "      <td>...</td>\n",
       "      <td>...</td>\n",
       "      <td>...</td>\n",
       "    </tr>\n",
       "    <tr>\n",
       "      <th>2995</th>\n",
       "      <td>2996</td>\n",
       "      <td>341</td>\n",
       "      <td>9</td>\n",
       "      <td>6</td>\n",
       "      <td>5</td>\n",
       "      <td>7</td>\n",
       "      <td>YES</td>\n",
       "      <td>95</td>\n",
       "      <td>115</td>\n",
       "      <td>5</td>\n",
       "      <td>90</td>\n",
       "      <td>2</td>\n",
       "      <td>4246</td>\n",
       "      <td>B</td>\n",
       "      <td>1</td>\n",
       "      <td>1</td>\n",
       "    </tr>\n",
       "    <tr>\n",
       "      <th>2996</th>\n",
       "      <td>2997</td>\n",
       "      <td>292</td>\n",
       "      <td>9</td>\n",
       "      <td>8</td>\n",
       "      <td>7</td>\n",
       "      <td>8</td>\n",
       "      <td>YES</td>\n",
       "      <td>116</td>\n",
       "      <td>87</td>\n",
       "      <td>7</td>\n",
       "      <td>97</td>\n",
       "      <td>4</td>\n",
       "      <td>3753</td>\n",
       "      <td>A</td>\n",
       "      <td>1</td>\n",
       "      <td>0</td>\n",
       "    </tr>\n",
       "    <tr>\n",
       "      <th>2997</th>\n",
       "      <td>2998</td>\n",
       "      <td>328</td>\n",
       "      <td>7</td>\n",
       "      <td>4</td>\n",
       "      <td>3</td>\n",
       "      <td>5</td>\n",
       "      <td>NO</td>\n",
       "      <td>0</td>\n",
       "      <td>78</td>\n",
       "      <td>5</td>\n",
       "      <td>95</td>\n",
       "      <td>6</td>\n",
       "      <td>3607</td>\n",
       "      <td>D</td>\n",
       "      <td>0</td>\n",
       "      <td>3</td>\n",
       "    </tr>\n",
       "    <tr>\n",
       "      <th>2998</th>\n",
       "      <td>2999</td>\n",
       "      <td>293</td>\n",
       "      <td>9</td>\n",
       "      <td>7</td>\n",
       "      <td>7</td>\n",
       "      <td>8</td>\n",
       "      <td>NO</td>\n",
       "      <td>0</td>\n",
       "      <td>78</td>\n",
       "      <td>7</td>\n",
       "      <td>51</td>\n",
       "      <td>3</td>\n",
       "      <td>4198</td>\n",
       "      <td>B</td>\n",
       "      <td>0</td>\n",
       "      <td>1</td>\n",
       "    </tr>\n",
       "    <tr>\n",
       "      <th>2999</th>\n",
       "      <td>3000</td>\n",
       "      <td>343</td>\n",
       "      <td>7</td>\n",
       "      <td>6</td>\n",
       "      <td>6</td>\n",
       "      <td>8</td>\n",
       "      <td>NO</td>\n",
       "      <td>0</td>\n",
       "      <td>108</td>\n",
       "      <td>5</td>\n",
       "      <td>95</td>\n",
       "      <td>3</td>\n",
       "      <td>4105</td>\n",
       "      <td>C</td>\n",
       "      <td>0</td>\n",
       "      <td>2</td>\n",
       "    </tr>\n",
       "  </tbody>\n",
       "</table>\n",
       "<p>3000 rows × 16 columns</p>\n",
       "</div>"
      ],
      "text/plain": [
       "        Id  Area(total)  Trooms  Nbedrooms  Nbwashrooms  Twashrooms roof  \\\n",
       "0        1          339       6          5            4           6   NO   \n",
       "1        2          358       5          4            3           4  YES   \n",
       "2        3          324       7          5            4           5  YES   \n",
       "3        4          330       6          4            3           5  YES   \n",
       "4        5          320       7          4            4           5   NO   \n",
       "...    ...          ...     ...        ...          ...         ...  ...   \n",
       "2995  2996          341       9          6            5           7  YES   \n",
       "2996  2997          292       9          8            7           8  YES   \n",
       "2997  2998          328       7          4            3           5   NO   \n",
       "2998  2999          293       9          7            7           8   NO   \n",
       "2999  3000          343       7          6            6           8   NO   \n",
       "\n",
       "      Roof(Area)  Lawn(Area)  Nfloors  API  ANB  Expected price Grade  \\\n",
       "0              0          76        2   79    6            3481     D   \n",
       "1             71          96        3   72    4            3510     D   \n",
       "2            101         117        5   64    3            3748     C   \n",
       "3            101          82        2   59    2            3134     D   \n",
       "4              0          75        3   40    1            3843     D   \n",
       "...          ...         ...      ...  ...  ...             ...   ...   \n",
       "2995          95         115        5   90    2            4246     B   \n",
       "2996         116          87        7   97    4            3753     A   \n",
       "2997           0          78        5   95    6            3607     D   \n",
       "2998           0          78        7   51    3            4198     B   \n",
       "2999           0         108        5   95    3            4105     C   \n",
       "\n",
       "      roof_encoder  Grade_encode  \n",
       "0                0             3  \n",
       "1                1             3  \n",
       "2                1             2  \n",
       "3                1             3  \n",
       "4                0             3  \n",
       "...            ...           ...  \n",
       "2995             1             1  \n",
       "2996             1             0  \n",
       "2997             0             3  \n",
       "2998             0             1  \n",
       "2999             0             2  \n",
       "\n",
       "[3000 rows x 16 columns]"
      ]
     },
     "execution_count": 16,
     "metadata": {},
     "output_type": "execute_result"
    }
   ],
   "source": [
    "data"
   ]
  },
  {
   "cell_type": "markdown",
   "id": "468c7a61",
   "metadata": {},
   "source": [
    "# EDA"
   ]
  },
  {
   "cell_type": "markdown",
   "id": "7000ab4a",
   "metadata": {},
   "source": [
    "## Univariate"
   ]
  },
  {
   "cell_type": "code",
   "execution_count": 21,
   "id": "f0270b23",
   "metadata": {},
   "outputs": [
    {
     "data": {
      "image/png": "[encoded data removed]",
      "text/plain": [
       "<Figure size 432x288 with 1 Axes>"
      ]
     },
     "metadata": {
      "needs_background": "light"
     },
     "output_type": "display_data"
    }
   ],
   "source": [
    "sns.boxplot(data['Area(total)'])\n",
    "plt.title(\"Distribution of area of houses\")\n",
    "plt.show()"
   ]
  },
  {
   "cell_type": "markdown",
   "id": "98b399d0",
   "metadata": {},
   "source": [
    "### Most of the houses have Area in the range of 305 - 345"
   ]
  },
  {
   "cell_type": "code",
   "execution_count": 23,
   "id": "f9dd2dbe",
   "metadata": {},
   "outputs": [
    {
     "data": {
      "image/png": "[encoded data removed]",
      "text/plain": [
       "<Figure size 432x288 with 1 Axes>"
      ]
     },
     "metadata": {
      "needs_background": "light"
     },
     "output_type": "display_data"
    }
   ],
   "source": [
    "sns.countplot(data.Trooms)\n",
    "plt.title(\"Total number of rooms\")\n",
    "plt.show()"
   ]
  },
  {
   "cell_type": "markdown",
   "id": "f7e955e7",
   "metadata": {},
   "source": [
    "### The number of rooms is uniformly spread across the number of houses. Most houses have 9 rooms"
   ]
  },
  {
   "cell_type": "code",
   "execution_count": 26,
   "id": "a3e1eef5",
   "metadata": {},
   "outputs": [
    {
     "data": {
      "image/png": "[encoded data removed]",
      "text/plain": [
       "<Figure size 432x288 with 1 Axes>"
      ]
     },
     "metadata": {
      "needs_background": "light"
     },
     "output_type": "display_data"
    }
   ],
   "source": [
    "sns.countplot(data.Nbedrooms)\n",
    "plt.title(\"Number of bathrooms\")\n",
    "plt.show()"
   ]
  },
  {
   "cell_type": "markdown",
   "id": "4423171a",
   "metadata": {},
   "source": [
    "### Most houses have 4 bedrooms. The most popular number of bedrooms are 4,5 and 6"
   ]
  },
  {
   "cell_type": "code",
   "execution_count": 30,
   "id": "4ae08695",
   "metadata": {},
   "outputs": [
    {
     "data": {
      "image/png": "[encoded data removed]",
      "text/plain": [
       "<Figure size 432x288 with 1 Axes>"
      ]
     },
     "metadata": {
      "needs_background": "light"
     },
     "output_type": "display_data"
    }
   ],
   "source": [
    "sns.countplot(data.Nbwashrooms)\n",
    "plt.title(\"Number of attached washrooms with bedroom\")\n",
    "plt.show()"
   ]
  },
  {
   "cell_type": "markdown",
   "id": "7cb10c01",
   "metadata": {},
   "source": [
    "### Most houses have 4 washrooms attached with bedroom. The most popular number of washrooms are 3,4 and 5"
   ]
  },
  {
   "cell_type": "code",
   "execution_count": 29,
   "id": "61b7d087",
   "metadata": {},
   "outputs": [
    {
     "data": {
      "image/png": "[encoded data removed]",
      "text/plain": [
       "<Figure size 432x288 with 1 Axes>"
      ]
     },
     "metadata": {
      "needs_background": "light"
     },
     "output_type": "display_data"
    }
   ],
   "source": [
    "sns.countplot(data.Twashrooms)\n",
    "plt.title(\"Number of washrooms\")\n",
    "plt.show()"
   ]
  },
  {
   "cell_type": "markdown",
   "id": "fb69bcbc",
   "metadata": {},
   "source": [
    "### Most houses have 5 washrooms. The most popular number of washrooms are 5,6 and 7"
   ]
  },
  {
   "cell_type": "code",
   "execution_count": 31,
   "id": "cb82be56",
   "metadata": {},
   "outputs": [
    {
     "data": {
      "image/png": "[encoded data removed]",
      "text/plain": [
       "<Figure size 720x360 with 1 Axes>"
      ]
     },
     "metadata": {},
     "output_type": "display_data"
    }
   ],
   "source": [
    "labels=data['roof'].unique()\n",
    "def label_function(val):\n",
    "    return f'{val / 100 * len(data):.0f}\\n{val:.0f}%'\n",
    "fig, ax = plt.subplots(ncols=1, figsize=(10, 5))\n",
    "data.groupby(data['roof']).size().plot(kind='pie', autopct=label_function, textprops={'fontsize': 10}, ax=ax)\n",
    "ax.set_ylabel('roof', size=15)\n",
    "# show plot\n",
    "plt.show()"
   ]
  },
  {
   "cell_type": "markdown",
   "id": "0038952a",
   "metadata": {},
   "source": [
    "### There are almost same number of houses with and without roof"
   ]
  },
  {
   "cell_type": "code",
   "execution_count": 33,
   "id": "3aaeea83",
   "metadata": {},
   "outputs": [
    {
     "data": {
      "image/png": "[encoded data removed]",
      "text/plain": [
       "<Figure size 432x288 with 1 Axes>"
      ]
     },
     "metadata": {
      "needs_background": "light"
     },
     "output_type": "display_data"
    }
   ],
   "source": [
    "sns.boxplot(data['Roof(Area)'])\n",
    "plt.title(\"Distribution of roof area of houses\")\n",
    "plt.show()"
   ]
  },
  {
   "cell_type": "markdown",
   "id": "1da53c7c",
   "metadata": {},
   "source": [
    "### The roof area of houses is mostly in between 0 - 100"
   ]
  },
  {
   "cell_type": "code",
   "execution_count": 36,
   "id": "82fa21d2",
   "metadata": {},
   "outputs": [
    {
     "data": {
      "image/png": "[encoded data removed]",
      "text/plain": [
       "<Figure size 432x288 with 1 Axes>"
      ]
     },
     "metadata": {
      "needs_background": "light"
     },
     "output_type": "display_data"
    }
   ],
   "source": [
    "sns.histplot(data['Lawn(Area)'])\n",
    "plt.title(\"Distribution of lawn area of houses\")\n",
    "plt.show()"
   ]
  },
  {
   "cell_type": "code",
   "execution_count": 39,
   "id": "c68c63d6",
   "metadata": {},
   "outputs": [
    {
     "data": {
      "image/png": "[encoded data removed]",
      "text/plain": [
       "<Figure size 720x360 with 1 Axes>"
      ]
     },
     "metadata": {},
     "output_type": "display_data"
    }
   ],
   "source": [
    "labels=data['Nfloors'].unique()\n",
    "def label_function(val):\n",
    "    return f'{val / 100 * len(data):.0f}\\n{val:.0f}%'\n",
    "fig, ax = plt.subplots(ncols=1, figsize=(10, 5))\n",
    "data.groupby(data['Nfloors']).size().plot(kind='pie', autopct=label_function, textprops={'fontsize': 10}, ax=ax)\n",
    "ax.set_ylabel('floors', size=15)\n",
    "# show plot\n",
    "plt.show()"
   ]
  },
  {
   "cell_type": "markdown",
   "id": "427bdd31",
   "metadata": {},
   "source": [
    "### Most houses have either 3,4 or 5 floors"
   ]
  },
  {
   "cell_type": "code",
   "execution_count": 41,
   "id": "626e7754",
   "metadata": {},
   "outputs": [
    {
     "data": {
      "image/png": "[encoded data removed]",
      "text/plain": [
       "<Figure size 432x288 with 1 Axes>"
      ]
     },
     "metadata": {
      "needs_background": "light"
     },
     "output_type": "display_data"
    }
   ],
   "source": [
    "sns.boxplot(data['API'])\n",
    "plt.title(\"Distribution of API of houses\")\n",
    "plt.show()"
   ]
  },
  {
   "cell_type": "markdown",
   "id": "7c9e52a1",
   "metadata": {},
   "source": [
    "### The API for a house is usually in the range of 55-85"
   ]
  },
  {
   "cell_type": "code",
   "execution_count": 43,
   "id": "5e6dc71b",
   "metadata": {},
   "outputs": [
    {
     "data": {
      "image/png": "[encoded data removed]",
      "text/plain": [
       "<Figure size 432x288 with 1 Axes>"
      ]
     },
     "metadata": {
      "needs_background": "light"
     },
     "output_type": "display_data"
    }
   ],
   "source": [
    "sns.boxplot(data['ANB'])\n",
    "plt.title(\"Distribution of ANB of houses\")\n",
    "plt.show()"
   ]
  },
  {
   "cell_type": "markdown",
   "id": "d5f238ea",
   "metadata": {},
   "source": [
    "### The ANB is in the range of 2-5 for most houses"
   ]
  },
  {
   "cell_type": "code",
   "execution_count": 45,
   "id": "7408980a",
   "metadata": {},
   "outputs": [
    {
     "data": {
      "image/png": "[encoded data removed]",
      "text/plain": [
       "<Figure size 432x288 with 1 Axes>"
      ]
     },
     "metadata": {
      "needs_background": "light"
     },
     "output_type": "display_data"
    }
   ],
   "source": [
    "sns.histplot(data['Expected price'])\n",
    "plt.title(\"Distribution of prices of houses\")\n",
    "plt.show()"
   ]
  },
  {
   "cell_type": "markdown",
   "id": "bc4cd4b6",
   "metadata": {},
   "source": [
    "### The distributaion of prices of houses is shown in the above histogram. The price mostly ranges from 3500-4500"
   ]
  },
  {
   "cell_type": "code",
   "execution_count": 46,
   "id": "9118ed0a",
   "metadata": {},
   "outputs": [
    {
     "data": {
      "image/png": "[encoded data removed]",
      "text/plain": [
       "<Figure size 720x360 with 1 Axes>"
      ]
     },
     "metadata": {},
     "output_type": "display_data"
    }
   ],
   "source": [
    "labels=data['Grade'].unique()\n",
    "def label_function(val):\n",
    "    return f'{val / 100 * len(data):.0f}\\n{val:.0f}%'\n",
    "fig, ax = plt.subplots(ncols=1, figsize=(10, 5))\n",
    "data.groupby(data['Grade']).size().plot(kind='pie', autopct=label_function, textprops={'fontsize': 10}, ax=ax)\n",
    "ax.set_ylabel('Grade', size=15)\n",
    "# show plot\n",
    "plt.show()"
   ]
  },
  {
   "cell_type": "markdown",
   "id": "24c11639",
   "metadata": {},
   "source": [
    "### Most of the houses are of grade D. There are least number of houses with grade E"
   ]
  },
  {
   "cell_type": "markdown",
   "id": "d080cde5",
   "metadata": {},
   "source": [
    "# Bivariate"
   ]
  },
  {
   "cell_type": "code",
   "execution_count": 48,
   "id": "c3b3676d",
   "metadata": {},
   "outputs": [
    {
     "data": {
      "image/png": "[encoded data removed]",
      "text/plain": [
       "<Figure size 432x288 with 1 Axes>"
      ]
     },
     "metadata": {
      "needs_background": "light"
     },
     "output_type": "display_data"
    }
   ],
   "source": [
    "sns.barplot(data.Grade,data['Area(total)'])\n",
    "plt.title(\"Grade  vs area\")\n",
    "plt.show()"
   ]
  },
  {
   "cell_type": "markdown",
   "id": "ff78c8be",
   "metadata": {},
   "source": [
    "### All the grades of houses have almost the same Area in total"
   ]
  },
  {
   "cell_type": "code",
   "execution_count": 50,
   "id": "8aa06e07",
   "metadata": {},
   "outputs": [
    {
     "data": {
      "image/png": "[encoded data removed]",
      "text/plain": [
       "<Figure size 432x288 with 1 Axes>"
      ]
     },
     "metadata": {
      "needs_background": "light"
     },
     "output_type": "display_data"
    }
   ],
   "source": [
    "sns.barplot(data.Grade,data['Trooms'])\n",
    "plt.title(\"Grade  vs Total rooms\")\n",
    "plt.show()"
   ]
  },
  {
   "cell_type": "markdown",
   "id": "6e2f343a",
   "metadata": {},
   "source": [
    "### We can see that the houses with Grade A have higher number of rooms. The number of rooms decreases as the grade lowers"
   ]
  },
  {
   "cell_type": "code",
   "execution_count": 51,
   "id": "18c0d78f",
   "metadata": {},
   "outputs": [
    {
     "data": {
      "image/png": "[encoded data removed]",
      "text/plain": [
       "<Figure size 432x288 with 1 Axes>"
      ]
     },
     "metadata": {
      "needs_background": "light"
     },
     "output_type": "display_data"
    }
   ],
   "source": [
    "sns.barplot(data.Grade,data['Nbedrooms'])\n",
    "plt.title(\"Grade  vs Bedrooms\")\n",
    "plt.show()"
   ]
  },
  {
   "cell_type": "markdown",
   "id": "f38ce438",
   "metadata": {},
   "source": [
    "### We can see that the houses with Grade A have higher number of bedrooms. The number of bedrooms decreases as the grade lowers"
   ]
  },
  {
   "cell_type": "code",
   "execution_count": 52,
   "id": "62992eaa",
   "metadata": {},
   "outputs": [
    {
     "data": {
      "image/png": "[encoded data removed]",
      "text/plain": [
       "<Figure size 432x288 with 1 Axes>"
      ]
     },
     "metadata": {
      "needs_background": "light"
     },
     "output_type": "display_data"
    }
   ],
   "source": [
    "sns.barplot(data.Grade,data['Twashrooms'])\n",
    "plt.title(\"Grade  vs washrooms\")\n",
    "plt.show()"
   ]
  },
  {
   "cell_type": "markdown",
   "id": "f91b32c3",
   "metadata": {},
   "source": [
    "### We can see that the houses with Grade A have higher number of washrooms. The number of washrooms decreases as the grade lowers"
   ]
  },
  {
   "cell_type": "code",
   "execution_count": 59,
   "id": "392f794b",
   "metadata": {},
   "outputs": [
    {
     "data": {
      "image/png": "[encoded data removed]",
      "text/plain": [
       "<Figure size 432x288 with 1 Axes>"
      ]
     },
     "metadata": {
      "needs_background": "light"
     },
     "output_type": "display_data"
    }
   ],
   "source": [
    "sns.countplot(data.Grade,hue=data.roof)\n",
    "plt.title(\"Grade  vs Roof\")\n",
    "plt.show()"
   ]
  },
  {
   "cell_type": "markdown",
   "id": "59e4c665",
   "metadata": {},
   "source": [
    "### We can observe that houses with roof and without roof are almost the same"
   ]
  },
  {
   "cell_type": "code",
   "execution_count": 60,
   "id": "c51fe769",
   "metadata": {},
   "outputs": [
    {
     "data": {
      "image/png": "[encoded data removed]",
      "text/plain": [
       "<Figure size 432x288 with 1 Axes>"
      ]
     },
     "metadata": {
      "needs_background": "light"
     },
     "output_type": "display_data"
    }
   ],
   "source": [
    "sns.barplot(data.Grade,data['Roof(Area)'])\n",
    "plt.title(\"Grade  vs Roof area\")\n",
    "plt.show()"
   ]
  },
  {
   "cell_type": "markdown",
   "id": "c6562def",
   "metadata": {},
   "source": [
    "### We can see that the Grade A houses have most roof area and the roof area decreases with grade"
   ]
  },
  {
   "cell_type": "code",
   "execution_count": 62,
   "id": "cf3e2fb8",
   "metadata": {},
   "outputs": [
    {
     "data": {
      "image/png": "[encoded data removed]",
      "text/plain": [
       "<Figure size 432x288 with 1 Axes>"
      ]
     },
     "metadata": {
      "needs_background": "light"
     },
     "output_type": "display_data"
    }
   ],
   "source": [
    "sns.barplot(data.Grade,data['Lawn(Area)'])\n",
    "plt.title(\"Grade  vs Lawn area\")\n",
    "plt.show()"
   ]
  },
  {
   "cell_type": "markdown",
   "id": "5334bbbd",
   "metadata": {},
   "source": [
    "### The lawn area is equally spread across all the grades of houses"
   ]
  },
  {
   "cell_type": "code",
   "execution_count": 63,
   "id": "bf662676",
   "metadata": {},
   "outputs": [
    {
     "data": {
      "image/png": "[encoded data removed]",
      "text/plain": [
       "<Figure size 432x288 with 1 Axes>"
      ]
     },
     "metadata": {
      "needs_background": "light"
     },
     "output_type": "display_data"
    }
   ],
   "source": [
    "sns.barplot(data.Grade,data['Nfloors'])\n",
    "plt.title(\"Grade  vs Floors\")\n",
    "plt.show()"
   ]
  },
  {
   "cell_type": "markdown",
   "id": "4a243597",
   "metadata": {},
   "source": [
    "### Grade A houses have highest number of floors. The number of floors decrease with the grade of the house"
   ]
  },
  {
   "cell_type": "code",
   "execution_count": 64,
   "id": "d5228a69",
   "metadata": {},
   "outputs": [
    {
     "data": {
      "image/png": "[encoded data removed]",
      "text/plain": [
       "<Figure size 432x288 with 1 Axes>"
      ]
     },
     "metadata": {
      "needs_background": "light"
     },
     "output_type": "display_data"
    }
   ],
   "source": [
    "sns.barplot(data.Grade,data['Expected price'])\n",
    "plt.title(\"Grade  vs Price\")\n",
    "plt.show()"
   ]
  },
  {
   "cell_type": "markdown",
   "id": "89715344",
   "metadata": {},
   "source": [
    "### The price of houses increases as the grade increases. Grade A houses are the costiest"
   ]
  },
  {
   "cell_type": "markdown",
   "id": "02a7b6be",
   "metadata": {},
   "source": [
    "# Multivariate"
   ]
  },
  {
   "cell_type": "code",
   "execution_count": 67,
   "id": "abaa2376",
   "metadata": {},
   "outputs": [
    {
     "data": {
      "image/png": "[encoded data removed]",
      "text/plain": [
       "<Figure size 1800x576 with 1 Axes>"
      ]
     },
     "metadata": {
      "needs_background": "light"
     },
     "output_type": "display_data"
    }
   ],
   "source": [
    "plt.figure(figsize=(25,8))\n",
    "sns.barplot(data.Grade,data['Expected price'],hue=data.roof)\n",
    "plt.title(\"Item_Type vs sales vs fat content\")\n",
    "plt.show()"
   ]
  },
  {
   "cell_type": "markdown",
   "id": "00f344ed",
   "metadata": {},
   "source": [
    "### All the houses with roof and no roofs under each grade have almost the same price"
   ]
  },
  {
   "cell_type": "markdown",
   "id": "4f6c2c18",
   "metadata": {},
   "source": [
    "# Correlation"
   ]
  },
  {
   "cell_type": "code",
   "execution_count": 73,
   "id": "395408ce",
   "metadata": {},
   "outputs": [
    {
     "data": {
      "text/html": [
       "<style type=\"text/css\">\n",
       "#T_bc636_row0_col0, #T_bc636_row1_col1, #T_bc636_row2_col2, #T_bc636_row3_col3, #T_bc636_row4_col4, #T_bc636_row5_col5, #T_bc636_row6_col6, #T_bc636_row7_col7, #T_bc636_row8_col8, #T_bc636_row9_col9, #T_bc636_row10_col10, #T_bc636_row11_col11, #T_bc636_row12_col12, #T_bc636_row13_col13 {\n",
       "  background-color: #800026;\n",
       "  color: #f1f1f1;\n",
       "}\n",
       "#T_bc636_row0_col1, #T_bc636_row1_col12, #T_bc636_row8_col12, #T_bc636_row11_col6 {\n",
       "  background-color: #ffe997;\n",
       "  color: #000000;\n",
       "}\n",
       "#T_bc636_row0_col2, #T_bc636_row0_col3, #T_bc636_row6_col5, #T_bc636_row9_col3, #T_bc636_row9_col4, #T_bc636_row12_col5 {\n",
       "  background-color: #fd9740;\n",
       "  color: #000000;\n",
       "}\n",
       "#T_bc636_row0_col4, #T_bc636_row9_col5, #T_bc636_row10_col5 {\n",
       "  background-color: #fd9941;\n",
       "  color: #000000;\n",
       "}\n",
       "#T_bc636_row0_col5, #T_bc636_row1_col8, #T_bc636_row10_col8 {\n",
       "  background-color: #fd9c42;\n",
       "  color: #000000;\n",
       "}\n",
       "#T_bc636_row0_col6, #T_bc636_row1_col6, #T_bc636_row8_col6 {\n",
       "  background-color: #ffe895;\n",
       "  color: #000000;\n",
       "}\n",
       "#T_bc636_row0_col7, #T_bc636_row2_col7, #T_bc636_row4_col7, #T_bc636_row5_col7 {\n",
       "  background-color: #fff7b9;\n",
       "  color: #000000;\n",
       "}\n",
       "#T_bc636_row0_col8, #T_bc636_row0_col11, #T_bc636_row6_col11, #T_bc636_row12_col11 {\n",
       "  background-color: #fea044;\n",
       "  color: #000000;\n",
       "}\n",
       "#T_bc636_row0_col9, #T_bc636_row8_col9 {\n",
       "  background-color: #fff3ae;\n",
       "  color: #000000;\n",
       "}\n",
       "#T_bc636_row0_col10, #T_bc636_row1_col10, #T_bc636_row4_col13, #T_bc636_row5_col0 {\n",
       "  background-color: #fffdc8;\n",
       "  color: #000000;\n",
       "}\n",
       "#T_bc636_row0_col12, #T_bc636_row7_col1, #T_bc636_row9_col1, #T_bc636_row11_col12 {\n",
       "  background-color: #ffe998;\n",
       "  color: #000000;\n",
       "}\n",
       "#T_bc636_row0_col13, #T_bc636_row7_col3, #T_bc636_row7_col4, #T_bc636_row10_col4 {\n",
       "  background-color: #fd9841;\n",
       "  color: #000000;\n",
       "}\n",
       "#T_bc636_row1_col0, #T_bc636_row2_col0, #T_bc636_row3_col0, #T_bc636_row4_col0, #T_bc636_row7_col0 {\n",
       "  background-color: #fffdc6;\n",
       "  color: #000000;\n",
       "}\n",
       "#T_bc636_row1_col2, #T_bc636_row6_col3, #T_bc636_row12_col2 {\n",
       "  background-color: #fd933f;\n",
       "  color: #000000;\n",
       "}\n",
       "#T_bc636_row1_col3, #T_bc636_row6_col2 {\n",
       "  background-color: #fd923e;\n",
       "  color: #000000;\n",
       "}\n",
       "#T_bc636_row1_col4, #T_bc636_row6_col4, #T_bc636_row12_col3, #T_bc636_row12_col4 {\n",
       "  background-color: #fd953f;\n",
       "  color: #000000;\n",
       "}\n",
       "#T_bc636_row1_col5, #T_bc636_row7_col2, #T_bc636_row9_col2, #T_bc636_row10_col2, #T_bc636_row10_col3 {\n",
       "  background-color: #fd9640;\n",
       "  color: #000000;\n",
       "}\n",
       "#T_bc636_row1_col7, #T_bc636_row8_col10, #T_bc636_row8_col13, #T_bc636_row12_col7 {\n",
       "  background-color: #fff9bd;\n",
       "  color: #000000;\n",
       "}\n",
       "#T_bc636_row1_col9, #T_bc636_row3_col9 {\n",
       "  background-color: #fff2ac;\n",
       "  color: #000000;\n",
       "}\n",
       "#T_bc636_row1_col11 {\n",
       "  background-color: #fc612f;\n",
       "  color: #f1f1f1;\n",
       "}\n",
       "#T_bc636_row1_col13 {\n",
       "  background-color: #feb34d;\n",
       "  color: #000000;\n",
       "}\n",
       "#T_bc636_row2_col1, #T_bc636_row2_col12, #T_bc636_row3_col6, #T_bc636_row4_col12, #T_bc636_row5_col12, #T_bc636_row6_col1, #T_bc636_row8_col1 {\n",
       "  background-color: #ffe793;\n",
       "  color: #000000;\n",
       "}\n",
       "#T_bc636_row2_col3, #T_bc636_row3_col2, #T_bc636_row8_col2 {\n",
       "  background-color: #a20026;\n",
       "  color: #f1f1f1;\n",
       "}\n",
       "#T_bc636_row2_col4, #T_bc636_row4_col2 {\n",
       "  background-color: #ac0026;\n",
       "  color: #f1f1f1;\n",
       "}\n",
       "#T_bc636_row2_col5, #T_bc636_row5_col2 {\n",
       "  background-color: #b60026;\n",
       "  color: #f1f1f1;\n",
       "}\n",
       "#T_bc636_row2_col6, #T_bc636_row4_col6, #T_bc636_row5_col6 {\n",
       "  background-color: #ffe691;\n",
       "  color: #000000;\n",
       "}\n",
       "#T_bc636_row2_col8 {\n",
       "  background-color: #a40026;\n",
       "  color: #f1f1f1;\n",
       "}\n",
       "#T_bc636_row2_col9 {\n",
       "  background-color: #fff1ab;\n",
       "  color: #000000;\n",
       "}\n",
       "#T_bc636_row2_col10, #T_bc636_row4_col10 {\n",
       "  background-color: #fffac1;\n",
       "  color: #000000;\n",
       "}\n",
       "#T_bc636_row2_col11 {\n",
       "  background-color: #b20026;\n",
       "  color: #f1f1f1;\n",
       "}\n",
       "#T_bc636_row2_col13, #T_bc636_row8_col0, #T_bc636_row9_col10, #T_bc636_row10_col0, #T_bc636_row13_col1, #T_bc636_row13_col2, #T_bc636_row13_col3, #T_bc636_row13_col4, #T_bc636_row13_col5, #T_bc636_row13_col6, #T_bc636_row13_col7, #T_bc636_row13_col8, #T_bc636_row13_col9, #T_bc636_row13_col10, #T_bc636_row13_col11, #T_bc636_row13_col12 {\n",
       "  background-color: #ffffcc;\n",
       "  color: #000000;\n",
       "}\n",
       "#T_bc636_row3_col1, #T_bc636_row4_col1 {\n",
       "  background-color: #ffe58f;\n",
       "  color: #000000;\n",
       "}\n",
       "#T_bc636_row3_col4 {\n",
       "  background-color: #8b0026;\n",
       "  color: #f1f1f1;\n",
       "}\n",
       "#T_bc636_row3_col5, #T_bc636_row5_col3 {\n",
       "  background-color: #950026;\n",
       "  color: #f1f1f1;\n",
       "}\n",
       "#T_bc636_row3_col7, #T_bc636_row7_col10 {\n",
       "  background-color: #fff8bb;\n",
       "  color: #000000;\n",
       "}\n",
       "#T_bc636_row3_col8 {\n",
       "  background-color: #c20325;\n",
       "  color: #f1f1f1;\n",
       "}\n",
       "#T_bc636_row3_col10, #T_bc636_row5_col10, #T_bc636_row6_col7, #T_bc636_row11_col10 {\n",
       "  background-color: #fff9be;\n",
       "  color: #000000;\n",
       "}\n",
       "#T_bc636_row3_col11, #T_bc636_row4_col8, #T_bc636_row8_col11 {\n",
       "  background-color: #c80723;\n",
       "  color: #f1f1f1;\n",
       "}\n",
       "#T_bc636_row3_col12, #T_bc636_row12_col1 {\n",
       "  background-color: #ffe794;\n",
       "  color: #000000;\n",
       "}\n",
       "#T_bc636_row3_col13, #T_bc636_row12_col10, #T_bc636_row13_col0 {\n",
       "  background-color: #fffecb;\n",
       "  color: #000000;\n",
       "}\n",
       "#T_bc636_row4_col3, #T_bc636_row4_col5, #T_bc636_row5_col4, #T_bc636_row6_col12, #T_bc636_row12_col6 {\n",
       "  background-color: #8a0026;\n",
       "  color: #f1f1f1;\n",
       "}\n",
       "#T_bc636_row4_col9, #T_bc636_row5_col9, #T_bc636_row7_col9 {\n",
       "  background-color: #fff1a9;\n",
       "  color: #000000;\n",
       "}\n",
       "#T_bc636_row4_col11, #T_bc636_row5_col8 {\n",
       "  background-color: #cd0b22;\n",
       "  color: #f1f1f1;\n",
       "}\n",
       "#T_bc636_row5_col1 {\n",
       "  background-color: #ffe48d;\n",
       "  color: #000000;\n",
       "}\n",
       "#T_bc636_row5_col11 {\n",
       "  background-color: #d30f20;\n",
       "  color: #f1f1f1;\n",
       "}\n",
       "#T_bc636_row5_col13 {\n",
       "  background-color: #fffbc2;\n",
       "  color: #000000;\n",
       "}\n",
       "#T_bc636_row6_col0, #T_bc636_row12_col0 {\n",
       "  background-color: #fffcc4;\n",
       "  color: #000000;\n",
       "}\n",
       "#T_bc636_row6_col8, #T_bc636_row7_col8, #T_bc636_row12_col8 {\n",
       "  background-color: #fd9d43;\n",
       "  color: #000000;\n",
       "}\n",
       "#T_bc636_row6_col9, #T_bc636_row12_col9 {\n",
       "  background-color: #fff3af;\n",
       "  color: #000000;\n",
       "}\n",
       "#T_bc636_row6_col10, #T_bc636_row9_col0 {\n",
       "  background-color: #fffec9;\n",
       "  color: #000000;\n",
       "}\n",
       "#T_bc636_row6_col13, #T_bc636_row12_col13 {\n",
       "  background-color: #feb24c;\n",
       "  color: #000000;\n",
       "}\n",
       "#T_bc636_row7_col5, #T_bc636_row10_col13 {\n",
       "  background-color: #fd9a42;\n",
       "  color: #000000;\n",
       "}\n",
       "#T_bc636_row7_col6, #T_bc636_row7_col12, #T_bc636_row9_col6 {\n",
       "  background-color: #ffeb9c;\n",
       "  color: #000000;\n",
       "}\n",
       "#T_bc636_row7_col11, #T_bc636_row7_col13, #T_bc636_row9_col8, #T_bc636_row10_col11 {\n",
       "  background-color: #fd9f44;\n",
       "  color: #000000;\n",
       "}\n",
       "#T_bc636_row8_col3 {\n",
       "  background-color: #c10325;\n",
       "  color: #f1f1f1;\n",
       "}\n",
       "#T_bc636_row8_col4, #T_bc636_row11_col3 {\n",
       "  background-color: #c50624;\n",
       "  color: #f1f1f1;\n",
       "}\n",
       "#T_bc636_row8_col5 {\n",
       "  background-color: #cb0a22;\n",
       "  color: #f1f1f1;\n",
       "}\n",
       "#T_bc636_row8_col7, #T_bc636_row9_col7, #T_bc636_row11_col7, #T_bc636_row11_col13 {\n",
       "  background-color: #fff7b7;\n",
       "  color: #000000;\n",
       "}\n",
       "#T_bc636_row9_col11 {\n",
       "  background-color: #fd9e43;\n",
       "  color: #000000;\n",
       "}\n",
       "#T_bc636_row9_col12 {\n",
       "  background-color: #ffec9d;\n",
       "  color: #000000;\n",
       "}\n",
       "#T_bc636_row9_col13 {\n",
       "  background-color: #fea747;\n",
       "  color: #000000;\n",
       "}\n",
       "#T_bc636_row10_col1 {\n",
       "  background-color: #ffea9b;\n",
       "  color: #000000;\n",
       "}\n",
       "#T_bc636_row10_col6 {\n",
       "  background-color: #ffec9f;\n",
       "  color: #000000;\n",
       "}\n",
       "#T_bc636_row10_col7 {\n",
       "  background-color: #fff5b3;\n",
       "  color: #000000;\n",
       "}\n",
       "#T_bc636_row10_col9 {\n",
       "  background-color: #fff5b5;\n",
       "  color: #000000;\n",
       "}\n",
       "#T_bc636_row10_col12 {\n",
       "  background-color: #ffeda0;\n",
       "  color: #000000;\n",
       "}\n",
       "#T_bc636_row11_col0 {\n",
       "  background-color: #fffcc5;\n",
       "  color: #000000;\n",
       "}\n",
       "#T_bc636_row11_col1 {\n",
       "  background-color: #feaf4b;\n",
       "  color: #000000;\n",
       "}\n",
       "#T_bc636_row11_col2 {\n",
       "  background-color: #ae0026;\n",
       "  color: #f1f1f1;\n",
       "}\n",
       "#T_bc636_row11_col4 {\n",
       "  background-color: #ca0923;\n",
       "  color: #f1f1f1;\n",
       "}\n",
       "#T_bc636_row11_col5 {\n",
       "  background-color: #d00d21;\n",
       "  color: #f1f1f1;\n",
       "}\n",
       "#T_bc636_row11_col8 {\n",
       "  background-color: #c70723;\n",
       "  color: #f1f1f1;\n",
       "}\n",
       "#T_bc636_row11_col9 {\n",
       "  background-color: #fff0a8;\n",
       "  color: #000000;\n",
       "}\n",
       "</style>\n",
       "<table id=\"T_bc636\">\n",
       "  <thead>\n",
       "    <tr>\n",
       "      <th class=\"blank level0\" >&nbsp;</th>\n",
       "      <th id=\"T_bc636_level0_col0\" class=\"col_heading level0 col0\" >Id</th>\n",
       "      <th id=\"T_bc636_level0_col1\" class=\"col_heading level0 col1\" >Area(total)</th>\n",
       "      <th id=\"T_bc636_level0_col2\" class=\"col_heading level0 col2\" >Trooms</th>\n",
       "      <th id=\"T_bc636_level0_col3\" class=\"col_heading level0 col3\" >Nbedrooms</th>\n",
       "      <th id=\"T_bc636_level0_col4\" class=\"col_heading level0 col4\" >Nbwashrooms</th>\n",
       "      <th id=\"T_bc636_level0_col5\" class=\"col_heading level0 col5\" >Twashrooms</th>\n",
       "      <th id=\"T_bc636_level0_col6\" class=\"col_heading level0 col6\" >Roof(Area)</th>\n",
       "      <th id=\"T_bc636_level0_col7\" class=\"col_heading level0 col7\" >Lawn(Area)</th>\n",
       "      <th id=\"T_bc636_level0_col8\" class=\"col_heading level0 col8\" >Nfloors</th>\n",
       "      <th id=\"T_bc636_level0_col9\" class=\"col_heading level0 col9\" >API</th>\n",
       "      <th id=\"T_bc636_level0_col10\" class=\"col_heading level0 col10\" >ANB</th>\n",
       "      <th id=\"T_bc636_level0_col11\" class=\"col_heading level0 col11\" >Expected price</th>\n",
       "      <th id=\"T_bc636_level0_col12\" class=\"col_heading level0 col12\" >roof_encoder</th>\n",
       "      <th id=\"T_bc636_level0_col13\" class=\"col_heading level0 col13\" >Grade_encode</th>\n",
       "    </tr>\n",
       "  </thead>\n",
       "  <tbody>\n",
       "    <tr>\n",
       "      <th id=\"T_bc636_level0_row0\" class=\"row_heading level0 row0\" >Id</th>\n",
       "      <td id=\"T_bc636_row0_col0\" class=\"data row0 col0\" >1.000000</td>\n",
       "      <td id=\"T_bc636_row0_col1\" class=\"data row0 col1\" >0.003186</td>\n",
       "      <td id=\"T_bc636_row0_col2\" class=\"data row0 col2\" >0.003165</td>\n",
       "      <td id=\"T_bc636_row0_col3\" class=\"data row0 col3\" >0.004814</td>\n",
       "      <td id=\"T_bc636_row0_col4\" class=\"data row0 col4\" >0.003496</td>\n",
       "      <td id=\"T_bc636_row0_col5\" class=\"data row0 col5\" >0.001092</td>\n",
       "      <td id=\"T_bc636_row0_col6\" class=\"data row0 col6\" >0.013046</td>\n",
       "      <td id=\"T_bc636_row0_col7\" class=\"data row0 col7\" >0.006309</td>\n",
       "      <td id=\"T_bc636_row0_col8\" class=\"data row0 col8\" >-0.010939</td>\n",
       "      <td id=\"T_bc636_row0_col9\" class=\"data row0 col9\" >-0.003739</td>\n",
       "      <td id=\"T_bc636_row0_col10\" class=\"data row0 col10\" >-0.013219</td>\n",
       "      <td id=\"T_bc636_row0_col11\" class=\"data row0 col11\" >0.009216</td>\n",
       "      <td id=\"T_bc636_row0_col12\" class=\"data row0 col12\" >0.011059</td>\n",
       "      <td id=\"T_bc636_row0_col13\" class=\"data row0 col13\" >-0.006074</td>\n",
       "    </tr>\n",
       "    <tr>\n",
       "      <th id=\"T_bc636_level0_row1\" class=\"row_heading level0 row1\" >Area(total)</th>\n",
       "      <td id=\"T_bc636_row1_col0\" class=\"data row1 col0\" >0.003186</td>\n",
       "      <td id=\"T_bc636_row1_col1\" class=\"data row1 col1\" >1.000000</td>\n",
       "      <td id=\"T_bc636_row1_col2\" class=\"data row1 col2\" >0.019041</td>\n",
       "      <td id=\"T_bc636_row1_col3\" class=\"data row1 col3\" >0.031328</td>\n",
       "      <td id=\"T_bc636_row1_col4\" class=\"data row1 col4\" >0.031819</td>\n",
       "      <td id=\"T_bc636_row1_col5\" class=\"data row1 col5\" >0.038509</td>\n",
       "      <td id=\"T_bc636_row1_col6\" class=\"data row1 col6\" >0.017029</td>\n",
       "      <td id=\"T_bc636_row1_col7\" class=\"data row1 col7\" >-0.002118</td>\n",
       "      <td id=\"T_bc636_row1_col8\" class=\"data row1 col8\" >0.016819</td>\n",
       "      <td id=\"T_bc636_row1_col9\" class=\"data row1 col9\" >-0.000182</td>\n",
       "      <td id=\"T_bc636_row1_col10\" class=\"data row1 col10\" >-0.010846</td>\n",
       "      <td id=\"T_bc636_row1_col11\" class=\"data row1 col11\" >0.274507</td>\n",
       "      <td id=\"T_bc636_row1_col12\" class=\"data row1 col12\" >0.014229</td>\n",
       "      <td id=\"T_bc636_row1_col13\" class=\"data row1 col13\" >-0.177332</td>\n",
       "    </tr>\n",
       "    <tr>\n",
       "      <th id=\"T_bc636_level0_row2\" class=\"row_heading level0 row2\" >Trooms</th>\n",
       "      <td id=\"T_bc636_row2_col0\" class=\"data row2 col0\" >0.003165</td>\n",
       "      <td id=\"T_bc636_row2_col1\" class=\"data row2 col1\" >0.019041</td>\n",
       "      <td id=\"T_bc636_row2_col2\" class=\"data row2 col2\" >1.000000</td>\n",
       "      <td id=\"T_bc636_row2_col3\" class=\"data row2 col3\" >0.865878</td>\n",
       "      <td id=\"T_bc636_row2_col4\" class=\"data row2 col4\" >0.827072</td>\n",
       "      <td id=\"T_bc636_row2_col5\" class=\"data row2 col5\" >0.794870</td>\n",
       "      <td id=\"T_bc636_row2_col6\" class=\"data row2 col6\" >0.026550</td>\n",
       "      <td id=\"T_bc636_row2_col7\" class=\"data row2 col7\" >0.009557</td>\n",
       "      <td id=\"T_bc636_row2_col8\" class=\"data row2 col8\" >0.862367</td>\n",
       "      <td id=\"T_bc636_row2_col9\" class=\"data row2 col9\" >0.007502</td>\n",
       "      <td id=\"T_bc636_row2_col10\" class=\"data row2 col10\" >0.007321</td>\n",
       "      <td id=\"T_bc636_row2_col11\" class=\"data row2 col11\" >0.820170</td>\n",
       "      <td id=\"T_bc636_row2_col12\" class=\"data row2 col12\" >0.025142</td>\n",
       "      <td id=\"T_bc636_row2_col13\" class=\"data row2 col13\" >-0.875145</td>\n",
       "    </tr>\n",
       "    <tr>\n",
       "      <th id=\"T_bc636_level0_row3\" class=\"row_heading level0 row3\" >Nbedrooms</th>\n",
       "      <td id=\"T_bc636_row3_col0\" class=\"data row3 col0\" >0.004814</td>\n",
       "      <td id=\"T_bc636_row3_col1\" class=\"data row3 col1\" >0.031328</td>\n",
       "      <td id=\"T_bc636_row3_col2\" class=\"data row3 col2\" >0.865878</td>\n",
       "      <td id=\"T_bc636_row3_col3\" class=\"data row3 col3\" >1.000000</td>\n",
       "      <td id=\"T_bc636_row3_col4\" class=\"data row3 col4\" >0.956578</td>\n",
       "      <td id=\"T_bc636_row3_col5\" class=\"data row3 col5\" >0.919158</td>\n",
       "      <td id=\"T_bc636_row3_col6\" class=\"data row3 col6\" >0.025073</td>\n",
       "      <td id=\"T_bc636_row3_col7\" class=\"data row3 col7\" >0.000054</td>\n",
       "      <td id=\"T_bc636_row3_col8\" class=\"data row3 col8\" >0.742132</td>\n",
       "      <td id=\"T_bc636_row3_col9\" class=\"data row3 col9\" >0.002820</td>\n",
       "      <td id=\"T_bc636_row3_col10\" class=\"data row3 col10\" >0.015403</td>\n",
       "      <td id=\"T_bc636_row3_col11\" class=\"data row3 col11\" >0.715687</td>\n",
       "      <td id=\"T_bc636_row3_col12\" class=\"data row3 col12\" >0.023058</td>\n",
       "      <td id=\"T_bc636_row3_col13\" class=\"data row3 col13\" >-0.865389</td>\n",
       "    </tr>\n",
       "    <tr>\n",
       "      <th id=\"T_bc636_level0_row4\" class=\"row_heading level0 row4\" >Nbwashrooms</th>\n",
       "      <td id=\"T_bc636_row4_col0\" class=\"data row4 col0\" >0.003496</td>\n",
       "      <td id=\"T_bc636_row4_col1\" class=\"data row4 col1\" >0.031819</td>\n",
       "      <td id=\"T_bc636_row4_col2\" class=\"data row4 col2\" >0.827072</td>\n",
       "      <td id=\"T_bc636_row4_col3\" class=\"data row4 col3\" >0.956578</td>\n",
       "      <td id=\"T_bc636_row4_col4\" class=\"data row4 col4\" >1.000000</td>\n",
       "      <td id=\"T_bc636_row4_col5\" class=\"data row4 col5\" >0.960007</td>\n",
       "      <td id=\"T_bc636_row4_col6\" class=\"data row4 col6\" >0.028832</td>\n",
       "      <td id=\"T_bc636_row4_col7\" class=\"data row4 col7\" >0.006617</td>\n",
       "      <td id=\"T_bc636_row4_col8\" class=\"data row4 col8\" >0.711936</td>\n",
       "      <td id=\"T_bc636_row4_col9\" class=\"data row4 col9\" >0.011413</td>\n",
       "      <td id=\"T_bc636_row4_col10\" class=\"data row4 col10\" >0.008475</td>\n",
       "      <td id=\"T_bc636_row4_col11\" class=\"data row4 col11\" >0.683659</td>\n",
       "      <td id=\"T_bc636_row4_col12\" class=\"data row4 col12\" >0.028549</td>\n",
       "      <td id=\"T_bc636_row4_col13\" class=\"data row4 col13\" >-0.847319</td>\n",
       "    </tr>\n",
       "    <tr>\n",
       "      <th id=\"T_bc636_level0_row5\" class=\"row_heading level0 row5\" >Twashrooms</th>\n",
       "      <td id=\"T_bc636_row5_col0\" class=\"data row5 col0\" >0.001092</td>\n",
       "      <td id=\"T_bc636_row5_col1\" class=\"data row5 col1\" >0.038509</td>\n",
       "      <td id=\"T_bc636_row5_col2\" class=\"data row5 col2\" >0.794870</td>\n",
       "      <td id=\"T_bc636_row5_col3\" class=\"data row5 col3\" >0.919158</td>\n",
       "      <td id=\"T_bc636_row5_col4\" class=\"data row5 col4\" >0.960007</td>\n",
       "      <td id=\"T_bc636_row5_col5\" class=\"data row5 col5\" >1.000000</td>\n",
       "      <td id=\"T_bc636_row5_col6\" class=\"data row5 col6\" >0.028763</td>\n",
       "      <td id=\"T_bc636_row5_col7\" class=\"data row5 col7\" >0.008386</td>\n",
       "      <td id=\"T_bc636_row5_col8\" class=\"data row5 col8\" >0.684966</td>\n",
       "      <td id=\"T_bc636_row5_col9\" class=\"data row5 col9\" >0.012361</td>\n",
       "      <td id=\"T_bc636_row5_col10\" class=\"data row5 col10\" >0.016492</td>\n",
       "      <td id=\"T_bc636_row5_col11\" class=\"data row5 col11\" >0.654627</td>\n",
       "      <td id=\"T_bc636_row5_col12\" class=\"data row5 col12\" >0.028212</td>\n",
       "      <td id=\"T_bc636_row5_col13\" class=\"data row5 col13\" >-0.819280</td>\n",
       "    </tr>\n",
       "    <tr>\n",
       "      <th id=\"T_bc636_level0_row6\" class=\"row_heading level0 row6\" >Roof(Area)</th>\n",
       "      <td id=\"T_bc636_row6_col0\" class=\"data row6 col0\" >0.013046</td>\n",
       "      <td id=\"T_bc636_row6_col1\" class=\"data row6 col1\" >0.017029</td>\n",
       "      <td id=\"T_bc636_row6_col2\" class=\"data row6 col2\" >0.026550</td>\n",
       "      <td id=\"T_bc636_row6_col3\" class=\"data row6 col3\" >0.025073</td>\n",
       "      <td id=\"T_bc636_row6_col4\" class=\"data row6 col4\" >0.028832</td>\n",
       "      <td id=\"T_bc636_row6_col5\" class=\"data row6 col5\" >0.028763</td>\n",
       "      <td id=\"T_bc636_row6_col6\" class=\"data row6 col6\" >1.000000</td>\n",
       "      <td id=\"T_bc636_row6_col7\" class=\"data row6 col7\" >-0.006831</td>\n",
       "      <td id=\"T_bc636_row6_col8\" class=\"data row6 col8\" >0.013840</td>\n",
       "      <td id=\"T_bc636_row6_col9\" class=\"data row6 col9\" >-0.006331</td>\n",
       "      <td id=\"T_bc636_row6_col10\" class=\"data row6 col10\" >-0.015529</td>\n",
       "      <td id=\"T_bc636_row6_col11\" class=\"data row6 col11\" >0.009346</td>\n",
       "      <td id=\"T_bc636_row6_col12\" class=\"data row6 col12\" >0.976561</td>\n",
       "      <td id=\"T_bc636_row6_col13\" class=\"data row6 col13\" >-0.170259</td>\n",
       "    </tr>\n",
       "    <tr>\n",
       "      <th id=\"T_bc636_level0_row7\" class=\"row_heading level0 row7\" >Lawn(Area)</th>\n",
       "      <td id=\"T_bc636_row7_col0\" class=\"data row7 col0\" >0.006309</td>\n",
       "      <td id=\"T_bc636_row7_col1\" class=\"data row7 col1\" >-0.002118</td>\n",
       "      <td id=\"T_bc636_row7_col2\" class=\"data row7 col2\" >0.009557</td>\n",
       "      <td id=\"T_bc636_row7_col3\" class=\"data row7 col3\" >0.000054</td>\n",
       "      <td id=\"T_bc636_row7_col4\" class=\"data row7 col4\" >0.006617</td>\n",
       "      <td id=\"T_bc636_row7_col5\" class=\"data row7 col5\" >0.008386</td>\n",
       "      <td id=\"T_bc636_row7_col6\" class=\"data row7 col6\" >-0.006831</td>\n",
       "      <td id=\"T_bc636_row7_col7\" class=\"data row7 col7\" >1.000000</td>\n",
       "      <td id=\"T_bc636_row7_col8\" class=\"data row7 col8\" >0.013771</td>\n",
       "      <td id=\"T_bc636_row7_col9\" class=\"data row7 col9\" >0.011477</td>\n",
       "      <td id=\"T_bc636_row7_col10\" class=\"data row7 col10\" >0.025751</td>\n",
       "      <td id=\"T_bc636_row7_col11\" class=\"data row7 col11\" >0.011561</td>\n",
       "      <td id=\"T_bc636_row7_col12\" class=\"data row7 col12\" >-0.004640</td>\n",
       "      <td id=\"T_bc636_row7_col13\" class=\"data row7 col13\" >-0.051200</td>\n",
       "    </tr>\n",
       "    <tr>\n",
       "      <th id=\"T_bc636_level0_row8\" class=\"row_heading level0 row8\" >Nfloors</th>\n",
       "      <td id=\"T_bc636_row8_col0\" class=\"data row8 col0\" >-0.010939</td>\n",
       "      <td id=\"T_bc636_row8_col1\" class=\"data row8 col1\" >0.016819</td>\n",
       "      <td id=\"T_bc636_row8_col2\" class=\"data row8 col2\" >0.862367</td>\n",
       "      <td id=\"T_bc636_row8_col3\" class=\"data row8 col3\" >0.742132</td>\n",
       "      <td id=\"T_bc636_row8_col4\" class=\"data row8 col4\" >0.711936</td>\n",
       "      <td id=\"T_bc636_row8_col5\" class=\"data row8 col5\" >0.684966</td>\n",
       "      <td id=\"T_bc636_row8_col6\" class=\"data row8 col6\" >0.013840</td>\n",
       "      <td id=\"T_bc636_row8_col7\" class=\"data row8 col7\" >0.013771</td>\n",
       "      <td id=\"T_bc636_row8_col8\" class=\"data row8 col8\" >1.000000</td>\n",
       "      <td id=\"T_bc636_row8_col9\" class=\"data row8 col9\" >-0.002255</td>\n",
       "      <td id=\"T_bc636_row8_col10\" class=\"data row8 col10\" >0.020614</td>\n",
       "      <td id=\"T_bc636_row8_col11\" class=\"data row8 col11\" >0.714598</td>\n",
       "      <td id=\"T_bc636_row8_col12\" class=\"data row8 col12\" >0.014985</td>\n",
       "      <td id=\"T_bc636_row8_col13\" class=\"data row8 col13\" >-0.787623</td>\n",
       "    </tr>\n",
       "    <tr>\n",
       "      <th id=\"T_bc636_level0_row9\" class=\"row_heading level0 row9\" >API</th>\n",
       "      <td id=\"T_bc636_row9_col0\" class=\"data row9 col0\" >-0.003739</td>\n",
       "      <td id=\"T_bc636_row9_col1\" class=\"data row9 col1\" >-0.000182</td>\n",
       "      <td id=\"T_bc636_row9_col2\" class=\"data row9 col2\" >0.007502</td>\n",
       "      <td id=\"T_bc636_row9_col3\" class=\"data row9 col3\" >0.002820</td>\n",
       "      <td id=\"T_bc636_row9_col4\" class=\"data row9 col4\" >0.011413</td>\n",
       "      <td id=\"T_bc636_row9_col5\" class=\"data row9 col5\" >0.012361</td>\n",
       "      <td id=\"T_bc636_row9_col6\" class=\"data row9 col6\" >-0.006331</td>\n",
       "      <td id=\"T_bc636_row9_col7\" class=\"data row9 col7\" >0.011477</td>\n",
       "      <td id=\"T_bc636_row9_col8\" class=\"data row9 col8\" >-0.002255</td>\n",
       "      <td id=\"T_bc636_row9_col9\" class=\"data row9 col9\" >1.000000</td>\n",
       "      <td id=\"T_bc636_row9_col10\" class=\"data row9 col10\" >-0.025694</td>\n",
       "      <td id=\"T_bc636_row9_col11\" class=\"data row9 col11\" >0.016575</td>\n",
       "      <td id=\"T_bc636_row9_col12\" class=\"data row9 col12\" >-0.007983</td>\n",
       "      <td id=\"T_bc636_row9_col13\" class=\"data row9 col13\" >-0.099000</td>\n",
       "    </tr>\n",
       "    <tr>\n",
       "      <th id=\"T_bc636_level0_row10\" class=\"row_heading level0 row10\" >ANB</th>\n",
       "      <td id=\"T_bc636_row10_col0\" class=\"data row10 col0\" >-0.013219</td>\n",
       "      <td id=\"T_bc636_row10_col1\" class=\"data row10 col1\" >-0.010846</td>\n",
       "      <td id=\"T_bc636_row10_col2\" class=\"data row10 col2\" >0.007321</td>\n",
       "      <td id=\"T_bc636_row10_col3\" class=\"data row10 col3\" >0.015403</td>\n",
       "      <td id=\"T_bc636_row10_col4\" class=\"data row10 col4\" >0.008475</td>\n",
       "      <td id=\"T_bc636_row10_col5\" class=\"data row10 col5\" >0.016492</td>\n",
       "      <td id=\"T_bc636_row10_col6\" class=\"data row10 col6\" >-0.015529</td>\n",
       "      <td id=\"T_bc636_row10_col7\" class=\"data row10 col7\" >0.025751</td>\n",
       "      <td id=\"T_bc636_row10_col8\" class=\"data row10 col8\" >0.020614</td>\n",
       "      <td id=\"T_bc636_row10_col9\" class=\"data row10 col9\" >-0.025694</td>\n",
       "      <td id=\"T_bc636_row10_col10\" class=\"data row10 col10\" >1.000000</td>\n",
       "      <td id=\"T_bc636_row10_col11\" class=\"data row10 col11\" >0.015583</td>\n",
       "      <td id=\"T_bc636_row10_col12\" class=\"data row10 col12\" >-0.020511</td>\n",
       "      <td id=\"T_bc636_row10_col13\" class=\"data row10 col13\" >-0.024025</td>\n",
       "    </tr>\n",
       "    <tr>\n",
       "      <th id=\"T_bc636_level0_row11\" class=\"row_heading level0 row11\" >Expected price</th>\n",
       "      <td id=\"T_bc636_row11_col0\" class=\"data row11 col0\" >0.009216</td>\n",
       "      <td id=\"T_bc636_row11_col1\" class=\"data row11 col1\" >0.274507</td>\n",
       "      <td id=\"T_bc636_row11_col2\" class=\"data row11 col2\" >0.820170</td>\n",
       "      <td id=\"T_bc636_row11_col3\" class=\"data row11 col3\" >0.715687</td>\n",
       "      <td id=\"T_bc636_row11_col4\" class=\"data row11 col4\" >0.683659</td>\n",
       "      <td id=\"T_bc636_row11_col5\" class=\"data row11 col5\" >0.654627</td>\n",
       "      <td id=\"T_bc636_row11_col6\" class=\"data row11 col6\" >0.009346</td>\n",
       "      <td id=\"T_bc636_row11_col7\" class=\"data row11 col7\" >0.011561</td>\n",
       "      <td id=\"T_bc636_row11_col8\" class=\"data row11 col8\" >0.714598</td>\n",
       "      <td id=\"T_bc636_row11_col9\" class=\"data row11 col9\" >0.016575</td>\n",
       "      <td id=\"T_bc636_row11_col10\" class=\"data row11 col10\" >0.015583</td>\n",
       "      <td id=\"T_bc636_row11_col11\" class=\"data row11 col11\" >1.000000</td>\n",
       "      <td id=\"T_bc636_row11_col12\" class=\"data row11 col12\" >0.007880</td>\n",
       "      <td id=\"T_bc636_row11_col13\" class=\"data row11 col13\" >-0.760820</td>\n",
       "    </tr>\n",
       "    <tr>\n",
       "      <th id=\"T_bc636_level0_row12\" class=\"row_heading level0 row12\" >roof_encoder</th>\n",
       "      <td id=\"T_bc636_row12_col0\" class=\"data row12 col0\" >0.011059</td>\n",
       "      <td id=\"T_bc636_row12_col1\" class=\"data row12 col1\" >0.014229</td>\n",
       "      <td id=\"T_bc636_row12_col2\" class=\"data row12 col2\" >0.025142</td>\n",
       "      <td id=\"T_bc636_row12_col3\" class=\"data row12 col3\" >0.023058</td>\n",
       "      <td id=\"T_bc636_row12_col4\" class=\"data row12 col4\" >0.028549</td>\n",
       "      <td id=\"T_bc636_row12_col5\" class=\"data row12 col5\" >0.028212</td>\n",
       "      <td id=\"T_bc636_row12_col6\" class=\"data row12 col6\" >0.976561</td>\n",
       "      <td id=\"T_bc636_row12_col7\" class=\"data row12 col7\" >-0.004640</td>\n",
       "      <td id=\"T_bc636_row12_col8\" class=\"data row12 col8\" >0.014985</td>\n",
       "      <td id=\"T_bc636_row12_col9\" class=\"data row12 col9\" >-0.007983</td>\n",
       "      <td id=\"T_bc636_row12_col10\" class=\"data row12 col10\" >-0.020511</td>\n",
       "      <td id=\"T_bc636_row12_col11\" class=\"data row12 col11\" >0.007880</td>\n",
       "      <td id=\"T_bc636_row12_col12\" class=\"data row12 col12\" >1.000000</td>\n",
       "      <td id=\"T_bc636_row12_col13\" class=\"data row12 col13\" >-0.166635</td>\n",
       "    </tr>\n",
       "    <tr>\n",
       "      <th id=\"T_bc636_level0_row13\" class=\"row_heading level0 row13\" >Grade_encode</th>\n",
       "      <td id=\"T_bc636_row13_col0\" class=\"data row13 col0\" >-0.006074</td>\n",
       "      <td id=\"T_bc636_row13_col1\" class=\"data row13 col1\" >-0.177332</td>\n",
       "      <td id=\"T_bc636_row13_col2\" class=\"data row13 col2\" >-0.875145</td>\n",
       "      <td id=\"T_bc636_row13_col3\" class=\"data row13 col3\" >-0.865389</td>\n",
       "      <td id=\"T_bc636_row13_col4\" class=\"data row13 col4\" >-0.847319</td>\n",
       "      <td id=\"T_bc636_row13_col5\" class=\"data row13 col5\" >-0.819280</td>\n",
       "      <td id=\"T_bc636_row13_col6\" class=\"data row13 col6\" >-0.170259</td>\n",
       "      <td id=\"T_bc636_row13_col7\" class=\"data row13 col7\" >-0.051200</td>\n",
       "      <td id=\"T_bc636_row13_col8\" class=\"data row13 col8\" >-0.787623</td>\n",
       "      <td id=\"T_bc636_row13_col9\" class=\"data row13 col9\" >-0.099000</td>\n",
       "      <td id=\"T_bc636_row13_col10\" class=\"data row13 col10\" >-0.024025</td>\n",
       "      <td id=\"T_bc636_row13_col11\" class=\"data row13 col11\" >-0.760820</td>\n",
       "      <td id=\"T_bc636_row13_col12\" class=\"data row13 col12\" >-0.166635</td>\n",
       "      <td id=\"T_bc636_row13_col13\" class=\"data row13 col13\" >1.000000</td>\n",
       "    </tr>\n",
       "  </tbody>\n",
       "</table>\n"
      ],
      "text/plain": [
       "<pandas.io.formats.style.Styler at 0x21d2a02bf10>"
      ]
     },
     "execution_count": 73,
     "metadata": {},
     "output_type": "execute_result"
    }
   ],
   "source": [
    "corr=data.corr()                #correlation with heatmap\n",
    "corr.style.background_gradient(cmap='YlOrRd')"
   ]
  },
  {
   "cell_type": "markdown",
   "id": "d9e5f46f",
   "metadata": {},
   "source": [
    "### Based on the correlation values of each column with the Grade we select the features with the best correlation to obtain a good model to predict the correct Grade of the house"
   ]
  },
  {
   "cell_type": "markdown",
   "id": "f14aa336",
   "metadata": {},
   "source": [
    "### The columns we select for modelling are Grade_encode,Area(total),Trooms,Nbedrooms,Nbwashrooms,Twashrooms,roof_encoder,Roof(Area),Nfloors,Expected price"
   ]
  },
  {
   "cell_type": "code",
   "execution_count": 77,
   "id": "69481fa9",
   "metadata": {},
   "outputs": [],
   "source": [
    "d1=data[['Grade_encode','Area(total)','Trooms','Nbedrooms','Nbwashrooms','Twashrooms','roof_encoder','Roof(Area)','Nfloors','Expected price']]"
   ]
  },
  {
   "cell_type": "code",
   "execution_count": 78,
   "id": "10c92f06",
   "metadata": {},
   "outputs": [
    {
     "data": {
      "text/html": [
       "<div>\n",
       "<style scoped>\n",
       "    .dataframe tbody tr th:only-of-type {\n",
       "        vertical-align: middle;\n",
       "    }\n",
       "\n",
       "    .dataframe tbody tr th {\n",
       "        vertical-align: top;\n",
       "    }\n",
       "\n",
       "    .dataframe thead th {\n",
       "        text-align: right;\n",
       "    }\n",
       "</style>\n",
       "<table border=\"1\" class=\"dataframe\">\n",
       "  <thead>\n",
       "    <tr style=\"text-align: right;\">\n",
       "      <th></th>\n",
       "      <th>Grade_encode</th>\n",
       "      <th>Area(total)</th>\n",
       "      <th>Trooms</th>\n",
       "      <th>Nbedrooms</th>\n",
       "      <th>Nbwashrooms</th>\n",
       "      <th>Twashrooms</th>\n",
       "      <th>roof_encoder</th>\n",
       "      <th>Roof(Area)</th>\n",
       "      <th>Nfloors</th>\n",
       "      <th>Expected price</th>\n",
       "    </tr>\n",
       "  </thead>\n",
       "  <tbody>\n",
       "    <tr>\n",
       "      <th>0</th>\n",
       "      <td>3</td>\n",
       "      <td>339</td>\n",
       "      <td>6</td>\n",
       "      <td>5</td>\n",
       "      <td>4</td>\n",
       "      <td>6</td>\n",
       "      <td>0</td>\n",
       "      <td>0</td>\n",
       "      <td>2</td>\n",
       "      <td>3481</td>\n",
       "    </tr>\n",
       "    <tr>\n",
       "      <th>1</th>\n",
       "      <td>3</td>\n",
       "      <td>358</td>\n",
       "      <td>5</td>\n",
       "      <td>4</td>\n",
       "      <td>3</td>\n",
       "      <td>4</td>\n",
       "      <td>1</td>\n",
       "      <td>71</td>\n",
       "      <td>3</td>\n",
       "      <td>3510</td>\n",
       "    </tr>\n",
       "    <tr>\n",
       "      <th>2</th>\n",
       "      <td>2</td>\n",
       "      <td>324</td>\n",
       "      <td>7</td>\n",
       "      <td>5</td>\n",
       "      <td>4</td>\n",
       "      <td>5</td>\n",
       "      <td>1</td>\n",
       "      <td>101</td>\n",
       "      <td>5</td>\n",
       "      <td>3748</td>\n",
       "    </tr>\n",
       "    <tr>\n",
       "      <th>3</th>\n",
       "      <td>3</td>\n",
       "      <td>330</td>\n",
       "      <td>6</td>\n",
       "      <td>4</td>\n",
       "      <td>3</td>\n",
       "      <td>5</td>\n",
       "      <td>1</td>\n",
       "      <td>101</td>\n",
       "      <td>2</td>\n",
       "      <td>3134</td>\n",
       "    </tr>\n",
       "    <tr>\n",
       "      <th>4</th>\n",
       "      <td>3</td>\n",
       "      <td>320</td>\n",
       "      <td>7</td>\n",
       "      <td>4</td>\n",
       "      <td>4</td>\n",
       "      <td>5</td>\n",
       "      <td>0</td>\n",
       "      <td>0</td>\n",
       "      <td>3</td>\n",
       "      <td>3843</td>\n",
       "    </tr>\n",
       "    <tr>\n",
       "      <th>...</th>\n",
       "      <td>...</td>\n",
       "      <td>...</td>\n",
       "      <td>...</td>\n",
       "      <td>...</td>\n",
       "      <td>...</td>\n",
       "      <td>...</td>\n",
       "      <td>...</td>\n",
       "      <td>...</td>\n",
       "      <td>...</td>\n",
       "      <td>...</td>\n",
       "    </tr>\n",
       "    <tr>\n",
       "      <th>2995</th>\n",
       "      <td>1</td>\n",
       "      <td>341</td>\n",
       "      <td>9</td>\n",
       "      <td>6</td>\n",
       "      <td>5</td>\n",
       "      <td>7</td>\n",
       "      <td>1</td>\n",
       "      <td>95</td>\n",
       "      <td>5</td>\n",
       "      <td>4246</td>\n",
       "    </tr>\n",
       "    <tr>\n",
       "      <th>2996</th>\n",
       "      <td>0</td>\n",
       "      <td>292</td>\n",
       "      <td>9</td>\n",
       "      <td>8</td>\n",
       "      <td>7</td>\n",
       "      <td>8</td>\n",
       "      <td>1</td>\n",
       "      <td>116</td>\n",
       "      <td>7</td>\n",
       "      <td>3753</td>\n",
       "    </tr>\n",
       "    <tr>\n",
       "      <th>2997</th>\n",
       "      <td>3</td>\n",
       "      <td>328</td>\n",
       "      <td>7</td>\n",
       "      <td>4</td>\n",
       "      <td>3</td>\n",
       "      <td>5</td>\n",
       "      <td>0</td>\n",
       "      <td>0</td>\n",
       "      <td>5</td>\n",
       "      <td>3607</td>\n",
       "    </tr>\n",
       "    <tr>\n",
       "      <th>2998</th>\n",
       "      <td>1</td>\n",
       "      <td>293</td>\n",
       "      <td>9</td>\n",
       "      <td>7</td>\n",
       "      <td>7</td>\n",
       "      <td>8</td>\n",
       "      <td>0</td>\n",
       "      <td>0</td>\n",
       "      <td>7</td>\n",
       "      <td>4198</td>\n",
       "    </tr>\n",
       "    <tr>\n",
       "      <th>2999</th>\n",
       "      <td>2</td>\n",
       "      <td>343</td>\n",
       "      <td>7</td>\n",
       "      <td>6</td>\n",
       "      <td>6</td>\n",
       "      <td>8</td>\n",
       "      <td>0</td>\n",
       "      <td>0</td>\n",
       "      <td>5</td>\n",
       "      <td>4105</td>\n",
       "    </tr>\n",
       "  </tbody>\n",
       "</table>\n",
       "<p>3000 rows × 10 columns</p>\n",
       "</div>"
      ],
      "text/plain": [
       "      Grade_encode  Area(total)  Trooms  Nbedrooms  Nbwashrooms  Twashrooms  \\\n",
       "0                3          339       6          5            4           6   \n",
       "1                3          358       5          4            3           4   \n",
       "2                2          324       7          5            4           5   \n",
       "3                3          330       6          4            3           5   \n",
       "4                3          320       7          4            4           5   \n",
       "...            ...          ...     ...        ...          ...         ...   \n",
       "2995             1          341       9          6            5           7   \n",
       "2996             0          292       9          8            7           8   \n",
       "2997             3          328       7          4            3           5   \n",
       "2998             1          293       9          7            7           8   \n",
       "2999             2          343       7          6            6           8   \n",
       "\n",
       "      roof_encoder  Roof(Area)  Nfloors  Expected price  \n",
       "0                0           0        2            3481  \n",
       "1                1          71        3            3510  \n",
       "2                1         101        5            3748  \n",
       "3                1         101        2            3134  \n",
       "4                0           0        3            3843  \n",
       "...            ...         ...      ...             ...  \n",
       "2995             1          95        5            4246  \n",
       "2996             1         116        7            3753  \n",
       "2997             0           0        5            3607  \n",
       "2998             0           0        7            4198  \n",
       "2999             0           0        5            4105  \n",
       "\n",
       "[3000 rows x 10 columns]"
      ]
     },
     "execution_count": 78,
     "metadata": {},
     "output_type": "execute_result"
    }
   ],
   "source": [
    "d1"
   ]
  },
  {
   "cell_type": "markdown",
   "id": "e0380b48",
   "metadata": {},
   "source": [
    "# Data scaling"
   ]
  },
  {
   "cell_type": "code",
   "execution_count": 81,
   "id": "00cd4fd4",
   "metadata": {},
   "outputs": [],
   "source": [
    "scale=MinMaxScaler()"
   ]
  },
  {
   "cell_type": "code",
   "execution_count": 86,
   "id": "773ae407",
   "metadata": {},
   "outputs": [],
   "source": [
    "scaled_data=pd.DataFrame(scale.fit_transform(d1.drop(columns='Grade_encode')),columns=d1.drop(columns='Grade_encode').columns)"
   ]
  },
  {
   "cell_type": "code",
   "execution_count": 87,
   "id": "3719ad89",
   "metadata": {},
   "outputs": [
    {
     "data": {
      "text/html": [
       "<div>\n",
       "<style scoped>\n",
       "    .dataframe tbody tr th:only-of-type {\n",
       "        vertical-align: middle;\n",
       "    }\n",
       "\n",
       "    .dataframe tbody tr th {\n",
       "        vertical-align: top;\n",
       "    }\n",
       "\n",
       "    .dataframe thead th {\n",
       "        text-align: right;\n",
       "    }\n",
       "</style>\n",
       "<table border=\"1\" class=\"dataframe\">\n",
       "  <thead>\n",
       "    <tr style=\"text-align: right;\">\n",
       "      <th></th>\n",
       "      <th>Area(total)</th>\n",
       "      <th>Trooms</th>\n",
       "      <th>Nbedrooms</th>\n",
       "      <th>Nbwashrooms</th>\n",
       "      <th>Twashrooms</th>\n",
       "      <th>roof_encoder</th>\n",
       "      <th>Roof(Area)</th>\n",
       "      <th>Nfloors</th>\n",
       "      <th>Expected price</th>\n",
       "    </tr>\n",
       "  </thead>\n",
       "  <tbody>\n",
       "    <tr>\n",
       "      <th>0</th>\n",
       "      <td>0.700000</td>\n",
       "      <td>0.25</td>\n",
       "      <td>0.500000</td>\n",
       "      <td>0.428571</td>\n",
       "      <td>0.500</td>\n",
       "      <td>0.0</td>\n",
       "      <td>0.000000</td>\n",
       "      <td>0.166667</td>\n",
       "      <td>0.360251</td>\n",
       "    </tr>\n",
       "    <tr>\n",
       "      <th>1</th>\n",
       "      <td>0.971429</td>\n",
       "      <td>0.00</td>\n",
       "      <td>0.333333</td>\n",
       "      <td>0.285714</td>\n",
       "      <td>0.250</td>\n",
       "      <td>1.0</td>\n",
       "      <td>0.591667</td>\n",
       "      <td>0.333333</td>\n",
       "      <td>0.370944</td>\n",
       "    </tr>\n",
       "    <tr>\n",
       "      <th>2</th>\n",
       "      <td>0.485714</td>\n",
       "      <td>0.50</td>\n",
       "      <td>0.500000</td>\n",
       "      <td>0.428571</td>\n",
       "      <td>0.375</td>\n",
       "      <td>1.0</td>\n",
       "      <td>0.841667</td>\n",
       "      <td>0.666667</td>\n",
       "      <td>0.458702</td>\n",
       "    </tr>\n",
       "    <tr>\n",
       "      <th>3</th>\n",
       "      <td>0.571429</td>\n",
       "      <td>0.25</td>\n",
       "      <td>0.333333</td>\n",
       "      <td>0.285714</td>\n",
       "      <td>0.375</td>\n",
       "      <td>1.0</td>\n",
       "      <td>0.841667</td>\n",
       "      <td>0.166667</td>\n",
       "      <td>0.232301</td>\n",
       "    </tr>\n",
       "    <tr>\n",
       "      <th>4</th>\n",
       "      <td>0.428571</td>\n",
       "      <td>0.50</td>\n",
       "      <td>0.333333</td>\n",
       "      <td>0.428571</td>\n",
       "      <td>0.375</td>\n",
       "      <td>0.0</td>\n",
       "      <td>0.000000</td>\n",
       "      <td>0.333333</td>\n",
       "      <td>0.493732</td>\n",
       "    </tr>\n",
       "    <tr>\n",
       "      <th>...</th>\n",
       "      <td>...</td>\n",
       "      <td>...</td>\n",
       "      <td>...</td>\n",
       "      <td>...</td>\n",
       "      <td>...</td>\n",
       "      <td>...</td>\n",
       "      <td>...</td>\n",
       "      <td>...</td>\n",
       "      <td>...</td>\n",
       "    </tr>\n",
       "    <tr>\n",
       "      <th>2995</th>\n",
       "      <td>0.728571</td>\n",
       "      <td>1.00</td>\n",
       "      <td>0.666667</td>\n",
       "      <td>0.571429</td>\n",
       "      <td>0.625</td>\n",
       "      <td>1.0</td>\n",
       "      <td>0.791667</td>\n",
       "      <td>0.666667</td>\n",
       "      <td>0.642330</td>\n",
       "    </tr>\n",
       "    <tr>\n",
       "      <th>2996</th>\n",
       "      <td>0.028571</td>\n",
       "      <td>1.00</td>\n",
       "      <td>1.000000</td>\n",
       "      <td>0.857143</td>\n",
       "      <td>0.750</td>\n",
       "      <td>1.0</td>\n",
       "      <td>0.966667</td>\n",
       "      <td>1.000000</td>\n",
       "      <td>0.460546</td>\n",
       "    </tr>\n",
       "    <tr>\n",
       "      <th>2997</th>\n",
       "      <td>0.542857</td>\n",
       "      <td>0.50</td>\n",
       "      <td>0.333333</td>\n",
       "      <td>0.285714</td>\n",
       "      <td>0.375</td>\n",
       "      <td>0.0</td>\n",
       "      <td>0.000000</td>\n",
       "      <td>0.666667</td>\n",
       "      <td>0.406711</td>\n",
       "    </tr>\n",
       "    <tr>\n",
       "      <th>2998</th>\n",
       "      <td>0.042857</td>\n",
       "      <td>1.00</td>\n",
       "      <td>0.833333</td>\n",
       "      <td>0.857143</td>\n",
       "      <td>0.750</td>\n",
       "      <td>0.0</td>\n",
       "      <td>0.000000</td>\n",
       "      <td>1.000000</td>\n",
       "      <td>0.624631</td>\n",
       "    </tr>\n",
       "    <tr>\n",
       "      <th>2999</th>\n",
       "      <td>0.757143</td>\n",
       "      <td>0.50</td>\n",
       "      <td>0.666667</td>\n",
       "      <td>0.714286</td>\n",
       "      <td>0.750</td>\n",
       "      <td>0.0</td>\n",
       "      <td>0.000000</td>\n",
       "      <td>0.666667</td>\n",
       "      <td>0.590339</td>\n",
       "    </tr>\n",
       "  </tbody>\n",
       "</table>\n",
       "<p>3000 rows × 9 columns</p>\n",
       "</div>"
      ],
      "text/plain": [
       "      Area(total)  Trooms  Nbedrooms  Nbwashrooms  Twashrooms  roof_encoder  \\\n",
       "0        0.700000    0.25   0.500000     0.428571       0.500           0.0   \n",
       "1        0.971429    0.00   0.333333     0.285714       0.250           1.0   \n",
       "2        0.485714    0.50   0.500000     0.428571       0.375           1.0   \n",
       "3        0.571429    0.25   0.333333     0.285714       0.375           1.0   \n",
       "4        0.428571    0.50   0.333333     0.428571       0.375           0.0   \n",
       "...           ...     ...        ...          ...         ...           ...   \n",
       "2995     0.728571    1.00   0.666667     0.571429       0.625           1.0   \n",
       "2996     0.028571    1.00   1.000000     0.857143       0.750           1.0   \n",
       "2997     0.542857    0.50   0.333333     0.285714       0.375           0.0   \n",
       "2998     0.042857    1.00   0.833333     0.857143       0.750           0.0   \n",
       "2999     0.757143    0.50   0.666667     0.714286       0.750           0.0   \n",
       "\n",
       "      Roof(Area)   Nfloors  Expected price  \n",
       "0       0.000000  0.166667        0.360251  \n",
       "1       0.591667  0.333333        0.370944  \n",
       "2       0.841667  0.666667        0.458702  \n",
       "3       0.841667  0.166667        0.232301  \n",
       "4       0.000000  0.333333        0.493732  \n",
       "...          ...       ...             ...  \n",
       "2995    0.791667  0.666667        0.642330  \n",
       "2996    0.966667  1.000000        0.460546  \n",
       "2997    0.000000  0.666667        0.406711  \n",
       "2998    0.000000  1.000000        0.624631  \n",
       "2999    0.000000  0.666667        0.590339  \n",
       "\n",
       "[3000 rows x 9 columns]"
      ]
     },
     "execution_count": 87,
     "metadata": {},
     "output_type": "execute_result"
    }
   ],
   "source": [
    "scaled_data"
   ]
  },
  {
   "cell_type": "markdown",
   "id": "3c211403",
   "metadata": {},
   "source": [
    "### In this project we have labelled data and we have a dependent variable (Grade), so we perform supervised ML"
   ]
  },
  {
   "cell_type": "markdown",
   "id": "53720fe8",
   "metadata": {},
   "source": [
    "### As our dependent variable sales is categorical, this falls under classificcation model"
   ]
  },
  {
   "cell_type": "markdown",
   "id": "257c1f31",
   "metadata": {},
   "source": [
    "### Here we have to predict the grade of the houses"
   ]
  },
  {
   "cell_type": "markdown",
   "id": "6b615c2f",
   "metadata": {},
   "source": [
    "# Data splitting"
   ]
  },
  {
   "cell_type": "code",
   "execution_count": 90,
   "id": "81de6f20",
   "metadata": {},
   "outputs": [],
   "source": [
    "x=scaled_data\n",
    "y=d1.Grade_encode"
   ]
  },
  {
   "cell_type": "code",
   "execution_count": 93,
   "id": "d431e3ad",
   "metadata": {},
   "outputs": [],
   "source": [
    "x_train,x_test,y_train,y_test=train_test_split(x,y,train_size=0.7,random_state=10)"
   ]
  },
  {
   "cell_type": "markdown",
   "id": "7dbfc0a7",
   "metadata": {},
   "source": [
    "### Here we are splitting the as 70% train data and 30% test data and we are keeping random state as 10"
   ]
  },
  {
   "cell_type": "markdown",
   "id": "6db01267",
   "metadata": {},
   "source": [
    "# ML modelling"
   ]
  },
  {
   "cell_type": "markdown",
   "id": "463b586e",
   "metadata": {},
   "source": [
    "## LogisticRegression"
   ]
  },
  {
   "cell_type": "code",
   "execution_count": 100,
   "id": "f50992d7",
   "metadata": {},
   "outputs": [],
   "source": [
    "lg_model=LogisticRegression()"
   ]
  },
  {
   "cell_type": "code",
   "execution_count": 102,
   "id": "a973360d",
   "metadata": {},
   "outputs": [],
   "source": [
    "lg_model=lg_model.fit(x_train,y_train)"
   ]
  },
  {
   "cell_type": "code",
   "execution_count": 103,
   "id": "97792d93",
   "metadata": {},
   "outputs": [
    {
     "data": {
      "text/plain": [
       "0.8852380952380953"
      ]
     },
     "execution_count": 103,
     "metadata": {},
     "output_type": "execute_result"
    }
   ],
   "source": [
    "lg_model.score(x_train,y_train)          #model score for training data"
   ]
  },
  {
   "cell_type": "code",
   "execution_count": 104,
   "id": "499bd09f",
   "metadata": {},
   "outputs": [
    {
     "data": {
      "text/plain": [
       "0.8733333333333333"
      ]
     },
     "execution_count": 104,
     "metadata": {},
     "output_type": "execute_result"
    }
   ],
   "source": [
    "lg_model.score(x_test,y_test)           #model score for test data"
   ]
  },
  {
   "cell_type": "markdown",
   "id": "ecdc4a1b",
   "metadata": {},
   "source": [
    "### The model score for testing and training is close so there is no overfitting"
   ]
  },
  {
   "cell_type": "code",
   "execution_count": 105,
   "id": "7666bb05",
   "metadata": {},
   "outputs": [],
   "source": [
    "lg_predict=lg_model.predict(x_test)        #predicted values for test data"
   ]
  },
  {
   "cell_type": "code",
   "execution_count": 109,
   "id": "2043dae3",
   "metadata": {},
   "outputs": [],
   "source": [
    "lg_acc=accuracy_score(y_test,lg_predict)"
   ]
  },
  {
   "cell_type": "code",
   "execution_count": 110,
   "id": "f01fa973",
   "metadata": {},
   "outputs": [
    {
     "name": "stdout",
     "output_type": "stream",
     "text": [
      "The accuracy score for logistic regression model is:  0.8733333333333333\n"
     ]
    }
   ],
   "source": [
    "print(\"The accuracy score for logistic regression model is: \",lg_acc)"
   ]
  },
  {
   "cell_type": "markdown",
   "id": "6128a5e2",
   "metadata": {},
   "source": [
    "# Navie Bayes"
   ]
  },
  {
   "cell_type": "code",
   "execution_count": 112,
   "id": "ccf3787e",
   "metadata": {},
   "outputs": [],
   "source": [
    "nb_model=GaussianNB()"
   ]
  },
  {
   "cell_type": "code",
   "execution_count": 113,
   "id": "593c83da",
   "metadata": {},
   "outputs": [],
   "source": [
    "nb_model=nb_model.fit(x_train,y_train)"
   ]
  },
  {
   "cell_type": "code",
   "execution_count": 114,
   "id": "f4a8c16e",
   "metadata": {},
   "outputs": [
    {
     "data": {
      "text/plain": [
       "0.8052380952380952"
      ]
     },
     "execution_count": 114,
     "metadata": {},
     "output_type": "execute_result"
    }
   ],
   "source": [
    "nb_model.score(x_train,y_train)          #model score for training data"
   ]
  },
  {
   "cell_type": "code",
   "execution_count": 115,
   "id": "c7ea2f76",
   "metadata": {},
   "outputs": [
    {
     "data": {
      "text/plain": [
       "0.7533333333333333"
      ]
     },
     "execution_count": 115,
     "metadata": {},
     "output_type": "execute_result"
    }
   ],
   "source": [
    "nb_model.score(x_test,y_test)           #model score for test data"
   ]
  },
  {
   "cell_type": "markdown",
   "id": "bad0d2c8",
   "metadata": {},
   "source": [
    "### The model score for testing and training is close so there is no overfitting"
   ]
  },
  {
   "cell_type": "code",
   "execution_count": 116,
   "id": "ac4e3f33",
   "metadata": {},
   "outputs": [],
   "source": [
    "nb_predict=nb_model.predict(x_test)        #predicted values for test data"
   ]
  },
  {
   "cell_type": "code",
   "execution_count": 117,
   "id": "ec455124",
   "metadata": {},
   "outputs": [],
   "source": [
    "nb_acc=accuracy_score(y_test,nb_predict)"
   ]
  },
  {
   "cell_type": "code",
   "execution_count": 118,
   "id": "dd90e777",
   "metadata": {},
   "outputs": [
    {
     "name": "stdout",
     "output_type": "stream",
     "text": [
      "The accuracy score for Navie Bayes model is:  0.7533333333333333\n"
     ]
    }
   ],
   "source": [
    "print(\"The accuracy score for Navie Bayes model is: \",nb_acc)"
   ]
  },
  {
   "cell_type": "markdown",
   "id": "a0f1453f",
   "metadata": {},
   "source": [
    "# Decision Tree"
   ]
  },
  {
   "cell_type": "code",
   "execution_count": 120,
   "id": "7d5562c2",
   "metadata": {},
   "outputs": [],
   "source": [
    "dt_model=DecisionTreeClassifier()"
   ]
  },
  {
   "cell_type": "code",
   "execution_count": 121,
   "id": "d26fcc19",
   "metadata": {},
   "outputs": [],
   "source": [
    "dt_model=dt_model.fit(x_train,y_train)"
   ]
  },
  {
   "cell_type": "code",
   "execution_count": 122,
   "id": "0f26e15b",
   "metadata": {},
   "outputs": [
    {
     "data": {
      "text/plain": [
       "1.0"
      ]
     },
     "execution_count": 122,
     "metadata": {},
     "output_type": "execute_result"
    }
   ],
   "source": [
    "dt_model.score(x_train,y_train)          #model score for training data"
   ]
  },
  {
   "cell_type": "code",
   "execution_count": 123,
   "id": "487ff4ac",
   "metadata": {},
   "outputs": [
    {
     "data": {
      "text/plain": [
       "0.8255555555555556"
      ]
     },
     "execution_count": 123,
     "metadata": {},
     "output_type": "execute_result"
    }
   ],
   "source": [
    "dt_model.score(x_test,y_test)           #model score for test data"
   ]
  },
  {
   "cell_type": "markdown",
   "id": "f5c1ed2e",
   "metadata": {},
   "source": [
    "### The model score for testing and training is not close so there is  overfitting"
   ]
  },
  {
   "cell_type": "code",
   "execution_count": 124,
   "id": "0271506a",
   "metadata": {},
   "outputs": [],
   "source": [
    "dt_predict=dt_model.predict(x_test)        #predicted values for test data"
   ]
  },
  {
   "cell_type": "code",
   "execution_count": 125,
   "id": "117cd244",
   "metadata": {},
   "outputs": [],
   "source": [
    "dt_acc=accuracy_score(y_test,dt_predict)"
   ]
  },
  {
   "cell_type": "code",
   "execution_count": 126,
   "id": "be1e4870",
   "metadata": {},
   "outputs": [
    {
     "name": "stdout",
     "output_type": "stream",
     "text": [
      "The accuracy score for Decision tree  model is:  0.8255555555555556\n"
     ]
    }
   ],
   "source": [
    "print(\"The accuracy score for Decision tree  model is: \",dt_acc)"
   ]
  },
  {
   "cell_type": "markdown",
   "id": "a23a3b6f",
   "metadata": {},
   "source": [
    "# Random Forest"
   ]
  },
  {
   "cell_type": "code",
   "execution_count": 128,
   "id": "22c77169",
   "metadata": {},
   "outputs": [],
   "source": [
    "rd_model=RandomForestClassifier()"
   ]
  },
  {
   "cell_type": "code",
   "execution_count": 129,
   "id": "71781133",
   "metadata": {},
   "outputs": [],
   "source": [
    "rd_model=rd_model.fit(x_train,y_train)"
   ]
  },
  {
   "cell_type": "code",
   "execution_count": 130,
   "id": "21a26af9",
   "metadata": {},
   "outputs": [
    {
     "data": {
      "text/plain": [
       "1.0"
      ]
     },
     "execution_count": 130,
     "metadata": {},
     "output_type": "execute_result"
    }
   ],
   "source": [
    "rd_model.score(x_train,y_train)          #model score for training data"
   ]
  },
  {
   "cell_type": "code",
   "execution_count": 131,
   "id": "101f2665",
   "metadata": {},
   "outputs": [
    {
     "data": {
      "text/plain": [
       "0.8644444444444445"
      ]
     },
     "execution_count": 131,
     "metadata": {},
     "output_type": "execute_result"
    }
   ],
   "source": [
    "rd_model.score(x_test,y_test)           #model score for test data"
   ]
  },
  {
   "cell_type": "markdown",
   "id": "c551b3cf",
   "metadata": {},
   "source": [
    "### The model score for testing and training is not close so there is  overfitting"
   ]
  },
  {
   "cell_type": "code",
   "execution_count": 132,
   "id": "f5c7304c",
   "metadata": {},
   "outputs": [],
   "source": [
    "rd_predict=rd_model.predict(x_test)        #predicted values for test data"
   ]
  },
  {
   "cell_type": "code",
   "execution_count": 133,
   "id": "81d3866f",
   "metadata": {},
   "outputs": [],
   "source": [
    "rd_acc=accuracy_score(y_test,rd_predict)"
   ]
  },
  {
   "cell_type": "code",
   "execution_count": 134,
   "id": "00b026e4",
   "metadata": {},
   "outputs": [
    {
     "name": "stdout",
     "output_type": "stream",
     "text": [
      "The accuracy score for Random forest model is:  0.8644444444444445\n"
     ]
    }
   ],
   "source": [
    "print(\"The accuracy score for Random forest model is: \",rd_acc)"
   ]
  },
  {
   "cell_type": "markdown",
   "id": "d8f8b411",
   "metadata": {},
   "source": [
    "# AdaBoosting"
   ]
  },
  {
   "cell_type": "code",
   "execution_count": 136,
   "id": "06a3eedb",
   "metadata": {},
   "outputs": [],
   "source": [
    "ada_model=AdaBoostClassifier()"
   ]
  },
  {
   "cell_type": "code",
   "execution_count": 137,
   "id": "803c5c6f",
   "metadata": {},
   "outputs": [],
   "source": [
    "ada_model=ada_model.fit(x_train,y_train)"
   ]
  },
  {
   "cell_type": "code",
   "execution_count": 138,
   "id": "9413b6f1",
   "metadata": {},
   "outputs": [
    {
     "data": {
      "text/plain": [
       "0.5847619047619048"
      ]
     },
     "execution_count": 138,
     "metadata": {},
     "output_type": "execute_result"
    }
   ],
   "source": [
    "ada_model.score(x_train,y_train)          #model score for training data"
   ]
  },
  {
   "cell_type": "code",
   "execution_count": 139,
   "id": "dcdfc7cf",
   "metadata": {},
   "outputs": [
    {
     "data": {
      "text/plain": [
       "0.5955555555555555"
      ]
     },
     "execution_count": 139,
     "metadata": {},
     "output_type": "execute_result"
    }
   ],
   "source": [
    "ada_model.score(x_test,y_test)           #model score for test data"
   ]
  },
  {
   "cell_type": "markdown",
   "id": "87b7b207",
   "metadata": {},
   "source": [
    "### The model score for testing and training is close so there is  no overfitting"
   ]
  },
  {
   "cell_type": "code",
   "execution_count": 140,
   "id": "1c09a94c",
   "metadata": {},
   "outputs": [],
   "source": [
    "ada_predict=ada_model.predict(x_test)        #predicted values for test data"
   ]
  },
  {
   "cell_type": "code",
   "execution_count": 141,
   "id": "212d6066",
   "metadata": {},
   "outputs": [],
   "source": [
    "ada_acc=accuracy_score(y_test,ada_predict)"
   ]
  },
  {
   "cell_type": "code",
   "execution_count": 142,
   "id": "2e89adfb",
   "metadata": {},
   "outputs": [
    {
     "name": "stdout",
     "output_type": "stream",
     "text": [
      "The accuracy score for AdaBoosting  model is:  0.5955555555555555\n"
     ]
    }
   ],
   "source": [
    "print(\"The accuracy score for AdaBoosting  model is: \",ada_acc)"
   ]
  },
  {
   "cell_type": "markdown",
   "id": "13b448ad",
   "metadata": {},
   "source": [
    "# Stacking"
   ]
  },
  {
   "cell_type": "code",
   "execution_count": 162,
   "id": "fcee1d4c",
   "metadata": {},
   "outputs": [],
   "source": [
    "# get a stacking ensemble of models\n",
    "def get_stacking():\n",
    "\t# define the base models\n",
    "\tlevel0 = list()\n",
    "\tlevel0.append(('ADA', AdaBoostClassifier()))\n",
    "\tlevel0.append(('NB', GaussianNB()))\n",
    "\tlevel0.append(('LR', LogisticRegression()))\n",
    "\t# define meta learner model\n",
    "\tlevel1 = LogisticRegression()\n",
    "\t# define the stacking ensemble\n",
    "\tmodel = StackingClassifier(estimators=level0, final_estimator=level1, cv=5)\n",
    "\treturn model"
   ]
  },
  {
   "cell_type": "code",
   "execution_count": 163,
   "id": "18403f44",
   "metadata": {},
   "outputs": [],
   "source": [
    "stack_model=get_stacking()"
   ]
  },
  {
   "cell_type": "code",
   "execution_count": 164,
   "id": "c4140aba",
   "metadata": {},
   "outputs": [],
   "source": [
    "stack_model=stack_model.fit(x_train,y_train)"
   ]
  },
  {
   "cell_type": "code",
   "execution_count": 165,
   "id": "38d407ad",
   "metadata": {},
   "outputs": [
    {
     "data": {
      "text/plain": [
       "0.8885714285714286"
      ]
     },
     "execution_count": 165,
     "metadata": {},
     "output_type": "execute_result"
    }
   ],
   "source": [
    "stack_model.score(x_train,y_train)          #model score for training data"
   ]
  },
  {
   "cell_type": "code",
   "execution_count": 166,
   "id": "2802c74b",
   "metadata": {},
   "outputs": [
    {
     "data": {
      "text/plain": [
       "0.8822222222222222"
      ]
     },
     "execution_count": 166,
     "metadata": {},
     "output_type": "execute_result"
    }
   ],
   "source": [
    "stack_model.score(x_test,y_test)           #model score for test data"
   ]
  },
  {
   "cell_type": "markdown",
   "id": "1b70a91c",
   "metadata": {},
   "source": [
    "### The model score for testing and training is close so there is no  overfitting"
   ]
  },
  {
   "cell_type": "code",
   "execution_count": 167,
   "id": "9c243bee",
   "metadata": {},
   "outputs": [],
   "source": [
    "stack_predict=stack_model.predict(x_test)        #predicted values for test data"
   ]
  },
  {
   "cell_type": "code",
   "execution_count": 168,
   "id": "859e94e2",
   "metadata": {},
   "outputs": [],
   "source": [
    "stack_acc=accuracy_score(y_test,stack_predict)"
   ]
  },
  {
   "cell_type": "code",
   "execution_count": 169,
   "id": "959eb17d",
   "metadata": {},
   "outputs": [
    {
     "name": "stdout",
     "output_type": "stream",
     "text": [
      "The accuracy score for Stacking  model is:  0.8822222222222222\n"
     ]
    }
   ],
   "source": [
    "print(\"The accuracy score for Stacking  model is: \",stack_acc)"
   ]
  },
  {
   "cell_type": "markdown",
   "id": "f97ed053",
   "metadata": {},
   "source": [
    "# Model selection"
   ]
  },
  {
   "cell_type": "markdown",
   "id": "b18f6a9a",
   "metadata": {},
   "source": [
    "### Here we select the best ML model for prediction based on the accuracy of each model"
   ]
  },
  {
   "cell_type": "markdown",
   "id": "09bb4385",
   "metadata": {},
   "source": [
    "### We do not consider Decision Tree and Random Forest models as there is overfitting"
   ]
  },
  {
   "cell_type": "code",
   "execution_count": 170,
   "id": "6bf25766",
   "metadata": {},
   "outputs": [],
   "source": [
    "accuracy={'Logistic regression':lg_acc,'Navie Bayes':nb_acc,'AdaBoosting':ada_acc,'Stacking':stack_acc}"
   ]
  },
  {
   "cell_type": "code",
   "execution_count": 171,
   "id": "26f96c3c",
   "metadata": {},
   "outputs": [],
   "source": [
    "name=list(accuracy.keys())\n",
    "values=list(accuracy.values())"
   ]
  },
  {
   "cell_type": "code",
   "execution_count": 172,
   "id": "b42bf3e2",
   "metadata": {},
   "outputs": [
    {
     "data": {
      "image/png": "[encoded data removed]",
      "text/plain": [
       "<Figure size 720x360 with 1 Axes>"
      ]
     },
     "metadata": {
      "needs_background": "light"
     },
     "output_type": "display_data"
    }
   ],
   "source": [
    "plt.figure(figsize=(10,5))\n",
    "plt.bar(name,values,color='maroon')\n",
    "plt.title(\"Comparision of accuracy for different models\")\n",
    "plt.xlabel(\"Model\")\n",
    "plt.ylabel(\"Accuracy\")\n",
    "plt.show()"
   ]
  },
  {
   "cell_type": "markdown",
   "id": "614d7026",
   "metadata": {},
   "source": [
    "### We can see from the graph that Logistic regression and Stacking have the highest accuracy"
   ]
  },
  {
   "cell_type": "code",
   "execution_count": 173,
   "id": "bc8c1cc9",
   "metadata": {},
   "outputs": [
    {
     "name": "stdout",
     "output_type": "stream",
     "text": [
      "The accuracy score for Stacking  model is:  0.8822222222222222\n"
     ]
    }
   ],
   "source": [
    "print(\"The accuracy score for Stacking  model is: \",stack_acc)"
   ]
  },
  {
   "cell_type": "code",
   "execution_count": 174,
   "id": "09246b29",
   "metadata": {},
   "outputs": [
    {
     "name": "stdout",
     "output_type": "stream",
     "text": [
      "The accuracy score for logistic regression model is:  0.8733333333333333\n"
     ]
    }
   ],
   "source": [
    "print(\"The accuracy score for logistic regression model is: \",lg_acc)"
   ]
  },
  {
   "cell_type": "markdown",
   "id": "3b4a0ea1",
   "metadata": {},
   "source": [
    "### Here based on the higher accuracy for Stacking model we consider it as the best model"
   ]
  },
  {
   "cell_type": "markdown",
   "id": "5262253e",
   "metadata": {},
   "source": [
    "# BEST MODEL : Stacking"
   ]
  },
  {
   "cell_type": "code",
   "execution_count": 175,
   "id": "5f616d30",
   "metadata": {},
   "outputs": [],
   "source": [
    "# get a stacking ensemble of models\n",
    "def get_stacking():\n",
    "\t# define the base models\n",
    "\tlevel0 = list()\n",
    "\tlevel0.append(('ADA', AdaBoostClassifier()))\n",
    "\tlevel0.append(('NB', GaussianNB()))\n",
    "\tlevel0.append(('LR', LogisticRegression()))\n",
    "\t# define meta learner model\n",
    "\tlevel1 = LogisticRegression()\n",
    "\t# define the stacking ensemble\n",
    "\tmodel = StackingClassifier(estimators=level0, final_estimator=level1, cv=5)\n",
    "\treturn model"
   ]
  },
  {
   "cell_type": "code",
   "execution_count": 176,
   "id": "707b9c33",
   "metadata": {},
   "outputs": [],
   "source": [
    "stack_model=get_stacking()"
   ]
  },
  {
   "cell_type": "code",
   "execution_count": 177,
   "id": "d28235b4",
   "metadata": {},
   "outputs": [],
   "source": [
    "stack_model=stack_model.fit(x_train,y_train)"
   ]
  },
  {
   "cell_type": "code",
   "execution_count": 178,
   "id": "2bf39ed3",
   "metadata": {},
   "outputs": [
    {
     "data": {
      "text/plain": [
       "0.8885714285714286"
      ]
     },
     "execution_count": 178,
     "metadata": {},
     "output_type": "execute_result"
    }
   ],
   "source": [
    "stack_model.score(x_train,y_train)          #model score for training data"
   ]
  },
  {
   "cell_type": "code",
   "execution_count": 179,
   "id": "85a2406d",
   "metadata": {},
   "outputs": [
    {
     "data": {
      "text/plain": [
       "0.8822222222222222"
      ]
     },
     "execution_count": 179,
     "metadata": {},
     "output_type": "execute_result"
    }
   ],
   "source": [
    "stack_model.score(x_test,y_test)           #model score for test data"
   ]
  },
  {
   "cell_type": "markdown",
   "id": "4be13bf8",
   "metadata": {},
   "source": [
    "### The model score for testing and training is close so there is no  overfitting"
   ]
  },
  {
   "cell_type": "code",
   "execution_count": 180,
   "id": "d5dc49c0",
   "metadata": {},
   "outputs": [],
   "source": [
    "stack_predict=stack_model.predict(x_test)        #predicted values for test data"
   ]
  },
  {
   "cell_type": "code",
   "execution_count": 181,
   "id": "0a45ed57",
   "metadata": {},
   "outputs": [],
   "source": [
    "stack_acc=accuracy_score(y_test,stack_predict)"
   ]
  },
  {
   "cell_type": "code",
   "execution_count": 182,
   "id": "9b4cc7db",
   "metadata": {},
   "outputs": [
    {
     "name": "stdout",
     "output_type": "stream",
     "text": [
      "The accuracy score for Stacking  model is:  0.8822222222222222\n"
     ]
    }
   ],
   "source": [
    "print(\"The accuracy score for Stacking  model is: \",stack_acc)"
   ]
  },
  {
   "cell_type": "markdown",
   "id": "7bca581b",
   "metadata": {},
   "source": [
    "# Model Evaluvation"
   ]
  },
  {
   "cell_type": "code",
   "execution_count": 187,
   "id": "f3f153ae",
   "metadata": {},
   "outputs": [
    {
     "name": "stdout",
     "output_type": "stream",
     "text": [
      "STACKING MODEL EVALUVATION : \n",
      "accuracy: 0.8822222222222222\n",
      "recall: 0.8822222222222222\n",
      "f1-score: 0.8785912419117952\n",
      "precision: 0.8816471758475497\n"
     ]
    }
   ],
   "source": [
    "print(\"STACKING MODEL EVALUVATION : \")\n",
    "print('accuracy:', accuracy_score(y_test, stack_predict))         #model evaluvation\n",
    "print('recall:', recall_score(y_test, stack_predict,average='weighted'))\n",
    "print('f1-score:', f1_score(y_test, stack_predict,average='weighted'))\n",
    "print('precision:', precision_score(y_test, stack_predict,average='weighted'))"
   ]
  },
  {
   "cell_type": "code",
   "execution_count": 189,
   "id": "a942e317",
   "metadata": {},
   "outputs": [
    {
     "name": "stdout",
     "output_type": "stream",
     "text": [
      "              precision    recall  f1-score   support\n",
      "\n",
      "           0       0.89      0.91      0.90        96\n",
      "           1       0.87      0.84      0.85       167\n",
      "           2       0.85      0.84      0.84       224\n",
      "           3       0.90      0.95      0.93       390\n",
      "           4       0.89      0.35      0.50        23\n",
      "\n",
      "    accuracy                           0.88       900\n",
      "   macro avg       0.88      0.78      0.80       900\n",
      "weighted avg       0.88      0.88      0.88       900\n",
      "\n"
     ]
    }
   ],
   "source": [
    "print(classification_report(y_test,stack_predict))        #the classification report"
   ]
  },
  {
   "cell_type": "code",
   "execution_count": 200,
   "id": "46a73e69",
   "metadata": {},
   "outputs": [],
   "source": [
    "a=pd.DataFrame(y_test)"
   ]
  },
  {
   "cell_type": "code",
   "execution_count": 201,
   "id": "bdfcac8d",
   "metadata": {},
   "outputs": [],
   "source": [
    "a['predicted_grade']=stack_predict"
   ]
  },
  {
   "cell_type": "code",
   "execution_count": 202,
   "id": "f122c592",
   "metadata": {},
   "outputs": [
    {
     "data": {
      "text/html": [
       "<div>\n",
       "<style scoped>\n",
       "    .dataframe tbody tr th:only-of-type {\n",
       "        vertical-align: middle;\n",
       "    }\n",
       "\n",
       "    .dataframe tbody tr th {\n",
       "        vertical-align: top;\n",
       "    }\n",
       "\n",
       "    .dataframe thead th {\n",
       "        text-align: right;\n",
       "    }\n",
       "</style>\n",
       "<table border=\"1\" class=\"dataframe\">\n",
       "  <thead>\n",
       "    <tr style=\"text-align: right;\">\n",
       "      <th></th>\n",
       "      <th>Grade_encode</th>\n",
       "      <th>predicted_grade</th>\n",
       "    </tr>\n",
       "  </thead>\n",
       "  <tbody>\n",
       "    <tr>\n",
       "      <th>1779</th>\n",
       "      <td>3</td>\n",
       "      <td>3</td>\n",
       "    </tr>\n",
       "    <tr>\n",
       "      <th>341</th>\n",
       "      <td>3</td>\n",
       "      <td>3</td>\n",
       "    </tr>\n",
       "    <tr>\n",
       "      <th>1276</th>\n",
       "      <td>2</td>\n",
       "      <td>2</td>\n",
       "    </tr>\n",
       "    <tr>\n",
       "      <th>1012</th>\n",
       "      <td>3</td>\n",
       "      <td>3</td>\n",
       "    </tr>\n",
       "    <tr>\n",
       "      <th>470</th>\n",
       "      <td>1</td>\n",
       "      <td>1</td>\n",
       "    </tr>\n",
       "    <tr>\n",
       "      <th>...</th>\n",
       "      <td>...</td>\n",
       "      <td>...</td>\n",
       "    </tr>\n",
       "    <tr>\n",
       "      <th>2857</th>\n",
       "      <td>3</td>\n",
       "      <td>3</td>\n",
       "    </tr>\n",
       "    <tr>\n",
       "      <th>1561</th>\n",
       "      <td>1</td>\n",
       "      <td>0</td>\n",
       "    </tr>\n",
       "    <tr>\n",
       "      <th>908</th>\n",
       "      <td>3</td>\n",
       "      <td>3</td>\n",
       "    </tr>\n",
       "    <tr>\n",
       "      <th>1839</th>\n",
       "      <td>3</td>\n",
       "      <td>3</td>\n",
       "    </tr>\n",
       "    <tr>\n",
       "      <th>1098</th>\n",
       "      <td>2</td>\n",
       "      <td>2</td>\n",
       "    </tr>\n",
       "  </tbody>\n",
       "</table>\n",
       "<p>900 rows × 2 columns</p>\n",
       "</div>"
      ],
      "text/plain": [
       "      Grade_encode  predicted_grade\n",
       "1779             3                3\n",
       "341              3                3\n",
       "1276             2                2\n",
       "1012             3                3\n",
       "470              1                1\n",
       "...            ...              ...\n",
       "2857             3                3\n",
       "1561             1                0\n",
       "908              3                3\n",
       "1839             3                3\n",
       "1098             2                2\n",
       "\n",
       "[900 rows x 2 columns]"
      ]
     },
     "execution_count": 202,
     "metadata": {},
     "output_type": "execute_result"
    }
   ],
   "source": [
    "a"
   ]
  },
  {
   "cell_type": "code",
   "execution_count": 203,
   "id": "64190c5f",
   "metadata": {},
   "outputs": [],
   "source": [
    "a['original_grade']=y_test"
   ]
  },
  {
   "cell_type": "code",
   "execution_count": 206,
   "id": "aafa49b7",
   "metadata": {},
   "outputs": [],
   "source": [
    "a['predicted_grade_']=stack_predict"
   ]
  },
  {
   "cell_type": "code",
   "execution_count": 212,
   "id": "a8845816",
   "metadata": {},
   "outputs": [],
   "source": [
    "a.original_grade.replace({0:'A',1:'B',2:'C',3:'D',4:'E'},inplace=True)\n",
    "a.predicted_grade_.replace({0:'A',1:'B',2:'C',3:'D',4:'E'},inplace=True)"
   ]
  },
  {
   "cell_type": "code",
   "execution_count": 213,
   "id": "4d47be25",
   "metadata": {},
   "outputs": [
    {
     "data": {
      "text/html": [
       "<div>\n",
       "<style scoped>\n",
       "    .dataframe tbody tr th:only-of-type {\n",
       "        vertical-align: middle;\n",
       "    }\n",
       "\n",
       "    .dataframe tbody tr th {\n",
       "        vertical-align: top;\n",
       "    }\n",
       "\n",
       "    .dataframe thead th {\n",
       "        text-align: right;\n",
       "    }\n",
       "</style>\n",
       "<table border=\"1\" class=\"dataframe\">\n",
       "  <thead>\n",
       "    <tr style=\"text-align: right;\">\n",
       "      <th></th>\n",
       "      <th>Grade_encode</th>\n",
       "      <th>predicted_grade</th>\n",
       "      <th>original_grade</th>\n",
       "      <th>predicted_grade_</th>\n",
       "    </tr>\n",
       "  </thead>\n",
       "  <tbody>\n",
       "    <tr>\n",
       "      <th>1779</th>\n",
       "      <td>3</td>\n",
       "      <td>3</td>\n",
       "      <td>D</td>\n",
       "      <td>D</td>\n",
       "    </tr>\n",
       "    <tr>\n",
       "      <th>341</th>\n",
       "      <td>3</td>\n",
       "      <td>3</td>\n",
       "      <td>D</td>\n",
       "      <td>D</td>\n",
       "    </tr>\n",
       "    <tr>\n",
       "      <th>1276</th>\n",
       "      <td>2</td>\n",
       "      <td>2</td>\n",
       "      <td>C</td>\n",
       "      <td>C</td>\n",
       "    </tr>\n",
       "    <tr>\n",
       "      <th>1012</th>\n",
       "      <td>3</td>\n",
       "      <td>3</td>\n",
       "      <td>D</td>\n",
       "      <td>D</td>\n",
       "    </tr>\n",
       "    <tr>\n",
       "      <th>470</th>\n",
       "      <td>1</td>\n",
       "      <td>1</td>\n",
       "      <td>B</td>\n",
       "      <td>B</td>\n",
       "    </tr>\n",
       "    <tr>\n",
       "      <th>...</th>\n",
       "      <td>...</td>\n",
       "      <td>...</td>\n",
       "      <td>...</td>\n",
       "      <td>...</td>\n",
       "    </tr>\n",
       "    <tr>\n",
       "      <th>2857</th>\n",
       "      <td>3</td>\n",
       "      <td>3</td>\n",
       "      <td>D</td>\n",
       "      <td>D</td>\n",
       "    </tr>\n",
       "    <tr>\n",
       "      <th>1561</th>\n",
       "      <td>1</td>\n",
       "      <td>0</td>\n",
       "      <td>B</td>\n",
       "      <td>A</td>\n",
       "    </tr>\n",
       "    <tr>\n",
       "      <th>908</th>\n",
       "      <td>3</td>\n",
       "      <td>3</td>\n",
       "      <td>D</td>\n",
       "      <td>D</td>\n",
       "    </tr>\n",
       "    <tr>\n",
       "      <th>1839</th>\n",
       "      <td>3</td>\n",
       "      <td>3</td>\n",
       "      <td>D</td>\n",
       "      <td>D</td>\n",
       "    </tr>\n",
       "    <tr>\n",
       "      <th>1098</th>\n",
       "      <td>2</td>\n",
       "      <td>2</td>\n",
       "      <td>C</td>\n",
       "      <td>C</td>\n",
       "    </tr>\n",
       "  </tbody>\n",
       "</table>\n",
       "<p>900 rows × 4 columns</p>\n",
       "</div>"
      ],
      "text/plain": [
       "      Grade_encode  predicted_grade original_grade predicted_grade_\n",
       "1779             3                3              D                D\n",
       "341              3                3              D                D\n",
       "1276             2                2              C                C\n",
       "1012             3                3              D                D\n",
       "470              1                1              B                B\n",
       "...            ...              ...            ...              ...\n",
       "2857             3                3              D                D\n",
       "1561             1                0              B                A\n",
       "908              3                3              D                D\n",
       "1839             3                3              D                D\n",
       "1098             2                2              C                C\n",
       "\n",
       "[900 rows x 4 columns]"
      ]
     },
     "execution_count": 213,
     "metadata": {},
     "output_type": "execute_result"
    }
   ],
   "source": [
    "a"
   ]
  },
  {
   "cell_type": "markdown",
   "id": "4379ee2f",
   "metadata": {},
   "source": [
    "### The original grades with the predicted ones are shown in the above table"
   ]
  },
  {
   "cell_type": "markdown",
   "id": "d58ed475",
   "metadata": {},
   "source": [
    "### The Stacking model has high values of accuracy,recall,f1-score and precision. \n",
    "### So the best model to predict the grade of houses is the Stacking model"
   ]
  },
  {
   "cell_type": "markdown",
   "id": "da48c63b",
   "metadata": {},
   "source": [
    "# Insights"
   ]
  },
  {
   "cell_type": "markdown",
   "id": "3b45c20f",
   "metadata": {},
   "source": [
    "Most of the houses have Area in the range of 305 - 345  \n",
    "The number of rooms is uniformly spread across the number of houses. Most houses have 9 rooms  \n",
    "Most houses have 4 bedrooms. The most popular number of bedrooms are 4,5 and 6  \n",
    "Most houses have 4 washrooms attached with bedroom. The most popular number of washrooms are 3,4 and 5  \n",
    "Most houses have 5 washrooms. The most popular number of washrooms are 5,6 and 7  \n",
    "There are almost same number of houses with and without roof  \n",
    "The roof area of houses is mostly in between 0 - 100  \n",
    "Most houses have either 3,4 or 5 floors  \n",
    "The API for a house is usually in the range of 55-85  \n",
    "The ANB is in the range of 2-5 for most houses  \n",
    "The distributaion of prices of houses is shown in the above histogram. The price mostly ranges from 3500-4500  \n",
    "Most of the houses are of grade D. There are least number of houses with grade E  \n",
    "All the grades of houses have almost the same Area in total  \n",
    "We can see that the houses with Grade A have higher number of rooms. The number of rooms decreases as the grade lowers  \n",
    "We can see that the houses with Grade A have higher number of bedrooms. The number of bedrooms decreases as the grade lowers  \n",
    "Grade A houses have most roof area and the roof area decreases with grade  \n",
    "The lawn area is equally spread across all the grades of houses   \n",
    "Grade A houses have highest number of floors. The number of floors decrease with the grade of the house  \n",
    "The price of houses increases as the grade increases. Grade A houses are the costiest  \n",
    "All the houses with roof and no roofs under each grade have almost the same price  \n"
   ]
  },
  {
   "cell_type": "code",
   "execution_count": null,
   "id": "78e3d4d7",
   "metadata": {},
   "outputs": [],
   "source": []
  },
  {
   "cell_type": "code",
   "execution_count": null,
   "id": "2f8c772b",
   "metadata": {},
   "outputs": [],
   "source": []
  }
 ],
 "metadata": {
  "kernelspec": {
   "display_name": "Python 3 (ipykernel)",
   "language": "python",
   "name": "python3"
  },
  "language_info": {
   "codemirror_mode": {
    "name": "ipython",
    "version": 3
   },
   "file_extension": ".py",
   "mimetype": "text/x-python",
   "name": "python",
   "nbconvert_exporter": "python",
   "pygments_lexer": "ipython3",
   "version": "3.9.12"
  }
 },
 "nbformat": 4,
 "nbformat_minor": 5
}
