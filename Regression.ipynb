{
 "cells": [
  {
   "cell_type": "markdown",
   "id": "62ac6ef1",
   "metadata": {},
   "source": [
    "# Mini project - Regression"
   ]
  },
  {
   "cell_type": "markdown",
   "id": "217a5302",
   "metadata": {},
   "source": [
    "## Business objective "
   ]
  },
  {
   "cell_type": "markdown",
   "id": "fdd37153",
   "metadata": {},
   "source": [
    "### Build a model to predict the Sales of a store\n"
   ]
  },
  {
   "cell_type": "markdown",
   "id": "d064ecc5",
   "metadata": {},
   "source": [
    "### The success of any retail store depends upon its sales. More the sales made, more is the revenue. With a good customer service and care, the customer too enjoys a good shopping experience. This will lead to more in-flow of customers, opening more store branches across a city / country.\n",
    "\n",
    "### To enable this, store owners rely heavily on past data to predict future sales. This will help them in strategizing their business models and come up with innovative techniques and ideas to attract customers and set realistic goals.\n"
   ]
  },
  {
   "cell_type": "markdown",
   "id": "fb44f7ae",
   "metadata": {},
   "source": [
    "# Import the libraries"
   ]
  },
  {
   "cell_type": "code",
   "execution_count": 1,
   "id": "cdcb1f81",
   "metadata": {},
   "outputs": [],
   "source": [
    "import pandas as pd\n",
    "import numpy as np\n",
    "import matplotlib.pyplot as plt\n",
    "import seaborn as sns\n",
    "\n",
    "from sklearn.preprocessing import LabelEncoder\n",
    "from sklearn.preprocessing import MinMaxScaler\n",
    "from sklearn.linear_model import LinearRegression\n",
    "from sklearn.tree import DecisionTreeRegressor\n",
    "from sklearn.ensemble import RandomForestRegressor\n",
    "from sklearn.ensemble import AdaBoostRegressor\n",
    "from sklearn.ensemble import StackingRegressor\n",
    "\n",
    "from sklearn.metrics import mean_squared_error\n",
    "import warnings\n",
    "warnings.filterwarnings('ignore')"
   ]
  },
  {
   "cell_type": "markdown",
   "id": "bf8a03bb",
   "metadata": {},
   "source": [
    "# Read the data"
   ]
  },
  {
   "cell_type": "code",
   "execution_count": 2,
   "id": "66c644a0",
   "metadata": {},
   "outputs": [
    {
     "data": {
      "text/html": [
       "<div>\n",
       "<style scoped>\n",
       "    .dataframe tbody tr th:only-of-type {\n",
       "        vertical-align: middle;\n",
       "    }\n",
       "\n",
       "    .dataframe tbody tr th {\n",
       "        vertical-align: top;\n",
       "    }\n",
       "\n",
       "    .dataframe thead th {\n",
       "        text-align: right;\n",
       "    }\n",
       "</style>\n",
       "<table border=\"1\" class=\"dataframe\">\n",
       "  <thead>\n",
       "    <tr style=\"text-align: right;\">\n",
       "      <th></th>\n",
       "      <th>Item_Identifier</th>\n",
       "      <th>Item_Weight</th>\n",
       "      <th>Item_Fat_Content</th>\n",
       "      <th>Item_Visibility</th>\n",
       "      <th>Item_Type</th>\n",
       "      <th>Item_MRP</th>\n",
       "      <th>Outlet_Identifier</th>\n",
       "      <th>Outlet_Establishment_Year</th>\n",
       "      <th>Outlet_Size</th>\n",
       "      <th>Outlet_Location_Type</th>\n",
       "      <th>Outlet_Type</th>\n",
       "      <th>Item_Outlet_Sales</th>\n",
       "    </tr>\n",
       "  </thead>\n",
       "  <tbody>\n",
       "    <tr>\n",
       "      <th>0</th>\n",
       "      <td>FDA15</td>\n",
       "      <td>9.30</td>\n",
       "      <td>Low Fat</td>\n",
       "      <td>0.016047</td>\n",
       "      <td>Dairy</td>\n",
       "      <td>249.8092</td>\n",
       "      <td>OUT049</td>\n",
       "      <td>1999</td>\n",
       "      <td>Medium</td>\n",
       "      <td>Tier 1</td>\n",
       "      <td>Supermarket Type1</td>\n",
       "      <td>3735.1380</td>\n",
       "    </tr>\n",
       "    <tr>\n",
       "      <th>1</th>\n",
       "      <td>DRC01</td>\n",
       "      <td>5.92</td>\n",
       "      <td>Regular</td>\n",
       "      <td>0.019278</td>\n",
       "      <td>Soft Drinks</td>\n",
       "      <td>48.2692</td>\n",
       "      <td>OUT018</td>\n",
       "      <td>2009</td>\n",
       "      <td>Medium</td>\n",
       "      <td>Tier 3</td>\n",
       "      <td>Supermarket Type2</td>\n",
       "      <td>443.4228</td>\n",
       "    </tr>\n",
       "    <tr>\n",
       "      <th>2</th>\n",
       "      <td>FDN15</td>\n",
       "      <td>17.50</td>\n",
       "      <td>Low Fat</td>\n",
       "      <td>0.016760</td>\n",
       "      <td>Meat</td>\n",
       "      <td>141.6180</td>\n",
       "      <td>OUT049</td>\n",
       "      <td>1999</td>\n",
       "      <td>Medium</td>\n",
       "      <td>Tier 1</td>\n",
       "      <td>Supermarket Type1</td>\n",
       "      <td>2097.2700</td>\n",
       "    </tr>\n",
       "    <tr>\n",
       "      <th>3</th>\n",
       "      <td>FDX07</td>\n",
       "      <td>19.20</td>\n",
       "      <td>Regular</td>\n",
       "      <td>0.074402</td>\n",
       "      <td>Fruits and Vegetables</td>\n",
       "      <td>182.0950</td>\n",
       "      <td>OUT010</td>\n",
       "      <td>1998</td>\n",
       "      <td>Medium</td>\n",
       "      <td>Tier 3</td>\n",
       "      <td>Grocery Store</td>\n",
       "      <td>732.3800</td>\n",
       "    </tr>\n",
       "    <tr>\n",
       "      <th>4</th>\n",
       "      <td>NCD19</td>\n",
       "      <td>8.93</td>\n",
       "      <td>Low Fat</td>\n",
       "      <td>0.064299</td>\n",
       "      <td>Household</td>\n",
       "      <td>53.8614</td>\n",
       "      <td>OUT013</td>\n",
       "      <td>1987</td>\n",
       "      <td>High</td>\n",
       "      <td>Tier 3</td>\n",
       "      <td>Supermarket Type1</td>\n",
       "      <td>994.7052</td>\n",
       "    </tr>\n",
       "    <tr>\n",
       "      <th>...</th>\n",
       "      <td>...</td>\n",
       "      <td>...</td>\n",
       "      <td>...</td>\n",
       "      <td>...</td>\n",
       "      <td>...</td>\n",
       "      <td>...</td>\n",
       "      <td>...</td>\n",
       "      <td>...</td>\n",
       "      <td>...</td>\n",
       "      <td>...</td>\n",
       "      <td>...</td>\n",
       "      <td>...</td>\n",
       "    </tr>\n",
       "    <tr>\n",
       "      <th>14199</th>\n",
       "      <td>FDB58</td>\n",
       "      <td>10.50</td>\n",
       "      <td>Regular</td>\n",
       "      <td>0.013496</td>\n",
       "      <td>Snack Foods</td>\n",
       "      <td>141.3154</td>\n",
       "      <td>OUT046</td>\n",
       "      <td>1997</td>\n",
       "      <td>Small</td>\n",
       "      <td>Tier 1</td>\n",
       "      <td>Supermarket Type1</td>\n",
       "      <td>NaN</td>\n",
       "    </tr>\n",
       "    <tr>\n",
       "      <th>14200</th>\n",
       "      <td>FDD47</td>\n",
       "      <td>7.60</td>\n",
       "      <td>Regular</td>\n",
       "      <td>0.142991</td>\n",
       "      <td>Starchy Foods</td>\n",
       "      <td>169.1448</td>\n",
       "      <td>OUT018</td>\n",
       "      <td>2009</td>\n",
       "      <td>Medium</td>\n",
       "      <td>Tier 3</td>\n",
       "      <td>Supermarket Type2</td>\n",
       "      <td>NaN</td>\n",
       "    </tr>\n",
       "    <tr>\n",
       "      <th>14201</th>\n",
       "      <td>NCO17</td>\n",
       "      <td>10.00</td>\n",
       "      <td>Low Fat</td>\n",
       "      <td>0.073529</td>\n",
       "      <td>Health and Hygiene</td>\n",
       "      <td>118.7440</td>\n",
       "      <td>OUT045</td>\n",
       "      <td>2002</td>\n",
       "      <td>Small</td>\n",
       "      <td>Tier 2</td>\n",
       "      <td>Supermarket Type1</td>\n",
       "      <td>NaN</td>\n",
       "    </tr>\n",
       "    <tr>\n",
       "      <th>14202</th>\n",
       "      <td>FDJ26</td>\n",
       "      <td>15.30</td>\n",
       "      <td>Regular</td>\n",
       "      <td>0.064709</td>\n",
       "      <td>Canned</td>\n",
       "      <td>214.6218</td>\n",
       "      <td>OUT017</td>\n",
       "      <td>2007</td>\n",
       "      <td>Small</td>\n",
       "      <td>Tier 2</td>\n",
       "      <td>Supermarket Type1</td>\n",
       "      <td>NaN</td>\n",
       "    </tr>\n",
       "    <tr>\n",
       "      <th>14203</th>\n",
       "      <td>FDU37</td>\n",
       "      <td>9.50</td>\n",
       "      <td>Regular</td>\n",
       "      <td>0.104720</td>\n",
       "      <td>Canned</td>\n",
       "      <td>79.7960</td>\n",
       "      <td>OUT045</td>\n",
       "      <td>2002</td>\n",
       "      <td>Small</td>\n",
       "      <td>Tier 2</td>\n",
       "      <td>Supermarket Type1</td>\n",
       "      <td>NaN</td>\n",
       "    </tr>\n",
       "  </tbody>\n",
       "</table>\n",
       "<p>14204 rows × 12 columns</p>\n",
       "</div>"
      ],
      "text/plain": [
       "      Item_Identifier  Item_Weight Item_Fat_Content  Item_Visibility  \\\n",
       "0               FDA15         9.30          Low Fat         0.016047   \n",
       "1               DRC01         5.92          Regular         0.019278   \n",
       "2               FDN15        17.50          Low Fat         0.016760   \n",
       "3               FDX07        19.20          Regular         0.074402   \n",
       "4               NCD19         8.93          Low Fat         0.064299   \n",
       "...               ...          ...              ...              ...   \n",
       "14199           FDB58        10.50          Regular         0.013496   \n",
       "14200           FDD47         7.60          Regular         0.142991   \n",
       "14201           NCO17        10.00          Low Fat         0.073529   \n",
       "14202           FDJ26        15.30          Regular         0.064709   \n",
       "14203           FDU37         9.50          Regular         0.104720   \n",
       "\n",
       "                   Item_Type  Item_MRP Outlet_Identifier  \\\n",
       "0                      Dairy  249.8092            OUT049   \n",
       "1                Soft Drinks   48.2692            OUT018   \n",
       "2                       Meat  141.6180            OUT049   \n",
       "3      Fruits and Vegetables  182.0950            OUT010   \n",
       "4                  Household   53.8614            OUT013   \n",
       "...                      ...       ...               ...   \n",
       "14199            Snack Foods  141.3154            OUT046   \n",
       "14200          Starchy Foods  169.1448            OUT018   \n",
       "14201     Health and Hygiene  118.7440            OUT045   \n",
       "14202                 Canned  214.6218            OUT017   \n",
       "14203                 Canned   79.7960            OUT045   \n",
       "\n",
       "       Outlet_Establishment_Year Outlet_Size Outlet_Location_Type  \\\n",
       "0                           1999      Medium               Tier 1   \n",
       "1                           2009      Medium               Tier 3   \n",
       "2                           1999      Medium               Tier 1   \n",
       "3                           1998      Medium               Tier 3   \n",
       "4                           1987        High               Tier 3   \n",
       "...                          ...         ...                  ...   \n",
       "14199                       1997       Small               Tier 1   \n",
       "14200                       2009      Medium               Tier 3   \n",
       "14201                       2002       Small               Tier 2   \n",
       "14202                       2007       Small               Tier 2   \n",
       "14203                       2002       Small               Tier 2   \n",
       "\n",
       "             Outlet_Type  Item_Outlet_Sales  \n",
       "0      Supermarket Type1          3735.1380  \n",
       "1      Supermarket Type2           443.4228  \n",
       "2      Supermarket Type1          2097.2700  \n",
       "3          Grocery Store           732.3800  \n",
       "4      Supermarket Type1           994.7052  \n",
       "...                  ...                ...  \n",
       "14199  Supermarket Type1                NaN  \n",
       "14200  Supermarket Type2                NaN  \n",
       "14201  Supermarket Type1                NaN  \n",
       "14202  Supermarket Type1                NaN  \n",
       "14203  Supermarket Type1                NaN  \n",
       "\n",
       "[14204 rows x 12 columns]"
      ]
     },
     "execution_count": 2,
     "metadata": {},
     "output_type": "execute_result"
    }
   ],
   "source": [
    "data=pd.read_csv(\"DS3_C6_S1_Regression_StoreSales_Data_Project.csv\")\n",
    "data"
   ]
  },
  {
   "cell_type": "markdown",
   "id": "c55f0b51",
   "metadata": {},
   "source": [
    "# Data understanding"
   ]
  },
  {
   "cell_type": "code",
   "execution_count": 3,
   "id": "7d539b01",
   "metadata": {},
   "outputs": [
    {
     "data": {
      "text/plain": [
       "Index(['Item_Identifier', 'Item_Weight', 'Item_Fat_Content', 'Item_Visibility',\n",
       "       'Item_Type', 'Item_MRP', 'Outlet_Identifier',\n",
       "       'Outlet_Establishment_Year', 'Outlet_Size', 'Outlet_Location_Type',\n",
       "       'Outlet_Type', 'Item_Outlet_Sales'],\n",
       "      dtype='object')"
      ]
     },
     "execution_count": 3,
     "metadata": {},
     "output_type": "execute_result"
    }
   ],
   "source": [
    "data.columns           #columns of the data"
   ]
  },
  {
   "cell_type": "code",
   "execution_count": 4,
   "id": "cf7b303c",
   "metadata": {},
   "outputs": [
    {
     "data": {
      "text/plain": [
       "170448"
      ]
     },
     "execution_count": 4,
     "metadata": {},
     "output_type": "execute_result"
    }
   ],
   "source": [
    "data.size            #total number of observations"
   ]
  },
  {
   "cell_type": "code",
   "execution_count": 5,
   "id": "80db1944",
   "metadata": {},
   "outputs": [
    {
     "data": {
      "text/plain": [
       "(14204, 12)"
      ]
     },
     "execution_count": 5,
     "metadata": {},
     "output_type": "execute_result"
    }
   ],
   "source": [
    "data.shape        #rows and columns"
   ]
  },
  {
   "cell_type": "code",
   "execution_count": 6,
   "id": "d34c3c42",
   "metadata": {},
   "outputs": [
    {
     "name": "stdout",
     "output_type": "stream",
     "text": [
      "<class 'pandas.core.frame.DataFrame'>\n",
      "RangeIndex: 14204 entries, 0 to 14203\n",
      "Data columns (total 12 columns):\n",
      " #   Column                     Non-Null Count  Dtype  \n",
      "---  ------                     --------------  -----  \n",
      " 0   Item_Identifier            14204 non-null  object \n",
      " 1   Item_Weight                14204 non-null  float64\n",
      " 2   Item_Fat_Content           14204 non-null  object \n",
      " 3   Item_Visibility            14204 non-null  float64\n",
      " 4   Item_Type                  14204 non-null  object \n",
      " 5   Item_MRP                   14204 non-null  float64\n",
      " 6   Outlet_Identifier          14204 non-null  object \n",
      " 7   Outlet_Establishment_Year  14204 non-null  int64  \n",
      " 8   Outlet_Size                14204 non-null  object \n",
      " 9   Outlet_Location_Type       14204 non-null  object \n",
      " 10  Outlet_Type                14204 non-null  object \n",
      " 11  Item_Outlet_Sales          8523 non-null   float64\n",
      "dtypes: float64(4), int64(1), object(7)\n",
      "memory usage: 1.3+ MB\n"
     ]
    }
   ],
   "source": [
    "data.info()"
   ]
  },
  {
   "cell_type": "code",
   "execution_count": 7,
   "id": "3896097b",
   "metadata": {},
   "outputs": [
    {
     "data": {
      "text/html": [
       "<div>\n",
       "<style scoped>\n",
       "    .dataframe tbody tr th:only-of-type {\n",
       "        vertical-align: middle;\n",
       "    }\n",
       "\n",
       "    .dataframe tbody tr th {\n",
       "        vertical-align: top;\n",
       "    }\n",
       "\n",
       "    .dataframe thead th {\n",
       "        text-align: right;\n",
       "    }\n",
       "</style>\n",
       "<table border=\"1\" class=\"dataframe\">\n",
       "  <thead>\n",
       "    <tr style=\"text-align: right;\">\n",
       "      <th></th>\n",
       "      <th>count</th>\n",
       "      <th>mean</th>\n",
       "      <th>std</th>\n",
       "      <th>min</th>\n",
       "      <th>25%</th>\n",
       "      <th>50%</th>\n",
       "      <th>75%</th>\n",
       "      <th>max</th>\n",
       "    </tr>\n",
       "  </thead>\n",
       "  <tbody>\n",
       "    <tr>\n",
       "      <th>Item_Weight</th>\n",
       "      <td>14204.0</td>\n",
       "      <td>12.793380</td>\n",
       "      <td>4.651716</td>\n",
       "      <td>4.555000</td>\n",
       "      <td>8.710000</td>\n",
       "      <td>12.600000</td>\n",
       "      <td>16.750000</td>\n",
       "      <td>21.350000</td>\n",
       "    </tr>\n",
       "    <tr>\n",
       "      <th>Item_Visibility</th>\n",
       "      <td>14204.0</td>\n",
       "      <td>0.070301</td>\n",
       "      <td>0.048621</td>\n",
       "      <td>0.003575</td>\n",
       "      <td>0.033143</td>\n",
       "      <td>0.062347</td>\n",
       "      <td>0.094037</td>\n",
       "      <td>0.328391</td>\n",
       "    </tr>\n",
       "    <tr>\n",
       "      <th>Item_MRP</th>\n",
       "      <td>14204.0</td>\n",
       "      <td>141.004977</td>\n",
       "      <td>62.086938</td>\n",
       "      <td>31.290000</td>\n",
       "      <td>94.012000</td>\n",
       "      <td>142.247000</td>\n",
       "      <td>185.855600</td>\n",
       "      <td>266.888400</td>\n",
       "    </tr>\n",
       "    <tr>\n",
       "      <th>Outlet_Establishment_Year</th>\n",
       "      <td>14204.0</td>\n",
       "      <td>1997.830681</td>\n",
       "      <td>8.371664</td>\n",
       "      <td>1985.000000</td>\n",
       "      <td>1987.000000</td>\n",
       "      <td>1999.000000</td>\n",
       "      <td>2004.000000</td>\n",
       "      <td>2009.000000</td>\n",
       "    </tr>\n",
       "    <tr>\n",
       "      <th>Item_Outlet_Sales</th>\n",
       "      <td>8523.0</td>\n",
       "      <td>2181.288914</td>\n",
       "      <td>1706.499616</td>\n",
       "      <td>33.290000</td>\n",
       "      <td>834.247400</td>\n",
       "      <td>1794.331000</td>\n",
       "      <td>3101.296400</td>\n",
       "      <td>13086.964800</td>\n",
       "    </tr>\n",
       "  </tbody>\n",
       "</table>\n",
       "</div>"
      ],
      "text/plain": [
       "                             count         mean          std          min  \\\n",
       "Item_Weight                14204.0    12.793380     4.651716     4.555000   \n",
       "Item_Visibility            14204.0     0.070301     0.048621     0.003575   \n",
       "Item_MRP                   14204.0   141.004977    62.086938    31.290000   \n",
       "Outlet_Establishment_Year  14204.0  1997.830681     8.371664  1985.000000   \n",
       "Item_Outlet_Sales           8523.0  2181.288914  1706.499616    33.290000   \n",
       "\n",
       "                                   25%          50%          75%           max  \n",
       "Item_Weight                   8.710000    12.600000    16.750000     21.350000  \n",
       "Item_Visibility               0.033143     0.062347     0.094037      0.328391  \n",
       "Item_MRP                     94.012000   142.247000   185.855600    266.888400  \n",
       "Outlet_Establishment_Year  1987.000000  1999.000000  2004.000000   2009.000000  \n",
       "Item_Outlet_Sales           834.247400  1794.331000  3101.296400  13086.964800  "
      ]
     },
     "execution_count": 7,
     "metadata": {},
     "output_type": "execute_result"
    }
   ],
   "source": [
    "data.describe().T        #summary of numerical data"
   ]
  },
  {
   "cell_type": "code",
   "execution_count": 8,
   "id": "691fbb00",
   "metadata": {},
   "outputs": [
    {
     "data": {
      "text/html": [
       "<div>\n",
       "<style scoped>\n",
       "    .dataframe tbody tr th:only-of-type {\n",
       "        vertical-align: middle;\n",
       "    }\n",
       "\n",
       "    .dataframe tbody tr th {\n",
       "        vertical-align: top;\n",
       "    }\n",
       "\n",
       "    .dataframe thead th {\n",
       "        text-align: right;\n",
       "    }\n",
       "</style>\n",
       "<table border=\"1\" class=\"dataframe\">\n",
       "  <thead>\n",
       "    <tr style=\"text-align: right;\">\n",
       "      <th></th>\n",
       "      <th>count</th>\n",
       "      <th>unique</th>\n",
       "      <th>top</th>\n",
       "      <th>freq</th>\n",
       "    </tr>\n",
       "  </thead>\n",
       "  <tbody>\n",
       "    <tr>\n",
       "      <th>Item_Identifier</th>\n",
       "      <td>14204</td>\n",
       "      <td>1559</td>\n",
       "      <td>FDU15</td>\n",
       "      <td>10</td>\n",
       "    </tr>\n",
       "    <tr>\n",
       "      <th>Item_Fat_Content</th>\n",
       "      <td>14204</td>\n",
       "      <td>2</td>\n",
       "      <td>Low Fat</td>\n",
       "      <td>9185</td>\n",
       "    </tr>\n",
       "    <tr>\n",
       "      <th>Item_Type</th>\n",
       "      <td>14204</td>\n",
       "      <td>16</td>\n",
       "      <td>Fruits and Vegetables</td>\n",
       "      <td>2013</td>\n",
       "    </tr>\n",
       "    <tr>\n",
       "      <th>Outlet_Identifier</th>\n",
       "      <td>14204</td>\n",
       "      <td>10</td>\n",
       "      <td>OUT027</td>\n",
       "      <td>1559</td>\n",
       "    </tr>\n",
       "    <tr>\n",
       "      <th>Outlet_Size</th>\n",
       "      <td>14204</td>\n",
       "      <td>3</td>\n",
       "      <td>Small</td>\n",
       "      <td>7071</td>\n",
       "    </tr>\n",
       "    <tr>\n",
       "      <th>Outlet_Location_Type</th>\n",
       "      <td>14204</td>\n",
       "      <td>3</td>\n",
       "      <td>Tier 3</td>\n",
       "      <td>5583</td>\n",
       "    </tr>\n",
       "    <tr>\n",
       "      <th>Outlet_Type</th>\n",
       "      <td>14204</td>\n",
       "      <td>4</td>\n",
       "      <td>Supermarket Type1</td>\n",
       "      <td>9294</td>\n",
       "    </tr>\n",
       "  </tbody>\n",
       "</table>\n",
       "</div>"
      ],
      "text/plain": [
       "                      count unique                    top  freq\n",
       "Item_Identifier       14204   1559                  FDU15    10\n",
       "Item_Fat_Content      14204      2                Low Fat  9185\n",
       "Item_Type             14204     16  Fruits and Vegetables  2013\n",
       "Outlet_Identifier     14204     10                 OUT027  1559\n",
       "Outlet_Size           14204      3                  Small  7071\n",
       "Outlet_Location_Type  14204      3                 Tier 3  5583\n",
       "Outlet_Type           14204      4      Supermarket Type1  9294"
      ]
     },
     "execution_count": 8,
     "metadata": {},
     "output_type": "execute_result"
    }
   ],
   "source": [
    "data.describe(include='object').T          #summary of object data"
   ]
  },
  {
   "cell_type": "code",
   "execution_count": 9,
   "id": "d1d32989",
   "metadata": {},
   "outputs": [
    {
     "data": {
      "text/plain": [
       "Item_Identifier                 0\n",
       "Item_Weight                     0\n",
       "Item_Fat_Content                0\n",
       "Item_Visibility                 0\n",
       "Item_Type                       0\n",
       "Item_MRP                        0\n",
       "Outlet_Identifier               0\n",
       "Outlet_Establishment_Year       0\n",
       "Outlet_Size                     0\n",
       "Outlet_Location_Type            0\n",
       "Outlet_Type                     0\n",
       "Item_Outlet_Sales            5681\n",
       "dtype: int64"
      ]
     },
     "execution_count": 9,
     "metadata": {},
     "output_type": "execute_result"
    }
   ],
   "source": [
    "data.isna().sum()          #checking for null values"
   ]
  },
  {
   "cell_type": "markdown",
   "id": "36a9a68c",
   "metadata": {},
   "source": [
    "### There are null values in the column Item_Outlet_Sales. We can predict the missing values of the column"
   ]
  },
  {
   "cell_type": "code",
   "execution_count": 10,
   "id": "f2da0aaf",
   "metadata": {},
   "outputs": [
    {
     "data": {
      "text/plain": [
       "Item_Identifier               object\n",
       "Item_Weight                  float64\n",
       "Item_Fat_Content              object\n",
       "Item_Visibility              float64\n",
       "Item_Type                     object\n",
       "Item_MRP                     float64\n",
       "Outlet_Identifier             object\n",
       "Outlet_Establishment_Year      int64\n",
       "Outlet_Size                   object\n",
       "Outlet_Location_Type          object\n",
       "Outlet_Type                   object\n",
       "Item_Outlet_Sales            float64\n",
       "dtype: object"
      ]
     },
     "execution_count": 10,
     "metadata": {},
     "output_type": "execute_result"
    }
   ],
   "source": [
    "data.dtypes"
   ]
  },
  {
   "cell_type": "markdown",
   "id": "96da6ffa",
   "metadata": {},
   "source": [
    "### As we can see that few of the columns are in object datatype. But for ML model we need all numerical data, so we label encode all the object columns"
   ]
  },
  {
   "cell_type": "markdown",
   "id": "465a63cd",
   "metadata": {},
   "source": [
    "# Label Encoding"
   ]
  },
  {
   "cell_type": "code",
   "execution_count": 11,
   "id": "6ff4e2c4",
   "metadata": {},
   "outputs": [],
   "source": [
    "label=LabelEncoder()"
   ]
  },
  {
   "cell_type": "code",
   "execution_count": 12,
   "id": "23042b4a",
   "metadata": {},
   "outputs": [],
   "source": [
    "data['Item_Identifier_encode']=label.fit_transform(data.Item_Identifier)"
   ]
  },
  {
   "cell_type": "code",
   "execution_count": 13,
   "id": "d3eb89b2",
   "metadata": {},
   "outputs": [],
   "source": [
    "data['Item_Fat_Content_encode']=label.fit_transform(data.Item_Fat_Content)"
   ]
  },
  {
   "cell_type": "code",
   "execution_count": 14,
   "id": "c51783e9",
   "metadata": {},
   "outputs": [],
   "source": [
    "data['Item_Type_encode']=label.fit_transform(data.Item_Type)"
   ]
  },
  {
   "cell_type": "code",
   "execution_count": 15,
   "id": "3879187e",
   "metadata": {},
   "outputs": [],
   "source": [
    "data['Outlet_Identifier_encode']=label.fit_transform(data.Outlet_Identifier)"
   ]
  },
  {
   "cell_type": "code",
   "execution_count": 16,
   "id": "6c4a7ea4",
   "metadata": {},
   "outputs": [],
   "source": [
    "data['Outlet_Size_encode']=label.fit_transform(data.Outlet_Size)"
   ]
  },
  {
   "cell_type": "code",
   "execution_count": 17,
   "id": "93548170",
   "metadata": {},
   "outputs": [],
   "source": [
    "data['Outlet_Location_Type_encode']=label.fit_transform(data.Outlet_Location_Type)"
   ]
  },
  {
   "cell_type": "code",
   "execution_count": 18,
   "id": "d46460d6",
   "metadata": {},
   "outputs": [],
   "source": [
    "data['Outlet_Type_encode']=label.fit_transform(data.Outlet_Type)"
   ]
  },
  {
   "cell_type": "code",
   "execution_count": 19,
   "id": "b33645bb",
   "metadata": {},
   "outputs": [
    {
     "data": {
      "text/plain": [
       "Item_Identifier                 object\n",
       "Item_Weight                    float64\n",
       "Item_Fat_Content                object\n",
       "Item_Visibility                float64\n",
       "Item_Type                       object\n",
       "Item_MRP                       float64\n",
       "Outlet_Identifier               object\n",
       "Outlet_Establishment_Year        int64\n",
       "Outlet_Size                     object\n",
       "Outlet_Location_Type            object\n",
       "Outlet_Type                     object\n",
       "Item_Outlet_Sales              float64\n",
       "Item_Identifier_encode           int32\n",
       "Item_Fat_Content_encode          int32\n",
       "Item_Type_encode                 int32\n",
       "Outlet_Identifier_encode         int32\n",
       "Outlet_Size_encode               int32\n",
       "Outlet_Location_Type_encode      int32\n",
       "Outlet_Type_encode               int32\n",
       "dtype: object"
      ]
     },
     "execution_count": 19,
     "metadata": {},
     "output_type": "execute_result"
    }
   ],
   "source": [
    "data.dtypes"
   ]
  },
  {
   "cell_type": "markdown",
   "id": "a97910f4",
   "metadata": {},
   "source": [
    "# EDA"
   ]
  },
  {
   "cell_type": "markdown",
   "id": "519f27e8",
   "metadata": {},
   "source": [
    "## Univarient"
   ]
  },
  {
   "cell_type": "code",
   "execution_count": 20,
   "id": "97e0f095",
   "metadata": {},
   "outputs": [
    {
     "data": {
      "text/html": [
       "<div>\n",
       "<style scoped>\n",
       "    .dataframe tbody tr th:only-of-type {\n",
       "        vertical-align: middle;\n",
       "    }\n",
       "\n",
       "    .dataframe tbody tr th {\n",
       "        vertical-align: top;\n",
       "    }\n",
       "\n",
       "    .dataframe thead th {\n",
       "        text-align: right;\n",
       "    }\n",
       "</style>\n",
       "<table border=\"1\" class=\"dataframe\">\n",
       "  <thead>\n",
       "    <tr style=\"text-align: right;\">\n",
       "      <th></th>\n",
       "      <th>Item_Weight</th>\n",
       "      <th>Item_Visibility</th>\n",
       "      <th>Item_MRP</th>\n",
       "      <th>Outlet_Establishment_Year</th>\n",
       "      <th>Item_Outlet_Sales</th>\n",
       "      <th>Item_Identifier_encode</th>\n",
       "      <th>Item_Fat_Content_encode</th>\n",
       "      <th>Item_Type_encode</th>\n",
       "      <th>Outlet_Identifier_encode</th>\n",
       "      <th>Outlet_Size_encode</th>\n",
       "      <th>Outlet_Location_Type_encode</th>\n",
       "      <th>Outlet_Type_encode</th>\n",
       "    </tr>\n",
       "  </thead>\n",
       "  <tbody>\n",
       "    <tr>\n",
       "      <th>0</th>\n",
       "      <td>9.30</td>\n",
       "      <td>0.016047</td>\n",
       "      <td>249.8092</td>\n",
       "      <td>1999</td>\n",
       "      <td>3735.1380</td>\n",
       "      <td>156</td>\n",
       "      <td>0</td>\n",
       "      <td>4</td>\n",
       "      <td>9</td>\n",
       "      <td>1</td>\n",
       "      <td>0</td>\n",
       "      <td>1</td>\n",
       "    </tr>\n",
       "    <tr>\n",
       "      <th>1</th>\n",
       "      <td>5.92</td>\n",
       "      <td>0.019278</td>\n",
       "      <td>48.2692</td>\n",
       "      <td>2009</td>\n",
       "      <td>443.4228</td>\n",
       "      <td>8</td>\n",
       "      <td>1</td>\n",
       "      <td>14</td>\n",
       "      <td>3</td>\n",
       "      <td>1</td>\n",
       "      <td>2</td>\n",
       "      <td>2</td>\n",
       "    </tr>\n",
       "    <tr>\n",
       "      <th>2</th>\n",
       "      <td>17.50</td>\n",
       "      <td>0.016760</td>\n",
       "      <td>141.6180</td>\n",
       "      <td>1999</td>\n",
       "      <td>2097.2700</td>\n",
       "      <td>662</td>\n",
       "      <td>0</td>\n",
       "      <td>10</td>\n",
       "      <td>9</td>\n",
       "      <td>1</td>\n",
       "      <td>0</td>\n",
       "      <td>1</td>\n",
       "    </tr>\n",
       "    <tr>\n",
       "      <th>3</th>\n",
       "      <td>19.20</td>\n",
       "      <td>0.074402</td>\n",
       "      <td>182.0950</td>\n",
       "      <td>1998</td>\n",
       "      <td>732.3800</td>\n",
       "      <td>1121</td>\n",
       "      <td>1</td>\n",
       "      <td>6</td>\n",
       "      <td>0</td>\n",
       "      <td>1</td>\n",
       "      <td>2</td>\n",
       "      <td>0</td>\n",
       "    </tr>\n",
       "    <tr>\n",
       "      <th>4</th>\n",
       "      <td>8.93</td>\n",
       "      <td>0.064299</td>\n",
       "      <td>53.8614</td>\n",
       "      <td>1987</td>\n",
       "      <td>994.7052</td>\n",
       "      <td>1297</td>\n",
       "      <td>0</td>\n",
       "      <td>9</td>\n",
       "      <td>1</td>\n",
       "      <td>0</td>\n",
       "      <td>2</td>\n",
       "      <td>1</td>\n",
       "    </tr>\n",
       "    <tr>\n",
       "      <th>...</th>\n",
       "      <td>...</td>\n",
       "      <td>...</td>\n",
       "      <td>...</td>\n",
       "      <td>...</td>\n",
       "      <td>...</td>\n",
       "      <td>...</td>\n",
       "      <td>...</td>\n",
       "      <td>...</td>\n",
       "      <td>...</td>\n",
       "      <td>...</td>\n",
       "      <td>...</td>\n",
       "      <td>...</td>\n",
       "    </tr>\n",
       "    <tr>\n",
       "      <th>14199</th>\n",
       "      <td>10.50</td>\n",
       "      <td>0.013496</td>\n",
       "      <td>141.3154</td>\n",
       "      <td>1997</td>\n",
       "      <td>NaN</td>\n",
       "      <td>233</td>\n",
       "      <td>1</td>\n",
       "      <td>13</td>\n",
       "      <td>8</td>\n",
       "      <td>2</td>\n",
       "      <td>0</td>\n",
       "      <td>1</td>\n",
       "    </tr>\n",
       "    <tr>\n",
       "      <th>14200</th>\n",
       "      <td>7.60</td>\n",
       "      <td>0.142991</td>\n",
       "      <td>169.1448</td>\n",
       "      <td>2009</td>\n",
       "      <td>NaN</td>\n",
       "      <td>308</td>\n",
       "      <td>1</td>\n",
       "      <td>15</td>\n",
       "      <td>3</td>\n",
       "      <td>1</td>\n",
       "      <td>2</td>\n",
       "      <td>2</td>\n",
       "    </tr>\n",
       "    <tr>\n",
       "      <th>14201</th>\n",
       "      <td>10.00</td>\n",
       "      <td>0.073529</td>\n",
       "      <td>118.7440</td>\n",
       "      <td>2002</td>\n",
       "      <td>NaN</td>\n",
       "      <td>1426</td>\n",
       "      <td>0</td>\n",
       "      <td>8</td>\n",
       "      <td>7</td>\n",
       "      <td>2</td>\n",
       "      <td>1</td>\n",
       "      <td>1</td>\n",
       "    </tr>\n",
       "    <tr>\n",
       "      <th>14202</th>\n",
       "      <td>15.30</td>\n",
       "      <td>0.064709</td>\n",
       "      <td>214.6218</td>\n",
       "      <td>2007</td>\n",
       "      <td>NaN</td>\n",
       "      <td>521</td>\n",
       "      <td>1</td>\n",
       "      <td>3</td>\n",
       "      <td>2</td>\n",
       "      <td>2</td>\n",
       "      <td>1</td>\n",
       "      <td>1</td>\n",
       "    </tr>\n",
       "    <tr>\n",
       "      <th>14203</th>\n",
       "      <td>9.50</td>\n",
       "      <td>0.104720</td>\n",
       "      <td>79.7960</td>\n",
       "      <td>2002</td>\n",
       "      <td>NaN</td>\n",
       "      <td>997</td>\n",
       "      <td>1</td>\n",
       "      <td>3</td>\n",
       "      <td>7</td>\n",
       "      <td>2</td>\n",
       "      <td>1</td>\n",
       "      <td>1</td>\n",
       "    </tr>\n",
       "  </tbody>\n",
       "</table>\n",
       "<p>14204 rows × 12 columns</p>\n",
       "</div>"
      ],
      "text/plain": [
       "       Item_Weight  Item_Visibility  Item_MRP  Outlet_Establishment_Year  \\\n",
       "0             9.30         0.016047  249.8092                       1999   \n",
       "1             5.92         0.019278   48.2692                       2009   \n",
       "2            17.50         0.016760  141.6180                       1999   \n",
       "3            19.20         0.074402  182.0950                       1998   \n",
       "4             8.93         0.064299   53.8614                       1987   \n",
       "...            ...              ...       ...                        ...   \n",
       "14199        10.50         0.013496  141.3154                       1997   \n",
       "14200         7.60         0.142991  169.1448                       2009   \n",
       "14201        10.00         0.073529  118.7440                       2002   \n",
       "14202        15.30         0.064709  214.6218                       2007   \n",
       "14203         9.50         0.104720   79.7960                       2002   \n",
       "\n",
       "       Item_Outlet_Sales  Item_Identifier_encode  Item_Fat_Content_encode  \\\n",
       "0              3735.1380                     156                        0   \n",
       "1               443.4228                       8                        1   \n",
       "2              2097.2700                     662                        0   \n",
       "3               732.3800                    1121                        1   \n",
       "4               994.7052                    1297                        0   \n",
       "...                  ...                     ...                      ...   \n",
       "14199                NaN                     233                        1   \n",
       "14200                NaN                     308                        1   \n",
       "14201                NaN                    1426                        0   \n",
       "14202                NaN                     521                        1   \n",
       "14203                NaN                     997                        1   \n",
       "\n",
       "       Item_Type_encode  Outlet_Identifier_encode  Outlet_Size_encode  \\\n",
       "0                     4                         9                   1   \n",
       "1                    14                         3                   1   \n",
       "2                    10                         9                   1   \n",
       "3                     6                         0                   1   \n",
       "4                     9                         1                   0   \n",
       "...                 ...                       ...                 ...   \n",
       "14199                13                         8                   2   \n",
       "14200                15                         3                   1   \n",
       "14201                 8                         7                   2   \n",
       "14202                 3                         2                   2   \n",
       "14203                 3                         7                   2   \n",
       "\n",
       "       Outlet_Location_Type_encode  Outlet_Type_encode  \n",
       "0                                0                   1  \n",
       "1                                2                   2  \n",
       "2                                0                   1  \n",
       "3                                2                   0  \n",
       "4                                2                   1  \n",
       "...                            ...                 ...  \n",
       "14199                            0                   1  \n",
       "14200                            2                   2  \n",
       "14201                            1                   1  \n",
       "14202                            1                   1  \n",
       "14203                            1                   1  \n",
       "\n",
       "[14204 rows x 12 columns]"
      ]
     },
     "execution_count": 20,
     "metadata": {},
     "output_type": "execute_result"
    }
   ],
   "source": [
    "data.select_dtypes(['float64','int32','int64'])"
   ]
  },
  {
   "cell_type": "code",
   "execution_count": 21,
   "id": "7ccdf86a",
   "metadata": {},
   "outputs": [
    {
     "data": {
      "image/png": "[encoded data removed]",
      "text/plain": [
       "<Figure size 432x288 with 1 Axes>"
      ]
     },
     "metadata": {
      "needs_background": "light"
     },
     "output_type": "display_data"
    }
   ],
   "source": [
    "sns.boxplot(data.Item_Weight)\n",
    "plt.title(\"Distribution of Item weight\")\n",
    "plt.show()"
   ]
  },
  {
   "cell_type": "markdown",
   "id": "3acfe9f8",
   "metadata": {},
   "source": [
    "### Most of the items weight between 8 to 17 kgs"
   ]
  },
  {
   "cell_type": "code",
   "execution_count": 22,
   "id": "eb5d0bd1",
   "metadata": {},
   "outputs": [
    {
     "data": {
      "image/png": "[encoded data removed]",
      "text/plain": [
       "<Figure size 720x360 with 1 Axes>"
      ]
     },
     "metadata": {},
     "output_type": "display_data"
    }
   ],
   "source": [
    "labels=data['Item_Fat_Content'].unique()\n",
    "def label_function(val):\n",
    "    return f'{val / 100 * len(data):.0f}\\n{val:.0f}%'\n",
    "fig, ax = plt.subplots(ncols=1, figsize=(10, 5))\n",
    "data.groupby(data['Item_Fat_Content']).size().plot(kind='pie', autopct=label_function, textprops={'fontsize': 10}, ax=ax)\n",
    "ax.set_ylabel('Item fat content', size=15)\n",
    "# show plot\n",
    "plt.show()"
   ]
  },
  {
   "cell_type": "markdown",
   "id": "df0fc3f4",
   "metadata": {},
   "source": [
    "### The items have 2 kinds of fat content : low fat and regular.\n",
    "### 65% of the items are of low fat where as the other 35% are regular"
   ]
  },
  {
   "cell_type": "code",
   "execution_count": 23,
   "id": "2a1cec3b",
   "metadata": {},
   "outputs": [
    {
     "data": {
      "text/plain": [
       "0        0.016047\n",
       "1        0.019278\n",
       "2        0.016760\n",
       "3        0.074402\n",
       "4        0.064299\n",
       "           ...   \n",
       "14199    0.013496\n",
       "14200    0.142991\n",
       "14201    0.073529\n",
       "14202    0.064709\n",
       "14203    0.104720\n",
       "Name: Item_Visibility, Length: 14204, dtype: float64"
      ]
     },
     "execution_count": 23,
     "metadata": {},
     "output_type": "execute_result"
    }
   ],
   "source": [
    "data.Item_Visibility"
   ]
  },
  {
   "cell_type": "code",
   "execution_count": 24,
   "id": "a5bf68d1",
   "metadata": {},
   "outputs": [
    {
     "data": {
      "image/png": "[encoded data removed]",
      "text/plain": [
       "<Figure size 432x288 with 1 Axes>"
      ]
     },
     "metadata": {
      "needs_background": "light"
     },
     "output_type": "display_data"
    }
   ],
   "source": [
    "sns.boxplot(data.Item_Visibility)\n",
    "plt.title(\"Distribution of Item Visibility\")\n",
    "plt.show()"
   ]
  },
  {
   "cell_type": "markdown",
   "id": "7e86f949",
   "metadata": {},
   "source": [
    "### Most of the items are in the visibility range of 0.01 - 0.1. There are many outliers in this column"
   ]
  },
  {
   "cell_type": "code",
   "execution_count": 25,
   "id": "0b52f462",
   "metadata": {},
   "outputs": [
    {
     "data": {
      "image/png": "[encoded data removed]",
      "text/plain": [
       "<Figure size 2016x720 with 1 Axes>"
      ]
     },
     "metadata": {
      "needs_background": "light"
     },
     "output_type": "display_data"
    }
   ],
   "source": [
    "plt.figure(figsize=(28,10))\n",
    "sns.countplot(data.Item_Type)\n",
    "plt.title(\"Item types\")\n",
    "plt.show()"
   ]
  },
  {
   "cell_type": "markdown",
   "id": "a33505c7",
   "metadata": {},
   "source": [
    "### We can see that there are 16 types of items. And the most popular ones are Fruits and vegetables and snacks foods.\n",
    "### The least type of item is seafood"
   ]
  },
  {
   "cell_type": "code",
   "execution_count": 26,
   "id": "8fb0b9af",
   "metadata": {},
   "outputs": [
    {
     "data": {
      "text/plain": [
       "Index(['Item_Identifier', 'Item_Weight', 'Item_Fat_Content', 'Item_Visibility',\n",
       "       'Item_Type', 'Item_MRP', 'Outlet_Identifier',\n",
       "       'Outlet_Establishment_Year', 'Outlet_Size', 'Outlet_Location_Type',\n",
       "       'Outlet_Type', 'Item_Outlet_Sales', 'Item_Identifier_encode',\n",
       "       'Item_Fat_Content_encode', 'Item_Type_encode',\n",
       "       'Outlet_Identifier_encode', 'Outlet_Size_encode',\n",
       "       'Outlet_Location_Type_encode', 'Outlet_Type_encode'],\n",
       "      dtype='object')"
      ]
     },
     "execution_count": 26,
     "metadata": {},
     "output_type": "execute_result"
    }
   ],
   "source": [
    "data.columns"
   ]
  },
  {
   "cell_type": "code",
   "execution_count": 27,
   "id": "14e31305",
   "metadata": {},
   "outputs": [
    {
     "data": {
      "image/png": "[encoded data removed]",
      "text/plain": [
       "<Figure size 432x288 with 1 Axes>"
      ]
     },
     "metadata": {
      "needs_background": "light"
     },
     "output_type": "display_data"
    }
   ],
   "source": [
    "sns.boxplot(data.Item_MRP)\n",
    "plt.title(\"Distribution of Item MRP\")\n",
    "plt.show()"
   ]
  },
  {
   "cell_type": "markdown",
   "id": "cb222ab5",
   "metadata": {},
   "source": [
    "### Most of the items are in the cost range of 90 - 190"
   ]
  },
  {
   "cell_type": "code",
   "execution_count": 28,
   "id": "e65de89c",
   "metadata": {},
   "outputs": [
    {
     "data": {
      "image/png": "[encoded data removed]",
      "text/plain": [
       "<Figure size 1440x576 with 1 Axes>"
      ]
     },
     "metadata": {
      "needs_background": "light"
     },
     "output_type": "display_data"
    }
   ],
   "source": [
    "plt.figure(figsize=(20,8))\n",
    "sns.countplot(data.Outlet_Identifier)\n",
    "plt.title(\"Outlets\")\n",
    "plt.show()"
   ]
  },
  {
   "cell_type": "markdown",
   "id": "73c78bc8",
   "metadata": {},
   "source": [
    "### There are 10 different types outlets. Most of the outlets have the same number of stores. OUT10 and OUT19 have the least number of stores"
   ]
  },
  {
   "cell_type": "code",
   "execution_count": 29,
   "id": "e2e28a91",
   "metadata": {},
   "outputs": [
    {
     "data": {
      "image/png": "[encoded data removed]",
      "text/plain": [
       "<Figure size 1440x576 with 1 Axes>"
      ]
     },
     "metadata": {
      "needs_background": "light"
     },
     "output_type": "display_data"
    }
   ],
   "source": [
    "plt.figure(figsize=(20,8))\n",
    "sns.countplot(data.Outlet_Establishment_Year)\n",
    "plt.title(\"Outlets\")\n",
    "plt.show()"
   ]
  },
  {
   "cell_type": "markdown",
   "id": "65dd2a43",
   "metadata": {},
   "source": [
    "### Most number of outlets were established in the year 1985. After 1985 the number of outlets have been increasing constantly other than in the year 1998"
   ]
  },
  {
   "cell_type": "code",
   "execution_count": 30,
   "id": "567b39c6",
   "metadata": {},
   "outputs": [
    {
     "data": {
      "image/png": "[encoded data removed]",
      "text/plain": [
       "<Figure size 720x360 with 1 Axes>"
      ]
     },
     "metadata": {},
     "output_type": "display_data"
    }
   ],
   "source": [
    "labels=data['Outlet_Size'].unique()\n",
    "def label_function(val):\n",
    "    return f'{val / 100 * len(data):.0f}\\n{val:.0f}%'\n",
    "fig, ax = plt.subplots(ncols=1, figsize=(10, 5))\n",
    "data.groupby(data['Outlet_Size']).size().plot(kind='pie', autopct=label_function, textprops={'fontsize': 10}, ax=ax)\n",
    "ax.set_ylabel('Outlet_Size', size=15)\n",
    "# show plot\n",
    "plt.show()"
   ]
  },
  {
   "cell_type": "markdown",
   "id": "7557ab68",
   "metadata": {},
   "source": [
    "### Most of the outlets are small in size(50%). High size outlets are the least(11%)"
   ]
  },
  {
   "cell_type": "code",
   "execution_count": 31,
   "id": "ab814920",
   "metadata": {},
   "outputs": [
    {
     "data": {
      "image/png": "[encoded data removed]",
      "text/plain": [
       "<Figure size 720x360 with 1 Axes>"
      ]
     },
     "metadata": {},
     "output_type": "display_data"
    }
   ],
   "source": [
    "labels=data['Outlet_Location_Type'].unique()\n",
    "def label_function(val):\n",
    "    return f'{val / 100 * len(data):.0f}\\n{val:.0f}%'\n",
    "fig, ax = plt.subplots(ncols=1, figsize=(10, 5))\n",
    "data.groupby(data['Outlet_Location_Type']).size().plot(kind='pie', autopct=label_function, textprops={'fontsize': 10}, ax=ax)\n",
    "ax.set_ylabel('Outlet_Location_Type', size=15)\n",
    "# show plot\n",
    "plt.show()"
   ]
  },
  {
   "cell_type": "markdown",
   "id": "4fac6353",
   "metadata": {},
   "source": [
    "### The stores are almost equally spread across each location type. Tier 3 is just ahead with 39%"
   ]
  },
  {
   "cell_type": "code",
   "execution_count": 32,
   "id": "78e647f2",
   "metadata": {},
   "outputs": [
    {
     "data": {
      "image/png": "[encoded data removed]",
      "text/plain": [
       "<Figure size 720x360 with 1 Axes>"
      ]
     },
     "metadata": {},
     "output_type": "display_data"
    }
   ],
   "source": [
    "labels=data['Outlet_Type'].unique()\n",
    "def label_function(val):\n",
    "    return f'{val / 100 * len(data):.0f}\\n{val:.0f}%'\n",
    "fig, ax = plt.subplots(ncols=1, figsize=(10, 5))\n",
    "data.groupby(data['Outlet_Type']).size().plot(kind='pie', autopct=label_function, textprops={'fontsize': 10}, ax=ax)\n",
    "ax.set_ylabel('Outlet_Type', size=15)\n",
    "# show plot\n",
    "plt.show()"
   ]
  },
  {
   "cell_type": "markdown",
   "id": "17bdcd0a",
   "metadata": {},
   "source": [
    "### Most of the stores are of Supermart type 1. The other 3 types have almost the same number"
   ]
  },
  {
   "cell_type": "code",
   "execution_count": 33,
   "id": "8684fad3",
   "metadata": {},
   "outputs": [
    {
     "data": {
      "image/png": "[encoded data removed]",
      "text/plain": [
       "<Figure size 432x288 with 1 Axes>"
      ]
     },
     "metadata": {
      "needs_background": "light"
     },
     "output_type": "display_data"
    }
   ],
   "source": [
    "sns.boxplot(data.Item_Outlet_Sales)\n",
    "plt.title(\"Distribution of Item Sales\")\n",
    "plt.show()"
   ]
  },
  {
   "cell_type": "markdown",
   "id": "38ff5f88",
   "metadata": {},
   "source": [
    "### The items sales mostly ranges between 1000 - 3000. There are many outliers in this column"
   ]
  },
  {
   "cell_type": "markdown",
   "id": "8882a37f",
   "metadata": {},
   "source": [
    "# Bivarient Analysis"
   ]
  },
  {
   "cell_type": "code",
   "execution_count": 34,
   "id": "9e067c4a",
   "metadata": {},
   "outputs": [
    {
     "data": {
      "image/png": "[encoded data removed]",
      "text/plain": [
       "<Figure size 432x288 with 1 Axes>"
      ]
     },
     "metadata": {
      "needs_background": "light"
     },
     "output_type": "display_data"
    }
   ],
   "source": [
    "sns.barplot(data.Item_Fat_Content,data.Item_Outlet_Sales)\n",
    "plt.title(\"Fat content vs sales\")\n",
    "plt.show()"
   ]
  },
  {
   "cell_type": "markdown",
   "id": "eff7789c",
   "metadata": {},
   "source": [
    "### The sales of both low fat and regular items are almost the same"
   ]
  },
  {
   "cell_type": "code",
   "execution_count": 35,
   "id": "b5b068e0",
   "metadata": {},
   "outputs": [
    {
     "data": {
      "image/png": "[encoded data removed]",
      "text/plain": [
       "<Figure size 432x288 with 1 Axes>"
      ]
     },
     "metadata": {
      "needs_background": "light"
     },
     "output_type": "display_data"
    }
   ],
   "source": [
    "sns.scatterplot(data.Item_Weight,data.Item_Outlet_Sales)\n",
    "plt.title(\"Item weight vs Sales\")\n",
    "plt.show()"
   ]
  },
  {
   "cell_type": "markdown",
   "id": "54e65440",
   "metadata": {},
   "source": [
    "### There is no particular trend for weight vs sales"
   ]
  },
  {
   "cell_type": "code",
   "execution_count": 36,
   "id": "87b918f0",
   "metadata": {},
   "outputs": [
    {
     "data": {
      "image/png": "[encoded data removed]",
      "text/plain": [
       "<Figure size 432x288 with 1 Axes>"
      ]
     },
     "metadata": {
      "needs_background": "light"
     },
     "output_type": "display_data"
    }
   ],
   "source": [
    "sns.scatterplot(data.Item_Visibility,data.Item_Outlet_Sales)\n",
    "plt.title(\"Item_Visibility vs Sales\")\n",
    "plt.show()"
   ]
  },
  {
   "cell_type": "markdown",
   "id": "143c4a6a",
   "metadata": {},
   "source": [
    "### Here we can observe that the sales of items with low visibility is high compared to ones with high visibility items"
   ]
  },
  {
   "cell_type": "code",
   "execution_count": 37,
   "id": "f6cb8b8a",
   "metadata": {},
   "outputs": [
    {
     "data": {
      "image/png": "[encoded data removed]",
      "text/plain": [
       "<Figure size 1800x576 with 1 Axes>"
      ]
     },
     "metadata": {
      "needs_background": "light"
     },
     "output_type": "display_data"
    }
   ],
   "source": [
    "plt.figure(figsize=(25,8))\n",
    "sns.barplot(data.Item_Type,data.Item_Outlet_Sales)\n",
    "plt.title(\"Item_Type vs sales\")\n",
    "plt.show()"
   ]
  },
  {
   "cell_type": "markdown",
   "id": "a19afb1e",
   "metadata": {},
   "source": [
    "### Almost all the item types have the same amount of sales"
   ]
  },
  {
   "cell_type": "code",
   "execution_count": 38,
   "id": "0cb3d07a",
   "metadata": {},
   "outputs": [
    {
     "data": {
      "image/png": "[encoded data removed]",
      "text/plain": [
       "<Figure size 432x288 with 1 Axes>"
      ]
     },
     "metadata": {
      "needs_background": "light"
     },
     "output_type": "display_data"
    }
   ],
   "source": [
    "sns.scatterplot(data.Item_MRP,data.Item_Outlet_Sales)\n",
    "plt.title(\"Item_MRP vs Sales\")\n",
    "plt.show()"
   ]
  },
  {
   "cell_type": "markdown",
   "id": "aa3eb974",
   "metadata": {},
   "source": [
    "### The sales of the items increases as the MRP of the item also increases"
   ]
  },
  {
   "cell_type": "code",
   "execution_count": 39,
   "id": "f5c4b195",
   "metadata": {},
   "outputs": [
    {
     "data": {
      "image/png": "[encoded data removed]",
      "text/plain": [
       "<Figure size 1800x576 with 1 Axes>"
      ]
     },
     "metadata": {
      "needs_background": "light"
     },
     "output_type": "display_data"
    }
   ],
   "source": [
    "plt.figure(figsize=(25,8))\n",
    "sns.barplot(data.Outlet_Identifier,data.Item_Outlet_Sales)\n",
    "plt.title(\"Outlet_Identifier vs sales\")\n",
    "plt.show()"
   ]
  },
  {
   "cell_type": "markdown",
   "id": "cf5a135b",
   "metadata": {},
   "source": [
    "### The outlet 27 has the highest sales. Outlet 19 and 10 have the least sales"
   ]
  },
  {
   "cell_type": "code",
   "execution_count": 40,
   "id": "75c6f00a",
   "metadata": {},
   "outputs": [
    {
     "data": {
      "image/png": "[encoded data removed]",
      "text/plain": [
       "<Figure size 1800x576 with 1 Axes>"
      ]
     },
     "metadata": {
      "needs_background": "light"
     },
     "output_type": "display_data"
    }
   ],
   "source": [
    "plt.figure(figsize=(25,8))\n",
    "sns.barplot(data.Outlet_Establishment_Year,data.Item_Outlet_Sales)\n",
    "plt.title(\"Outlet_Establishment_Year vs sales\")\n",
    "plt.show()"
   ]
  },
  {
   "cell_type": "markdown",
   "id": "8e7d131b",
   "metadata": {},
   "source": [
    "### The sales of all the stores established in each year is almost the same. But the stores established in 1998 produce the least sales"
   ]
  },
  {
   "cell_type": "code",
   "execution_count": 41,
   "id": "be8cfade",
   "metadata": {},
   "outputs": [
    {
     "data": {
      "image/png": "[encoded data removed]",
      "text/plain": [
       "<Figure size 1080x360 with 1 Axes>"
      ]
     },
     "metadata": {
      "needs_background": "light"
     },
     "output_type": "display_data"
    }
   ],
   "source": [
    "plt.figure(figsize=(15,5))\n",
    "sns.barplot(data.Outlet_Size,data.Item_Outlet_Sales)\n",
    "plt.title(\"Outlet_Size vs sales\")\n",
    "plt.show()"
   ]
  },
  {
   "cell_type": "markdown",
   "id": "eed75c07",
   "metadata": {},
   "source": [
    "### Medium and High size outlets have the highest sales. Small size outlets have little less sales"
   ]
  },
  {
   "cell_type": "code",
   "execution_count": 42,
   "id": "4b736b93",
   "metadata": {},
   "outputs": [
    {
     "data": {
      "image/png": "[encoded data removed]",
      "text/plain": [
       "<Figure size 1080x360 with 1 Axes>"
      ]
     },
     "metadata": {
      "needs_background": "light"
     },
     "output_type": "display_data"
    }
   ],
   "source": [
    "plt.figure(figsize=(15,5))\n",
    "sns.barplot(data.Outlet_Location_Type,data.Item_Outlet_Sales)\n",
    "plt.title(\"Outlet_Location_Type vs sales\")\n",
    "plt.show()"
   ]
  },
  {
   "cell_type": "markdown",
   "id": "27a61c9c",
   "metadata": {},
   "source": [
    "### The sales of stores in Tier 3 and Tier 2 is highest. Tier 1 has the least sales"
   ]
  },
  {
   "cell_type": "code",
   "execution_count": 43,
   "id": "47dfc834",
   "metadata": {},
   "outputs": [
    {
     "data": {
      "image/png": "[encoded data removed]",
      "text/plain": [
       "<Figure size 1080x360 with 1 Axes>"
      ]
     },
     "metadata": {
      "needs_background": "light"
     },
     "output_type": "display_data"
    }
   ],
   "source": [
    "plt.figure(figsize=(15,5))\n",
    "sns.barplot(data.Outlet_Type,data.Item_Outlet_Sales)\n",
    "plt.title(\"Outlet_Type vs sales\")\n",
    "plt.show()"
   ]
  },
  {
   "cell_type": "markdown",
   "id": "b9109ac1",
   "metadata": {},
   "source": [
    "### Supermarkert type 3 has the highest sales whereas grocery store has the least sales"
   ]
  },
  {
   "cell_type": "markdown",
   "id": "06abcdac",
   "metadata": {},
   "source": [
    "# Multivarient Analysis"
   ]
  },
  {
   "cell_type": "code",
   "execution_count": 44,
   "id": "178bf12a",
   "metadata": {},
   "outputs": [
    {
     "data": {
      "text/plain": [
       "Index(['Item_Identifier', 'Item_Weight', 'Item_Fat_Content', 'Item_Visibility',\n",
       "       'Item_Type', 'Item_MRP', 'Outlet_Identifier',\n",
       "       'Outlet_Establishment_Year', 'Outlet_Size', 'Outlet_Location_Type',\n",
       "       'Outlet_Type', 'Item_Outlet_Sales', 'Item_Identifier_encode',\n",
       "       'Item_Fat_Content_encode', 'Item_Type_encode',\n",
       "       'Outlet_Identifier_encode', 'Outlet_Size_encode',\n",
       "       'Outlet_Location_Type_encode', 'Outlet_Type_encode'],\n",
       "      dtype='object')"
      ]
     },
     "execution_count": 44,
     "metadata": {},
     "output_type": "execute_result"
    }
   ],
   "source": [
    "data.columns"
   ]
  },
  {
   "cell_type": "code",
   "execution_count": 45,
   "id": "74f0d54a",
   "metadata": {},
   "outputs": [
    {
     "data": {
      "image/png": "[encoded data removed]",
      "text/plain": [
       "<Figure size 1800x576 with 1 Axes>"
      ]
     },
     "metadata": {
      "needs_background": "light"
     },
     "output_type": "display_data"
    }
   ],
   "source": [
    "plt.figure(figsize=(25,8))\n",
    "sns.barplot(data.Item_Type,data.Item_Outlet_Sales,hue=data.Item_Fat_Content)\n",
    "plt.title(\"Item_Type vs sales vs fat content\")\n",
    "plt.show()"
   ]
  },
  {
   "cell_type": "markdown",
   "id": "3051dff8",
   "metadata": {},
   "source": [
    "### All the items with regular and low fat content have almost the same sales"
   ]
  },
  {
   "cell_type": "code",
   "execution_count": 46,
   "id": "b80f9bb9",
   "metadata": {},
   "outputs": [
    {
     "data": {
      "image/png": "[encoded data removed]",
      "text/plain": [
       "<Figure size 1080x360 with 1 Axes>"
      ]
     },
     "metadata": {
      "needs_background": "light"
     },
     "output_type": "display_data"
    }
   ],
   "source": [
    "plt.figure(figsize=(15,5))\n",
    "sns.barplot(data.Item_Outlet_Sales,data.Outlet_Location_Type,hue=data.Outlet_Size)\n",
    "plt.title(\"Outlet_Size vs sales\")\n",
    "plt.show()"
   ]
  },
  {
   "cell_type": "markdown",
   "id": "da9b25ec",
   "metadata": {},
   "source": [
    "### We can observe that Tier 1 does not have High size stores. Tier 3 does not have small size stores where are tier 2 has only small size stores"
   ]
  },
  {
   "cell_type": "markdown",
   "id": "38de1934",
   "metadata": {},
   "source": [
    "### Sales of Tier 1 small stores is the least"
   ]
  },
  {
   "cell_type": "code",
   "execution_count": 47,
   "id": "42cc35da",
   "metadata": {},
   "outputs": [
    {
     "data": {
      "image/png": "[encoded data removed]",
      "text/plain": [
       "<Figure size 432x288 with 1 Axes>"
      ]
     },
     "metadata": {
      "needs_background": "light"
     },
     "output_type": "display_data"
    }
   ],
   "source": [
    "sns.scatterplot(data.Item_MRP,data.Item_Outlet_Sales,hue=data.Item_Fat_Content)\n",
    "plt.title(\"Item_MRP vs Sales\")\n",
    "plt.show()"
   ]
  },
  {
   "cell_type": "markdown",
   "id": "1fa825fc",
   "metadata": {},
   "source": [
    "### We can see that the sales increase with increase in MRP but does not depend on the fat content"
   ]
  },
  {
   "cell_type": "markdown",
   "id": "990ddd40",
   "metadata": {},
   "source": [
    "# Outlier treatment"
   ]
  },
  {
   "cell_type": "markdown",
   "id": "c3c9310b",
   "metadata": {},
   "source": [
    "### The columns sales and visibility have outliers so we have to treat them"
   ]
  },
  {
   "cell_type": "code",
   "execution_count": 48,
   "id": "b51db6dc",
   "metadata": {},
   "outputs": [],
   "source": [
    "#up_sales=data['Item_Outlet_Sales'].quantile(0.99)\n",
    "up_visibility=data['Item_Visibility'].quantile(0.95)\n"
   ]
  },
  {
   "cell_type": "code",
   "execution_count": 49,
   "id": "8fe0dd4c",
   "metadata": {},
   "outputs": [],
   "source": [
    "data=data[(data['Item_Visibility']<=up_visibility)]\n",
    "#data=data[(data['Item_Outlet_Sales']<=up_sales)]\n"
   ]
  },
  {
   "cell_type": "code",
   "execution_count": 50,
   "id": "3d0541af",
   "metadata": {},
   "outputs": [
    {
     "data": {
      "text/html": [
       "<div>\n",
       "<style scoped>\n",
       "    .dataframe tbody tr th:only-of-type {\n",
       "        vertical-align: middle;\n",
       "    }\n",
       "\n",
       "    .dataframe tbody tr th {\n",
       "        vertical-align: top;\n",
       "    }\n",
       "\n",
       "    .dataframe thead th {\n",
       "        text-align: right;\n",
       "    }\n",
       "</style>\n",
       "<table border=\"1\" class=\"dataframe\">\n",
       "  <thead>\n",
       "    <tr style=\"text-align: right;\">\n",
       "      <th></th>\n",
       "      <th>Item_Identifier</th>\n",
       "      <th>Item_Weight</th>\n",
       "      <th>Item_Fat_Content</th>\n",
       "      <th>Item_Visibility</th>\n",
       "      <th>Item_Type</th>\n",
       "      <th>Item_MRP</th>\n",
       "      <th>Outlet_Identifier</th>\n",
       "      <th>Outlet_Establishment_Year</th>\n",
       "      <th>Outlet_Size</th>\n",
       "      <th>Outlet_Location_Type</th>\n",
       "      <th>Outlet_Type</th>\n",
       "      <th>Item_Outlet_Sales</th>\n",
       "      <th>Item_Identifier_encode</th>\n",
       "      <th>Item_Fat_Content_encode</th>\n",
       "      <th>Item_Type_encode</th>\n",
       "      <th>Outlet_Identifier_encode</th>\n",
       "      <th>Outlet_Size_encode</th>\n",
       "      <th>Outlet_Location_Type_encode</th>\n",
       "      <th>Outlet_Type_encode</th>\n",
       "    </tr>\n",
       "  </thead>\n",
       "  <tbody>\n",
       "    <tr>\n",
       "      <th>0</th>\n",
       "      <td>FDA15</td>\n",
       "      <td>9.30</td>\n",
       "      <td>Low Fat</td>\n",
       "      <td>0.016047</td>\n",
       "      <td>Dairy</td>\n",
       "      <td>249.8092</td>\n",
       "      <td>OUT049</td>\n",
       "      <td>1999</td>\n",
       "      <td>Medium</td>\n",
       "      <td>Tier 1</td>\n",
       "      <td>Supermarket Type1</td>\n",
       "      <td>3735.1380</td>\n",
       "      <td>156</td>\n",
       "      <td>0</td>\n",
       "      <td>4</td>\n",
       "      <td>9</td>\n",
       "      <td>1</td>\n",
       "      <td>0</td>\n",
       "      <td>1</td>\n",
       "    </tr>\n",
       "    <tr>\n",
       "      <th>1</th>\n",
       "      <td>DRC01</td>\n",
       "      <td>5.92</td>\n",
       "      <td>Regular</td>\n",
       "      <td>0.019278</td>\n",
       "      <td>Soft Drinks</td>\n",
       "      <td>48.2692</td>\n",
       "      <td>OUT018</td>\n",
       "      <td>2009</td>\n",
       "      <td>Medium</td>\n",
       "      <td>Tier 3</td>\n",
       "      <td>Supermarket Type2</td>\n",
       "      <td>443.4228</td>\n",
       "      <td>8</td>\n",
       "      <td>1</td>\n",
       "      <td>14</td>\n",
       "      <td>3</td>\n",
       "      <td>1</td>\n",
       "      <td>2</td>\n",
       "      <td>2</td>\n",
       "    </tr>\n",
       "    <tr>\n",
       "      <th>2</th>\n",
       "      <td>FDN15</td>\n",
       "      <td>17.50</td>\n",
       "      <td>Low Fat</td>\n",
       "      <td>0.016760</td>\n",
       "      <td>Meat</td>\n",
       "      <td>141.6180</td>\n",
       "      <td>OUT049</td>\n",
       "      <td>1999</td>\n",
       "      <td>Medium</td>\n",
       "      <td>Tier 1</td>\n",
       "      <td>Supermarket Type1</td>\n",
       "      <td>2097.2700</td>\n",
       "      <td>662</td>\n",
       "      <td>0</td>\n",
       "      <td>10</td>\n",
       "      <td>9</td>\n",
       "      <td>1</td>\n",
       "      <td>0</td>\n",
       "      <td>1</td>\n",
       "    </tr>\n",
       "    <tr>\n",
       "      <th>3</th>\n",
       "      <td>FDX07</td>\n",
       "      <td>19.20</td>\n",
       "      <td>Regular</td>\n",
       "      <td>0.074402</td>\n",
       "      <td>Fruits and Vegetables</td>\n",
       "      <td>182.0950</td>\n",
       "      <td>OUT010</td>\n",
       "      <td>1998</td>\n",
       "      <td>Medium</td>\n",
       "      <td>Tier 3</td>\n",
       "      <td>Grocery Store</td>\n",
       "      <td>732.3800</td>\n",
       "      <td>1121</td>\n",
       "      <td>1</td>\n",
       "      <td>6</td>\n",
       "      <td>0</td>\n",
       "      <td>1</td>\n",
       "      <td>2</td>\n",
       "      <td>0</td>\n",
       "    </tr>\n",
       "    <tr>\n",
       "      <th>4</th>\n",
       "      <td>NCD19</td>\n",
       "      <td>8.93</td>\n",
       "      <td>Low Fat</td>\n",
       "      <td>0.064299</td>\n",
       "      <td>Household</td>\n",
       "      <td>53.8614</td>\n",
       "      <td>OUT013</td>\n",
       "      <td>1987</td>\n",
       "      <td>High</td>\n",
       "      <td>Tier 3</td>\n",
       "      <td>Supermarket Type1</td>\n",
       "      <td>994.7052</td>\n",
       "      <td>1297</td>\n",
       "      <td>0</td>\n",
       "      <td>9</td>\n",
       "      <td>1</td>\n",
       "      <td>0</td>\n",
       "      <td>2</td>\n",
       "      <td>1</td>\n",
       "    </tr>\n",
       "    <tr>\n",
       "      <th>...</th>\n",
       "      <td>...</td>\n",
       "      <td>...</td>\n",
       "      <td>...</td>\n",
       "      <td>...</td>\n",
       "      <td>...</td>\n",
       "      <td>...</td>\n",
       "      <td>...</td>\n",
       "      <td>...</td>\n",
       "      <td>...</td>\n",
       "      <td>...</td>\n",
       "      <td>...</td>\n",
       "      <td>...</td>\n",
       "      <td>...</td>\n",
       "      <td>...</td>\n",
       "      <td>...</td>\n",
       "      <td>...</td>\n",
       "      <td>...</td>\n",
       "      <td>...</td>\n",
       "      <td>...</td>\n",
       "    </tr>\n",
       "    <tr>\n",
       "      <th>14199</th>\n",
       "      <td>FDB58</td>\n",
       "      <td>10.50</td>\n",
       "      <td>Regular</td>\n",
       "      <td>0.013496</td>\n",
       "      <td>Snack Foods</td>\n",
       "      <td>141.3154</td>\n",
       "      <td>OUT046</td>\n",
       "      <td>1997</td>\n",
       "      <td>Small</td>\n",
       "      <td>Tier 1</td>\n",
       "      <td>Supermarket Type1</td>\n",
       "      <td>NaN</td>\n",
       "      <td>233</td>\n",
       "      <td>1</td>\n",
       "      <td>13</td>\n",
       "      <td>8</td>\n",
       "      <td>2</td>\n",
       "      <td>0</td>\n",
       "      <td>1</td>\n",
       "    </tr>\n",
       "    <tr>\n",
       "      <th>14200</th>\n",
       "      <td>FDD47</td>\n",
       "      <td>7.60</td>\n",
       "      <td>Regular</td>\n",
       "      <td>0.142991</td>\n",
       "      <td>Starchy Foods</td>\n",
       "      <td>169.1448</td>\n",
       "      <td>OUT018</td>\n",
       "      <td>2009</td>\n",
       "      <td>Medium</td>\n",
       "      <td>Tier 3</td>\n",
       "      <td>Supermarket Type2</td>\n",
       "      <td>NaN</td>\n",
       "      <td>308</td>\n",
       "      <td>1</td>\n",
       "      <td>15</td>\n",
       "      <td>3</td>\n",
       "      <td>1</td>\n",
       "      <td>2</td>\n",
       "      <td>2</td>\n",
       "    </tr>\n",
       "    <tr>\n",
       "      <th>14201</th>\n",
       "      <td>NCO17</td>\n",
       "      <td>10.00</td>\n",
       "      <td>Low Fat</td>\n",
       "      <td>0.073529</td>\n",
       "      <td>Health and Hygiene</td>\n",
       "      <td>118.7440</td>\n",
       "      <td>OUT045</td>\n",
       "      <td>2002</td>\n",
       "      <td>Small</td>\n",
       "      <td>Tier 2</td>\n",
       "      <td>Supermarket Type1</td>\n",
       "      <td>NaN</td>\n",
       "      <td>1426</td>\n",
       "      <td>0</td>\n",
       "      <td>8</td>\n",
       "      <td>7</td>\n",
       "      <td>2</td>\n",
       "      <td>1</td>\n",
       "      <td>1</td>\n",
       "    </tr>\n",
       "    <tr>\n",
       "      <th>14202</th>\n",
       "      <td>FDJ26</td>\n",
       "      <td>15.30</td>\n",
       "      <td>Regular</td>\n",
       "      <td>0.064709</td>\n",
       "      <td>Canned</td>\n",
       "      <td>214.6218</td>\n",
       "      <td>OUT017</td>\n",
       "      <td>2007</td>\n",
       "      <td>Small</td>\n",
       "      <td>Tier 2</td>\n",
       "      <td>Supermarket Type1</td>\n",
       "      <td>NaN</td>\n",
       "      <td>521</td>\n",
       "      <td>1</td>\n",
       "      <td>3</td>\n",
       "      <td>2</td>\n",
       "      <td>2</td>\n",
       "      <td>1</td>\n",
       "      <td>1</td>\n",
       "    </tr>\n",
       "    <tr>\n",
       "      <th>14203</th>\n",
       "      <td>FDU37</td>\n",
       "      <td>9.50</td>\n",
       "      <td>Regular</td>\n",
       "      <td>0.104720</td>\n",
       "      <td>Canned</td>\n",
       "      <td>79.7960</td>\n",
       "      <td>OUT045</td>\n",
       "      <td>2002</td>\n",
       "      <td>Small</td>\n",
       "      <td>Tier 2</td>\n",
       "      <td>Supermarket Type1</td>\n",
       "      <td>NaN</td>\n",
       "      <td>997</td>\n",
       "      <td>1</td>\n",
       "      <td>3</td>\n",
       "      <td>7</td>\n",
       "      <td>2</td>\n",
       "      <td>1</td>\n",
       "      <td>1</td>\n",
       "    </tr>\n",
       "  </tbody>\n",
       "</table>\n",
       "<p>13493 rows × 19 columns</p>\n",
       "</div>"
      ],
      "text/plain": [
       "      Item_Identifier  Item_Weight Item_Fat_Content  Item_Visibility  \\\n",
       "0               FDA15         9.30          Low Fat         0.016047   \n",
       "1               DRC01         5.92          Regular         0.019278   \n",
       "2               FDN15        17.50          Low Fat         0.016760   \n",
       "3               FDX07        19.20          Regular         0.074402   \n",
       "4               NCD19         8.93          Low Fat         0.064299   \n",
       "...               ...          ...              ...              ...   \n",
       "14199           FDB58        10.50          Regular         0.013496   \n",
       "14200           FDD47         7.60          Regular         0.142991   \n",
       "14201           NCO17        10.00          Low Fat         0.073529   \n",
       "14202           FDJ26        15.30          Regular         0.064709   \n",
       "14203           FDU37         9.50          Regular         0.104720   \n",
       "\n",
       "                   Item_Type  Item_MRP Outlet_Identifier  \\\n",
       "0                      Dairy  249.8092            OUT049   \n",
       "1                Soft Drinks   48.2692            OUT018   \n",
       "2                       Meat  141.6180            OUT049   \n",
       "3      Fruits and Vegetables  182.0950            OUT010   \n",
       "4                  Household   53.8614            OUT013   \n",
       "...                      ...       ...               ...   \n",
       "14199            Snack Foods  141.3154            OUT046   \n",
       "14200          Starchy Foods  169.1448            OUT018   \n",
       "14201     Health and Hygiene  118.7440            OUT045   \n",
       "14202                 Canned  214.6218            OUT017   \n",
       "14203                 Canned   79.7960            OUT045   \n",
       "\n",
       "       Outlet_Establishment_Year Outlet_Size Outlet_Location_Type  \\\n",
       "0                           1999      Medium               Tier 1   \n",
       "1                           2009      Medium               Tier 3   \n",
       "2                           1999      Medium               Tier 1   \n",
       "3                           1998      Medium               Tier 3   \n",
       "4                           1987        High               Tier 3   \n",
       "...                          ...         ...                  ...   \n",
       "14199                       1997       Small               Tier 1   \n",
       "14200                       2009      Medium               Tier 3   \n",
       "14201                       2002       Small               Tier 2   \n",
       "14202                       2007       Small               Tier 2   \n",
       "14203                       2002       Small               Tier 2   \n",
       "\n",
       "             Outlet_Type  Item_Outlet_Sales  Item_Identifier_encode  \\\n",
       "0      Supermarket Type1          3735.1380                     156   \n",
       "1      Supermarket Type2           443.4228                       8   \n",
       "2      Supermarket Type1          2097.2700                     662   \n",
       "3          Grocery Store           732.3800                    1121   \n",
       "4      Supermarket Type1           994.7052                    1297   \n",
       "...                  ...                ...                     ...   \n",
       "14199  Supermarket Type1                NaN                     233   \n",
       "14200  Supermarket Type2                NaN                     308   \n",
       "14201  Supermarket Type1                NaN                    1426   \n",
       "14202  Supermarket Type1                NaN                     521   \n",
       "14203  Supermarket Type1                NaN                     997   \n",
       "\n",
       "       Item_Fat_Content_encode  Item_Type_encode  Outlet_Identifier_encode  \\\n",
       "0                            0                 4                         9   \n",
       "1                            1                14                         3   \n",
       "2                            0                10                         9   \n",
       "3                            1                 6                         0   \n",
       "4                            0                 9                         1   \n",
       "...                        ...               ...                       ...   \n",
       "14199                        1                13                         8   \n",
       "14200                        1                15                         3   \n",
       "14201                        0                 8                         7   \n",
       "14202                        1                 3                         2   \n",
       "14203                        1                 3                         7   \n",
       "\n",
       "       Outlet_Size_encode  Outlet_Location_Type_encode  Outlet_Type_encode  \n",
       "0                       1                            0                   1  \n",
       "1                       1                            2                   2  \n",
       "2                       1                            0                   1  \n",
       "3                       1                            2                   0  \n",
       "4                       0                            2                   1  \n",
       "...                   ...                          ...                 ...  \n",
       "14199                   2                            0                   1  \n",
       "14200                   1                            2                   2  \n",
       "14201                   2                            1                   1  \n",
       "14202                   2                            1                   1  \n",
       "14203                   2                            1                   1  \n",
       "\n",
       "[13493 rows x 19 columns]"
      ]
     },
     "execution_count": 50,
     "metadata": {},
     "output_type": "execute_result"
    }
   ],
   "source": [
    "data"
   ]
  },
  {
   "cell_type": "markdown",
   "id": "4f6c2c18",
   "metadata": {},
   "source": [
    "# Correlation"
   ]
  },
  {
   "cell_type": "code",
   "execution_count": 51,
   "id": "395408ce",
   "metadata": {},
   "outputs": [
    {
     "data": {
      "text/html": [
       "<style type=\"text/css\">\n",
       "#T_072ff_row0_col0, #T_072ff_row1_col1, #T_072ff_row2_col2, #T_072ff_row3_col3, #T_072ff_row4_col4, #T_072ff_row5_col5, #T_072ff_row6_col6, #T_072ff_row7_col7, #T_072ff_row8_col8, #T_072ff_row9_col9, #T_072ff_row10_col10, #T_072ff_row11_col11 {\n",
       "  background-color: #800026;\n",
       "  color: #f1f1f1;\n",
       "}\n",
       "#T_072ff_row0_col1 {\n",
       "  background-color: #fff9bd;\n",
       "  color: #000000;\n",
       "}\n",
       "#T_072ff_row0_col2, #T_072ff_row8_col0, #T_072ff_row9_col0, #T_072ff_row10_col3 {\n",
       "  background-color: #fffac1;\n",
       "  color: #000000;\n",
       "}\n",
       "#T_072ff_row0_col3, #T_072ff_row2_col3 {\n",
       "  background-color: #ffec9d;\n",
       "  color: #000000;\n",
       "}\n",
       "#T_072ff_row0_col4, #T_072ff_row9_col1 {\n",
       "  background-color: #fff4b2;\n",
       "  color: #000000;\n",
       "}\n",
       "#T_072ff_row0_col5, #T_072ff_row1_col11, #T_072ff_row10_col4 {\n",
       "  background-color: #ffe998;\n",
       "  color: #000000;\n",
       "}\n",
       "#T_072ff_row0_col6, #T_072ff_row3_col5, #T_072ff_row8_col5 {\n",
       "  background-color: #fff1a9;\n",
       "  color: #000000;\n",
       "}\n",
       "#T_072ff_row0_col7 {\n",
       "  background-color: #ffe997;\n",
       "  color: #000000;\n",
       "}\n",
       "#T_072ff_row0_col8, #T_072ff_row0_col10, #T_072ff_row2_col8, #T_072ff_row2_col10, #T_072ff_row5_col8, #T_072ff_row5_col10, #T_072ff_row6_col8, #T_072ff_row6_col10, #T_072ff_row7_col8, #T_072ff_row11_col4 {\n",
       "  background-color: #fea546;\n",
       "  color: #000000;\n",
       "}\n",
       "#T_072ff_row0_col9, #T_072ff_row2_col9, #T_072ff_row5_col9, #T_072ff_row6_col9, #T_072ff_row7_col9 {\n",
       "  background-color: #feb44e;\n",
       "  color: #000000;\n",
       "}\n",
       "#T_072ff_row0_col11, #T_072ff_row7_col11 {\n",
       "  background-color: #fee084;\n",
       "  color: #000000;\n",
       "}\n",
       "#T_072ff_row1_col0, #T_072ff_row4_col1, #T_072ff_row5_col2 {\n",
       "  background-color: #fffec9;\n",
       "  color: #000000;\n",
       "}\n",
       "#T_072ff_row1_col2 {\n",
       "  background-color: #fffecb;\n",
       "  color: #000000;\n",
       "}\n",
       "#T_072ff_row1_col3, #T_072ff_row4_col5, #T_072ff_row10_col5 {\n",
       "  background-color: #fff0a8;\n",
       "  color: #000000;\n",
       "}\n",
       "#T_072ff_row1_col4, #T_072ff_row9_col4 {\n",
       "  background-color: #fffdc8;\n",
       "  color: #000000;\n",
       "}\n",
       "#T_072ff_row1_col5, #T_072ff_row7_col0 {\n",
       "  background-color: #fff6b6;\n",
       "  color: #000000;\n",
       "}\n",
       "#T_072ff_row1_col6 {\n",
       "  background-color: #ffe48d;\n",
       "  color: #000000;\n",
       "}\n",
       "#T_072ff_row1_col7 {\n",
       "  background-color: #fff3ae;\n",
       "  color: #000000;\n",
       "}\n",
       "#T_072ff_row1_col8 {\n",
       "  background-color: #fead4a;\n",
       "  color: #000000;\n",
       "}\n",
       "#T_072ff_row1_col9 {\n",
       "  background-color: #feb24c;\n",
       "  color: #000000;\n",
       "}\n",
       "#T_072ff_row1_col10 {\n",
       "  background-color: #fea647;\n",
       "  color: #000000;\n",
       "}\n",
       "#T_072ff_row2_col0, #T_072ff_row10_col1 {\n",
       "  background-color: #fff7b7;\n",
       "  color: #000000;\n",
       "}\n",
       "#T_072ff_row2_col1, #T_072ff_row5_col4 {\n",
       "  background-color: #fff5b5;\n",
       "  color: #000000;\n",
       "}\n",
       "#T_072ff_row2_col4 {\n",
       "  background-color: #fc572c;\n",
       "  color: #f1f1f1;\n",
       "}\n",
       "#T_072ff_row2_col5 {\n",
       "  background-color: #ffefa5;\n",
       "  color: #000000;\n",
       "}\n",
       "#T_072ff_row2_col6, #T_072ff_row3_col7, #T_072ff_row8_col6, #T_072ff_row8_col7, #T_072ff_row9_col6, #T_072ff_row9_col7, #T_072ff_row10_col6, #T_072ff_row10_col7, #T_072ff_row11_col7 {\n",
       "  background-color: #ffeda0;\n",
       "  color: #000000;\n",
       "}\n",
       "#T_072ff_row2_col7 {\n",
       "  background-color: #ffe895;\n",
       "  color: #000000;\n",
       "}\n",
       "#T_072ff_row2_col11, #T_072ff_row8_col3 {\n",
       "  background-color: #fee085;\n",
       "  color: #000000;\n",
       "}\n",
       "#T_072ff_row3_col0, #T_072ff_row3_col1, #T_072ff_row10_col0, #T_072ff_row11_col0 {\n",
       "  background-color: #fffbc2;\n",
       "  color: #000000;\n",
       "}\n",
       "#T_072ff_row3_col2, #T_072ff_row3_col4, #T_072ff_row6_col0, #T_072ff_row6_col2, #T_072ff_row6_col5, #T_072ff_row6_col7, #T_072ff_row7_col6, #T_072ff_row8_col2, #T_072ff_row8_col10, #T_072ff_row9_col2, #T_072ff_row9_col11, #T_072ff_row10_col2, #T_072ff_row10_col8, #T_072ff_row10_col9, #T_072ff_row11_col1, #T_072ff_row11_col2, #T_072ff_row11_col3 {\n",
       "  background-color: #ffffcc;\n",
       "  color: #000000;\n",
       "}\n",
       "#T_072ff_row3_col6, #T_072ff_row5_col3, #T_072ff_row11_col6 {\n",
       "  background-color: #ffec9f;\n",
       "  color: #000000;\n",
       "}\n",
       "#T_072ff_row3_col8 {\n",
       "  background-color: #fd9740;\n",
       "  color: #000000;\n",
       "}\n",
       "#T_072ff_row3_col9 {\n",
       "  background-color: #f54026;\n",
       "  color: #f1f1f1;\n",
       "}\n",
       "#T_072ff_row3_col10 {\n",
       "  background-color: #feba55;\n",
       "  color: #000000;\n",
       "}\n",
       "#T_072ff_row3_col11, #T_072ff_row5_col0, #T_072ff_row9_col10 {\n",
       "  background-color: #fff3af;\n",
       "  color: #000000;\n",
       "}\n",
       "#T_072ff_row4_col0 {\n",
       "  background-color: #fff9be;\n",
       "  color: #000000;\n",
       "}\n",
       "#T_072ff_row4_col2 {\n",
       "  background-color: #fc6430;\n",
       "  color: #f1f1f1;\n",
       "}\n",
       "#T_072ff_row4_col3 {\n",
       "  background-color: #fff5b3;\n",
       "  color: #000000;\n",
       "}\n",
       "#T_072ff_row4_col6 {\n",
       "  background-color: #ffea99;\n",
       "  color: #000000;\n",
       "}\n",
       "#T_072ff_row4_col7, #T_072ff_row6_col3, #T_072ff_row7_col3 {\n",
       "  background-color: #ffeb9c;\n",
       "  color: #000000;\n",
       "}\n",
       "#T_072ff_row4_col8 {\n",
       "  background-color: #fd8c3c;\n",
       "  color: #f1f1f1;\n",
       "}\n",
       "#T_072ff_row4_col9 {\n",
       "  background-color: #febf5a;\n",
       "  color: #000000;\n",
       "}\n",
       "#T_072ff_row4_col10 {\n",
       "  background-color: #fd9640;\n",
       "  color: #000000;\n",
       "}\n",
       "#T_072ff_row4_col11 {\n",
       "  background-color: #fd8a3b;\n",
       "  color: #f1f1f1;\n",
       "}\n",
       "#T_072ff_row5_col1, #T_072ff_row5_col6, #T_072ff_row7_col1 {\n",
       "  background-color: #fffcc4;\n",
       "  color: #000000;\n",
       "}\n",
       "#T_072ff_row5_col7 {\n",
       "  background-color: #ffeea3;\n",
       "  color: #000000;\n",
       "}\n",
       "#T_072ff_row5_col11, #T_072ff_row11_col9 {\n",
       "  background-color: #fee187;\n",
       "  color: #000000;\n",
       "}\n",
       "#T_072ff_row6_col1 {\n",
       "  background-color: #ffeda1;\n",
       "  color: #000000;\n",
       "}\n",
       "#T_072ff_row6_col4 {\n",
       "  background-color: #fff2ac;\n",
       "  color: #000000;\n",
       "}\n",
       "#T_072ff_row6_col11 {\n",
       "  background-color: #fedf83;\n",
       "  color: #000000;\n",
       "}\n",
       "#T_072ff_row7_col2 {\n",
       "  background-color: #fffac0;\n",
       "  color: #000000;\n",
       "}\n",
       "#T_072ff_row7_col4 {\n",
       "  background-color: #fff4b0;\n",
       "  color: #000000;\n",
       "}\n",
       "#T_072ff_row7_col5, #T_072ff_row11_col5 {\n",
       "  background-color: #fff1ab;\n",
       "  color: #000000;\n",
       "}\n",
       "#T_072ff_row7_col10 {\n",
       "  background-color: #fea446;\n",
       "  color: #000000;\n",
       "}\n",
       "#T_072ff_row8_col1 {\n",
       "  background-color: #fffcc5;\n",
       "  color: #000000;\n",
       "}\n",
       "#T_072ff_row8_col4 {\n",
       "  background-color: #fee288;\n",
       "  color: #000000;\n",
       "}\n",
       "#T_072ff_row8_col9 {\n",
       "  background-color: #f94828;\n",
       "  color: #f1f1f1;\n",
       "}\n",
       "#T_072ff_row8_col11 {\n",
       "  background-color: #fed572;\n",
       "  color: #000000;\n",
       "}\n",
       "#T_072ff_row9_col3 {\n",
       "  background-color: #fd7e38;\n",
       "  color: #f1f1f1;\n",
       "}\n",
       "#T_072ff_row9_col5 {\n",
       "  background-color: #fff0a7;\n",
       "  color: #000000;\n",
       "}\n",
       "#T_072ff_row9_col8 {\n",
       "  background-color: #f43d25;\n",
       "  color: #f1f1f1;\n",
       "}\n",
       "#T_072ff_row10_col11 {\n",
       "  background-color: #fc5f2f;\n",
       "  color: #f1f1f1;\n",
       "}\n",
       "#T_072ff_row11_col8 {\n",
       "  background-color: #fd9941;\n",
       "  color: #000000;\n",
       "}\n",
       "#T_072ff_row11_col10 {\n",
       "  background-color: #ed2e21;\n",
       "  color: #f1f1f1;\n",
       "}\n",
       "</style>\n",
       "<table id=\"T_072ff\">\n",
       "  <thead>\n",
       "    <tr>\n",
       "      <th class=\"blank level0\" >&nbsp;</th>\n",
       "      <th id=\"T_072ff_level0_col0\" class=\"col_heading level0 col0\" >Item_Weight</th>\n",
       "      <th id=\"T_072ff_level0_col1\" class=\"col_heading level0 col1\" >Item_Visibility</th>\n",
       "      <th id=\"T_072ff_level0_col2\" class=\"col_heading level0 col2\" >Item_MRP</th>\n",
       "      <th id=\"T_072ff_level0_col3\" class=\"col_heading level0 col3\" >Outlet_Establishment_Year</th>\n",
       "      <th id=\"T_072ff_level0_col4\" class=\"col_heading level0 col4\" >Item_Outlet_Sales</th>\n",
       "      <th id=\"T_072ff_level0_col5\" class=\"col_heading level0 col5\" >Item_Identifier_encode</th>\n",
       "      <th id=\"T_072ff_level0_col6\" class=\"col_heading level0 col6\" >Item_Fat_Content_encode</th>\n",
       "      <th id=\"T_072ff_level0_col7\" class=\"col_heading level0 col7\" >Item_Type_encode</th>\n",
       "      <th id=\"T_072ff_level0_col8\" class=\"col_heading level0 col8\" >Outlet_Identifier_encode</th>\n",
       "      <th id=\"T_072ff_level0_col9\" class=\"col_heading level0 col9\" >Outlet_Size_encode</th>\n",
       "      <th id=\"T_072ff_level0_col10\" class=\"col_heading level0 col10\" >Outlet_Location_Type_encode</th>\n",
       "      <th id=\"T_072ff_level0_col11\" class=\"col_heading level0 col11\" >Outlet_Type_encode</th>\n",
       "    </tr>\n",
       "  </thead>\n",
       "  <tbody>\n",
       "    <tr>\n",
       "      <th id=\"T_072ff_level0_row0\" class=\"row_heading level0 row0\" >Item_Weight</th>\n",
       "      <td id=\"T_072ff_row0_col0\" class=\"data row0 col0\" >1.000000</td>\n",
       "      <td id=\"T_072ff_row0_col1\" class=\"data row0 col1\" >-0.023300</td>\n",
       "      <td id=\"T_072ff_row0_col2\" class=\"data row0 col2\" >0.032112</td>\n",
       "      <td id=\"T_072ff_row0_col3\" class=\"data row0 col3\" >-0.000625</td>\n",
       "      <td id=\"T_072ff_row0_col4\" class=\"data row0 col4\" >0.009570</td>\n",
       "      <td id=\"T_072ff_row0_col5\" class=\"data row0 col5\" >0.052893</td>\n",
       "      <td id=\"T_072ff_row0_col6\" class=\"data row0 col6\" >-0.031930</td>\n",
       "      <td id=\"T_072ff_row0_col7\" class=\"data row0 col7\" >0.033934</td>\n",
       "      <td id=\"T_072ff_row0_col8\" class=\"data row0 col8\" >0.001168</td>\n",
       "      <td id=\"T_072ff_row0_col9\" class=\"data row0 col9\" >0.000996</td>\n",
       "      <td id=\"T_072ff_row0_col10\" class=\"data row0 col10\" >-0.001394</td>\n",
       "      <td id=\"T_072ff_row0_col11\" class=\"data row0 col11\" >-0.000583</td>\n",
       "    </tr>\n",
       "    <tr>\n",
       "      <th id=\"T_072ff_level0_row1\" class=\"row_heading level0 row1\" >Item_Visibility</th>\n",
       "      <td id=\"T_072ff_row1_col0\" class=\"data row1 col0\" >-0.023300</td>\n",
       "      <td id=\"T_072ff_row1_col1\" class=\"data row1 col1\" >1.000000</td>\n",
       "      <td id=\"T_072ff_row1_col2\" class=\"data row1 col2\" >0.003277</td>\n",
       "      <td id=\"T_072ff_row1_col3\" class=\"data row1 col3\" >-0.039062</td>\n",
       "      <td id=\"T_072ff_row1_col4\" class=\"data row1 col4\" >-0.060275</td>\n",
       "      <td id=\"T_072ff_row1_col5\" class=\"data row1 col5\" >-0.042605</td>\n",
       "      <td id=\"T_072ff_row1_col6\" class=\"data row1 col6\" >0.062489</td>\n",
       "      <td id=\"T_072ff_row1_col7\" class=\"data row1 col7\" >-0.043858</td>\n",
       "      <td id=\"T_072ff_row1_col8\" class=\"data row1 col8\" >-0.046060</td>\n",
       "      <td id=\"T_072ff_row1_col9\" class=\"data row1 col9\" >0.011328</td>\n",
       "      <td id=\"T_072ff_row1_col10\" class=\"data row1 col10\" >-0.006671</td>\n",
       "      <td id=\"T_072ff_row1_col11\" class=\"data row1 col11\" >-0.071138</td>\n",
       "    </tr>\n",
       "    <tr>\n",
       "      <th id=\"T_072ff_level0_row2\" class=\"row_heading level0 row2\" >Item_MRP</th>\n",
       "      <td id=\"T_072ff_row2_col0\" class=\"data row2 col0\" >0.032112</td>\n",
       "      <td id=\"T_072ff_row2_col1\" class=\"data row2 col1\" >0.003277</td>\n",
       "      <td id=\"T_072ff_row2_col2\" class=\"data row2 col2\" >1.000000</td>\n",
       "      <td id=\"T_072ff_row2_col3\" class=\"data row2 col3\" >-0.001569</td>\n",
       "      <td id=\"T_072ff_row2_col4\" class=\"data row2 col4\" >0.579981</td>\n",
       "      <td id=\"T_072ff_row2_col5\" class=\"data row2 col5\" >0.007550</td>\n",
       "      <td id=\"T_072ff_row2_col6\" class=\"data row2 col6\" >-0.000319</td>\n",
       "      <td id=\"T_072ff_row2_col7\" class=\"data row2 col7\" >0.034088</td>\n",
       "      <td id=\"T_072ff_row2_col8\" class=\"data row2 col8\" >-0.002825</td>\n",
       "      <td id=\"T_072ff_row2_col9\" class=\"data row2 col9\" >-0.000596</td>\n",
       "      <td id=\"T_072ff_row2_col10\" class=\"data row2 col10\" >-0.000001</td>\n",
       "      <td id=\"T_072ff_row2_col11\" class=\"data row2 col11\" >-0.003104</td>\n",
       "    </tr>\n",
       "    <tr>\n",
       "      <th id=\"T_072ff_level0_row3\" class=\"row_heading level0 row3\" >Outlet_Establishment_Year</th>\n",
       "      <td id=\"T_072ff_row3_col0\" class=\"data row3 col0\" >-0.000625</td>\n",
       "      <td id=\"T_072ff_row3_col1\" class=\"data row3 col1\" >-0.039062</td>\n",
       "      <td id=\"T_072ff_row3_col2\" class=\"data row3 col2\" >-0.001569</td>\n",
       "      <td id=\"T_072ff_row3_col3\" class=\"data row3 col3\" >1.000000</td>\n",
       "      <td id=\"T_072ff_row3_col4\" class=\"data row3 col4\" >-0.073438</td>\n",
       "      <td id=\"T_072ff_row3_col5\" class=\"data row3 col5\" >-0.005406</td>\n",
       "      <td id=\"T_072ff_row3_col6\" class=\"data row3 col6\" >0.002976</td>\n",
       "      <td id=\"T_072ff_row3_col7\" class=\"data row3 col7\" >0.002173</td>\n",
       "      <td id=\"T_072ff_row3_col8\" class=\"data row3 col8\" >0.077232</td>\n",
       "      <td id=\"T_072ff_row3_col9\" class=\"data row3 col9\" >0.455930</td>\n",
       "      <td id=\"T_072ff_row3_col10\" class=\"data row3 col10\" >-0.120031</td>\n",
       "      <td id=\"T_072ff_row3_col11\" class=\"data row3 col11\" >-0.158102</td>\n",
       "    </tr>\n",
       "    <tr>\n",
       "      <th id=\"T_072ff_level0_row4\" class=\"row_heading level0 row4\" >Item_Outlet_Sales</th>\n",
       "      <td id=\"T_072ff_row4_col0\" class=\"data row4 col0\" >0.009570</td>\n",
       "      <td id=\"T_072ff_row4_col1\" class=\"data row4 col1\" >-0.060275</td>\n",
       "      <td id=\"T_072ff_row4_col2\" class=\"data row4 col2\" >0.579981</td>\n",
       "      <td id=\"T_072ff_row4_col3\" class=\"data row4 col3\" >-0.073438</td>\n",
       "      <td id=\"T_072ff_row4_col4\" class=\"data row4 col4\" >1.000000</td>\n",
       "      <td id=\"T_072ff_row4_col5\" class=\"data row4 col5\" >-0.001295</td>\n",
       "      <td id=\"T_072ff_row4_col6\" class=\"data row4 col6\" >0.023304</td>\n",
       "      <td id=\"T_072ff_row4_col7\" class=\"data row4 col7\" >0.013300</td>\n",
       "      <td id=\"T_072ff_row4_col8\" class=\"data row4 col8\" >0.140405</td>\n",
       "      <td id=\"T_072ff_row4_col9\" class=\"data row4 col9\" >-0.057189</td>\n",
       "      <td id=\"T_072ff_row4_col10\" class=\"data row4 col10\" >0.086805</td>\n",
       "      <td id=\"T_072ff_row4_col11\" class=\"data row4 col11\" >0.376280</td>\n",
       "    </tr>\n",
       "    <tr>\n",
       "      <th id=\"T_072ff_level0_row5\" class=\"row_heading level0 row5\" >Item_Identifier_encode</th>\n",
       "      <td id=\"T_072ff_row5_col0\" class=\"data row5 col0\" >0.052893</td>\n",
       "      <td id=\"T_072ff_row5_col1\" class=\"data row5 col1\" >-0.042605</td>\n",
       "      <td id=\"T_072ff_row5_col2\" class=\"data row5 col2\" >0.007550</td>\n",
       "      <td id=\"T_072ff_row5_col3\" class=\"data row5 col3\" >-0.005406</td>\n",
       "      <td id=\"T_072ff_row5_col4\" class=\"data row5 col4\" >-0.001295</td>\n",
       "      <td id=\"T_072ff_row5_col5\" class=\"data row5 col5\" >1.000000</td>\n",
       "      <td id=\"T_072ff_row5_col6\" class=\"data row5 col6\" >-0.116159</td>\n",
       "      <td id=\"T_072ff_row5_col7\" class=\"data row5 col7\" >-0.009434</td>\n",
       "      <td id=\"T_072ff_row5_col8\" class=\"data row5 col8\" >-0.004174</td>\n",
       "      <td id=\"T_072ff_row5_col9\" class=\"data row5 col9\" >0.002386</td>\n",
       "      <td id=\"T_072ff_row5_col10\" class=\"data row5 col10\" >-0.002106</td>\n",
       "      <td id=\"T_072ff_row5_col11\" class=\"data row5 col11\" >-0.008070</td>\n",
       "    </tr>\n",
       "    <tr>\n",
       "      <th id=\"T_072ff_level0_row6\" class=\"row_heading level0 row6\" >Item_Fat_Content_encode</th>\n",
       "      <td id=\"T_072ff_row6_col0\" class=\"data row6 col0\" >-0.031930</td>\n",
       "      <td id=\"T_072ff_row6_col1\" class=\"data row6 col1\" >0.062489</td>\n",
       "      <td id=\"T_072ff_row6_col2\" class=\"data row6 col2\" >-0.000319</td>\n",
       "      <td id=\"T_072ff_row6_col3\" class=\"data row6 col3\" >0.002976</td>\n",
       "      <td id=\"T_072ff_row6_col4\" class=\"data row6 col4\" >0.023304</td>\n",
       "      <td id=\"T_072ff_row6_col5\" class=\"data row6 col5\" >-0.116159</td>\n",
       "      <td id=\"T_072ff_row6_col6\" class=\"data row6 col6\" >1.000000</td>\n",
       "      <td id=\"T_072ff_row6_col7\" class=\"data row6 col7\" >-0.144832</td>\n",
       "      <td id=\"T_072ff_row6_col8\" class=\"data row6 col8\" >0.001823</td>\n",
       "      <td id=\"T_072ff_row6_col9\" class=\"data row6 col9\" >-0.000716</td>\n",
       "      <td id=\"T_072ff_row6_col10\" class=\"data row6 col10\" >0.001893</td>\n",
       "      <td id=\"T_072ff_row6_col11\" class=\"data row6 col11\" >0.005001</td>\n",
       "    </tr>\n",
       "    <tr>\n",
       "      <th id=\"T_072ff_level0_row7\" class=\"row_heading level0 row7\" >Item_Type_encode</th>\n",
       "      <td id=\"T_072ff_row7_col0\" class=\"data row7 col0\" >0.033934</td>\n",
       "      <td id=\"T_072ff_row7_col1\" class=\"data row7 col1\" >-0.043858</td>\n",
       "      <td id=\"T_072ff_row7_col2\" class=\"data row7 col2\" >0.034088</td>\n",
       "      <td id=\"T_072ff_row7_col3\" class=\"data row7 col3\" >0.002173</td>\n",
       "      <td id=\"T_072ff_row7_col4\" class=\"data row7 col4\" >0.013300</td>\n",
       "      <td id=\"T_072ff_row7_col5\" class=\"data row7 col5\" >-0.009434</td>\n",
       "      <td id=\"T_072ff_row7_col6\" class=\"data row7 col6\" >-0.144832</td>\n",
       "      <td id=\"T_072ff_row7_col7\" class=\"data row7 col7\" >1.000000</td>\n",
       "      <td id=\"T_072ff_row7_col8\" class=\"data row7 col8\" >-0.000918</td>\n",
       "      <td id=\"T_072ff_row7_col9\" class=\"data row7 col9\" >-0.001255</td>\n",
       "      <td id=\"T_072ff_row7_col10\" class=\"data row7 col10\" >0.002619</td>\n",
       "      <td id=\"T_072ff_row7_col11\" class=\"data row7 col11\" >0.001974</td>\n",
       "    </tr>\n",
       "    <tr>\n",
       "      <th id=\"T_072ff_level0_row8\" class=\"row_heading level0 row8\" >Outlet_Identifier_encode</th>\n",
       "      <td id=\"T_072ff_row8_col0\" class=\"data row8 col0\" >0.001168</td>\n",
       "      <td id=\"T_072ff_row8_col1\" class=\"data row8 col1\" >-0.046060</td>\n",
       "      <td id=\"T_072ff_row8_col2\" class=\"data row8 col2\" >-0.002825</td>\n",
       "      <td id=\"T_072ff_row8_col3\" class=\"data row8 col3\" >0.077232</td>\n",
       "      <td id=\"T_072ff_row8_col4\" class=\"data row8 col4\" >0.140405</td>\n",
       "      <td id=\"T_072ff_row8_col5\" class=\"data row8 col5\" >-0.004174</td>\n",
       "      <td id=\"T_072ff_row8_col6\" class=\"data row8 col6\" >0.001823</td>\n",
       "      <td id=\"T_072ff_row8_col7\" class=\"data row8 col7\" >-0.000918</td>\n",
       "      <td id=\"T_072ff_row8_col8\" class=\"data row8 col8\" >1.000000</td>\n",
       "      <td id=\"T_072ff_row8_col9\" class=\"data row8 col9\" >0.425860</td>\n",
       "      <td id=\"T_072ff_row8_col10\" class=\"data row8 col10\" >-0.725456</td>\n",
       "      <td id=\"T_072ff_row8_col11\" class=\"data row8 col11\" >0.068212</td>\n",
       "    </tr>\n",
       "    <tr>\n",
       "      <th id=\"T_072ff_level0_row9\" class=\"row_heading level0 row9\" >Outlet_Size_encode</th>\n",
       "      <td id=\"T_072ff_row9_col0\" class=\"data row9 col0\" >0.000996</td>\n",
       "      <td id=\"T_072ff_row9_col1\" class=\"data row9 col1\" >0.011328</td>\n",
       "      <td id=\"T_072ff_row9_col2\" class=\"data row9 col2\" >-0.000596</td>\n",
       "      <td id=\"T_072ff_row9_col3\" class=\"data row9 col3\" >0.455930</td>\n",
       "      <td id=\"T_072ff_row9_col4\" class=\"data row9 col4\" >-0.057189</td>\n",
       "      <td id=\"T_072ff_row9_col5\" class=\"data row9 col5\" >0.002386</td>\n",
       "      <td id=\"T_072ff_row9_col6\" class=\"data row9 col6\" >-0.000716</td>\n",
       "      <td id=\"T_072ff_row9_col7\" class=\"data row9 col7\" >-0.001255</td>\n",
       "      <td id=\"T_072ff_row9_col8\" class=\"data row9 col8\" >0.425860</td>\n",
       "      <td id=\"T_072ff_row9_col9\" class=\"data row9 col9\" >1.000000</td>\n",
       "      <td id=\"T_072ff_row9_col10\" class=\"data row9 col10\" >-0.582800</td>\n",
       "      <td id=\"T_072ff_row9_col11\" class=\"data row9 col11\" >-0.262243</td>\n",
       "    </tr>\n",
       "    <tr>\n",
       "      <th id=\"T_072ff_level0_row10\" class=\"row_heading level0 row10\" >Outlet_Location_Type_encode</th>\n",
       "      <td id=\"T_072ff_row10_col0\" class=\"data row10 col0\" >-0.001394</td>\n",
       "      <td id=\"T_072ff_row10_col1\" class=\"data row10 col1\" >-0.006671</td>\n",
       "      <td id=\"T_072ff_row10_col2\" class=\"data row10 col2\" >-0.000001</td>\n",
       "      <td id=\"T_072ff_row10_col3\" class=\"data row10 col3\" >-0.120031</td>\n",
       "      <td id=\"T_072ff_row10_col4\" class=\"data row10 col4\" >0.086805</td>\n",
       "      <td id=\"T_072ff_row10_col5\" class=\"data row10 col5\" >-0.002106</td>\n",
       "      <td id=\"T_072ff_row10_col6\" class=\"data row10 col6\" >0.001893</td>\n",
       "      <td id=\"T_072ff_row10_col7\" class=\"data row10 col7\" >0.002619</td>\n",
       "      <td id=\"T_072ff_row10_col8\" class=\"data row10 col8\" >-0.725456</td>\n",
       "      <td id=\"T_072ff_row10_col9\" class=\"data row10 col9\" >-0.582800</td>\n",
       "      <td id=\"T_072ff_row10_col10\" class=\"data row10 col10\" >1.000000</td>\n",
       "      <td id=\"T_072ff_row10_col11\" class=\"data row10 col11\" >0.482805</td>\n",
       "    </tr>\n",
       "    <tr>\n",
       "      <th id=\"T_072ff_level0_row11\" class=\"row_heading level0 row11\" >Outlet_Type_encode</th>\n",
       "      <td id=\"T_072ff_row11_col0\" class=\"data row11 col0\" >-0.000583</td>\n",
       "      <td id=\"T_072ff_row11_col1\" class=\"data row11 col1\" >-0.071138</td>\n",
       "      <td id=\"T_072ff_row11_col2\" class=\"data row11 col2\" >-0.003104</td>\n",
       "      <td id=\"T_072ff_row11_col3\" class=\"data row11 col3\" >-0.158102</td>\n",
       "      <td id=\"T_072ff_row11_col4\" class=\"data row11 col4\" >0.376280</td>\n",
       "      <td id=\"T_072ff_row11_col5\" class=\"data row11 col5\" >-0.008070</td>\n",
       "      <td id=\"T_072ff_row11_col6\" class=\"data row11 col6\" >0.005001</td>\n",
       "      <td id=\"T_072ff_row11_col7\" class=\"data row11 col7\" >0.001974</td>\n",
       "      <td id=\"T_072ff_row11_col8\" class=\"data row11 col8\" >0.068212</td>\n",
       "      <td id=\"T_072ff_row11_col9\" class=\"data row11 col9\" >-0.262243</td>\n",
       "      <td id=\"T_072ff_row11_col10\" class=\"data row11 col10\" >0.482805</td>\n",
       "      <td id=\"T_072ff_row11_col11\" class=\"data row11 col11\" >1.000000</td>\n",
       "    </tr>\n",
       "  </tbody>\n",
       "</table>\n"
      ],
      "text/plain": [
       "<pandas.io.formats.style.Styler at 0x170a0e90910>"
      ]
     },
     "execution_count": 51,
     "metadata": {},
     "output_type": "execute_result"
    }
   ],
   "source": [
    "corr=data.corr()                #correlation with heatmap\n",
    "corr.style.background_gradient(cmap='YlOrRd')"
   ]
  },
  {
   "cell_type": "markdown",
   "id": "d9e5f46f",
   "metadata": {},
   "source": [
    "### Based on the correlation values of each column with the sales we select the features with the best correlation to obtain a good model to predict the correct sales"
   ]
  },
  {
   "cell_type": "markdown",
   "id": "03d5444c",
   "metadata": {},
   "source": [
    "### Here we have selected the foloowing columns 'Item_Visibility','Item_MRP','Outlet_Identifier_encode','Outlet_Size_encode','Outlet_Location_Type_encode','Outlet_Type_encode'"
   ]
  },
  {
   "cell_type": "code",
   "execution_count": 52,
   "id": "da2ef776",
   "metadata": {},
   "outputs": [],
   "source": [
    "d1=data[['Item_Outlet_Sales','Item_Visibility','Item_MRP','Outlet_Identifier_encode','Outlet_Size_encode','Outlet_Location_Type_encode','Outlet_Type_encode']]"
   ]
  },
  {
   "cell_type": "code",
   "execution_count": 53,
   "id": "c9ff684e",
   "metadata": {},
   "outputs": [],
   "source": [
    "d1.reset_index(inplace=True)"
   ]
  },
  {
   "cell_type": "code",
   "execution_count": 54,
   "id": "0084791a",
   "metadata": {},
   "outputs": [],
   "source": [
    "d1.drop(columns='index',inplace=True)"
   ]
  },
  {
   "cell_type": "code",
   "execution_count": 55,
   "id": "0cfd5c43",
   "metadata": {},
   "outputs": [
    {
     "data": {
      "text/html": [
       "<div>\n",
       "<style scoped>\n",
       "    .dataframe tbody tr th:only-of-type {\n",
       "        vertical-align: middle;\n",
       "    }\n",
       "\n",
       "    .dataframe tbody tr th {\n",
       "        vertical-align: top;\n",
       "    }\n",
       "\n",
       "    .dataframe thead th {\n",
       "        text-align: right;\n",
       "    }\n",
       "</style>\n",
       "<table border=\"1\" class=\"dataframe\">\n",
       "  <thead>\n",
       "    <tr style=\"text-align: right;\">\n",
       "      <th></th>\n",
       "      <th>Item_Outlet_Sales</th>\n",
       "      <th>Item_Visibility</th>\n",
       "      <th>Item_MRP</th>\n",
       "      <th>Outlet_Identifier_encode</th>\n",
       "      <th>Outlet_Size_encode</th>\n",
       "      <th>Outlet_Location_Type_encode</th>\n",
       "      <th>Outlet_Type_encode</th>\n",
       "    </tr>\n",
       "  </thead>\n",
       "  <tbody>\n",
       "    <tr>\n",
       "      <th>0</th>\n",
       "      <td>3735.1380</td>\n",
       "      <td>0.016047</td>\n",
       "      <td>249.8092</td>\n",
       "      <td>9</td>\n",
       "      <td>1</td>\n",
       "      <td>0</td>\n",
       "      <td>1</td>\n",
       "    </tr>\n",
       "    <tr>\n",
       "      <th>1</th>\n",
       "      <td>443.4228</td>\n",
       "      <td>0.019278</td>\n",
       "      <td>48.2692</td>\n",
       "      <td>3</td>\n",
       "      <td>1</td>\n",
       "      <td>2</td>\n",
       "      <td>2</td>\n",
       "    </tr>\n",
       "    <tr>\n",
       "      <th>2</th>\n",
       "      <td>2097.2700</td>\n",
       "      <td>0.016760</td>\n",
       "      <td>141.6180</td>\n",
       "      <td>9</td>\n",
       "      <td>1</td>\n",
       "      <td>0</td>\n",
       "      <td>1</td>\n",
       "    </tr>\n",
       "    <tr>\n",
       "      <th>3</th>\n",
       "      <td>732.3800</td>\n",
       "      <td>0.074402</td>\n",
       "      <td>182.0950</td>\n",
       "      <td>0</td>\n",
       "      <td>1</td>\n",
       "      <td>2</td>\n",
       "      <td>0</td>\n",
       "    </tr>\n",
       "    <tr>\n",
       "      <th>4</th>\n",
       "      <td>994.7052</td>\n",
       "      <td>0.064299</td>\n",
       "      <td>53.8614</td>\n",
       "      <td>1</td>\n",
       "      <td>0</td>\n",
       "      <td>2</td>\n",
       "      <td>1</td>\n",
       "    </tr>\n",
       "    <tr>\n",
       "      <th>...</th>\n",
       "      <td>...</td>\n",
       "      <td>...</td>\n",
       "      <td>...</td>\n",
       "      <td>...</td>\n",
       "      <td>...</td>\n",
       "      <td>...</td>\n",
       "      <td>...</td>\n",
       "    </tr>\n",
       "    <tr>\n",
       "      <th>13488</th>\n",
       "      <td>NaN</td>\n",
       "      <td>0.013496</td>\n",
       "      <td>141.3154</td>\n",
       "      <td>8</td>\n",
       "      <td>2</td>\n",
       "      <td>0</td>\n",
       "      <td>1</td>\n",
       "    </tr>\n",
       "    <tr>\n",
       "      <th>13489</th>\n",
       "      <td>NaN</td>\n",
       "      <td>0.142991</td>\n",
       "      <td>169.1448</td>\n",
       "      <td>3</td>\n",
       "      <td>1</td>\n",
       "      <td>2</td>\n",
       "      <td>2</td>\n",
       "    </tr>\n",
       "    <tr>\n",
       "      <th>13490</th>\n",
       "      <td>NaN</td>\n",
       "      <td>0.073529</td>\n",
       "      <td>118.7440</td>\n",
       "      <td>7</td>\n",
       "      <td>2</td>\n",
       "      <td>1</td>\n",
       "      <td>1</td>\n",
       "    </tr>\n",
       "    <tr>\n",
       "      <th>13491</th>\n",
       "      <td>NaN</td>\n",
       "      <td>0.064709</td>\n",
       "      <td>214.6218</td>\n",
       "      <td>2</td>\n",
       "      <td>2</td>\n",
       "      <td>1</td>\n",
       "      <td>1</td>\n",
       "    </tr>\n",
       "    <tr>\n",
       "      <th>13492</th>\n",
       "      <td>NaN</td>\n",
       "      <td>0.104720</td>\n",
       "      <td>79.7960</td>\n",
       "      <td>7</td>\n",
       "      <td>2</td>\n",
       "      <td>1</td>\n",
       "      <td>1</td>\n",
       "    </tr>\n",
       "  </tbody>\n",
       "</table>\n",
       "<p>13493 rows × 7 columns</p>\n",
       "</div>"
      ],
      "text/plain": [
       "       Item_Outlet_Sales  Item_Visibility  Item_MRP  Outlet_Identifier_encode  \\\n",
       "0              3735.1380         0.016047  249.8092                         9   \n",
       "1               443.4228         0.019278   48.2692                         3   \n",
       "2              2097.2700         0.016760  141.6180                         9   \n",
       "3               732.3800         0.074402  182.0950                         0   \n",
       "4               994.7052         0.064299   53.8614                         1   \n",
       "...                  ...              ...       ...                       ...   \n",
       "13488                NaN         0.013496  141.3154                         8   \n",
       "13489                NaN         0.142991  169.1448                         3   \n",
       "13490                NaN         0.073529  118.7440                         7   \n",
       "13491                NaN         0.064709  214.6218                         2   \n",
       "13492                NaN         0.104720   79.7960                         7   \n",
       "\n",
       "       Outlet_Size_encode  Outlet_Location_Type_encode  Outlet_Type_encode  \n",
       "0                       1                            0                   1  \n",
       "1                       1                            2                   2  \n",
       "2                       1                            0                   1  \n",
       "3                       1                            2                   0  \n",
       "4                       0                            2                   1  \n",
       "...                   ...                          ...                 ...  \n",
       "13488                   2                            0                   1  \n",
       "13489                   1                            2                   2  \n",
       "13490                   2                            1                   1  \n",
       "13491                   2                            1                   1  \n",
       "13492                   2                            1                   1  \n",
       "\n",
       "[13493 rows x 7 columns]"
      ]
     },
     "execution_count": 55,
     "metadata": {},
     "output_type": "execute_result"
    }
   ],
   "source": [
    "d1"
   ]
  },
  {
   "cell_type": "markdown",
   "id": "e0380b48",
   "metadata": {},
   "source": [
    "# Data scaling"
   ]
  },
  {
   "cell_type": "code",
   "execution_count": 56,
   "id": "00cd4fd4",
   "metadata": {},
   "outputs": [],
   "source": [
    "scale=MinMaxScaler()"
   ]
  },
  {
   "cell_type": "code",
   "execution_count": 57,
   "id": "773ae407",
   "metadata": {},
   "outputs": [],
   "source": [
    "scaled_data=pd.DataFrame(scale.fit_transform(d1.drop(columns='Item_Outlet_Sales')),columns=d1.drop(columns='Item_Outlet_Sales').columns)"
   ]
  },
  {
   "cell_type": "code",
   "execution_count": 58,
   "id": "3719ad89",
   "metadata": {},
   "outputs": [
    {
     "data": {
      "text/html": [
       "<div>\n",
       "<style scoped>\n",
       "    .dataframe tbody tr th:only-of-type {\n",
       "        vertical-align: middle;\n",
       "    }\n",
       "\n",
       "    .dataframe tbody tr th {\n",
       "        vertical-align: top;\n",
       "    }\n",
       "\n",
       "    .dataframe thead th {\n",
       "        text-align: right;\n",
       "    }\n",
       "</style>\n",
       "<table border=\"1\" class=\"dataframe\">\n",
       "  <thead>\n",
       "    <tr style=\"text-align: right;\">\n",
       "      <th></th>\n",
       "      <th>Item_Visibility</th>\n",
       "      <th>Item_MRP</th>\n",
       "      <th>Outlet_Identifier_encode</th>\n",
       "      <th>Outlet_Size_encode</th>\n",
       "      <th>Outlet_Location_Type_encode</th>\n",
       "      <th>Outlet_Type_encode</th>\n",
       "    </tr>\n",
       "  </thead>\n",
       "  <tbody>\n",
       "    <tr>\n",
       "      <th>0</th>\n",
       "      <td>0.078120</td>\n",
       "      <td>0.927507</td>\n",
       "      <td>1.000000</td>\n",
       "      <td>0.5</td>\n",
       "      <td>0.0</td>\n",
       "      <td>0.333333</td>\n",
       "    </tr>\n",
       "    <tr>\n",
       "      <th>1</th>\n",
       "      <td>0.098357</td>\n",
       "      <td>0.072068</td>\n",
       "      <td>0.333333</td>\n",
       "      <td>0.5</td>\n",
       "      <td>1.0</td>\n",
       "      <td>0.666667</td>\n",
       "    </tr>\n",
       "    <tr>\n",
       "      <th>2</th>\n",
       "      <td>0.082585</td>\n",
       "      <td>0.468288</td>\n",
       "      <td>1.000000</td>\n",
       "      <td>0.5</td>\n",
       "      <td>0.0</td>\n",
       "      <td>0.333333</td>\n",
       "    </tr>\n",
       "    <tr>\n",
       "      <th>3</th>\n",
       "      <td>0.443619</td>\n",
       "      <td>0.640093</td>\n",
       "      <td>0.000000</td>\n",
       "      <td>0.5</td>\n",
       "      <td>1.0</td>\n",
       "      <td>0.000000</td>\n",
       "    </tr>\n",
       "    <tr>\n",
       "      <th>4</th>\n",
       "      <td>0.380338</td>\n",
       "      <td>0.095805</td>\n",
       "      <td>0.111111</td>\n",
       "      <td>0.0</td>\n",
       "      <td>1.0</td>\n",
       "      <td>0.333333</td>\n",
       "    </tr>\n",
       "    <tr>\n",
       "      <th>...</th>\n",
       "      <td>...</td>\n",
       "      <td>...</td>\n",
       "      <td>...</td>\n",
       "      <td>...</td>\n",
       "      <td>...</td>\n",
       "      <td>...</td>\n",
       "    </tr>\n",
       "    <tr>\n",
       "      <th>13488</th>\n",
       "      <td>0.062144</td>\n",
       "      <td>0.467004</td>\n",
       "      <td>0.888889</td>\n",
       "      <td>1.0</td>\n",
       "      <td>0.0</td>\n",
       "      <td>0.333333</td>\n",
       "    </tr>\n",
       "    <tr>\n",
       "      <th>13489</th>\n",
       "      <td>0.873212</td>\n",
       "      <td>0.585126</td>\n",
       "      <td>0.333333</td>\n",
       "      <td>0.5</td>\n",
       "      <td>1.0</td>\n",
       "      <td>0.666667</td>\n",
       "    </tr>\n",
       "    <tr>\n",
       "      <th>13490</th>\n",
       "      <td>0.438146</td>\n",
       "      <td>0.371199</td>\n",
       "      <td>0.777778</td>\n",
       "      <td>1.0</td>\n",
       "      <td>0.5</td>\n",
       "      <td>0.333333</td>\n",
       "    </tr>\n",
       "    <tr>\n",
       "      <th>13491</th>\n",
       "      <td>0.382904</td>\n",
       "      <td>0.778154</td>\n",
       "      <td>0.222222</td>\n",
       "      <td>1.0</td>\n",
       "      <td>0.5</td>\n",
       "      <td>0.333333</td>\n",
       "    </tr>\n",
       "    <tr>\n",
       "      <th>13492</th>\n",
       "      <td>0.633509</td>\n",
       "      <td>0.205884</td>\n",
       "      <td>0.777778</td>\n",
       "      <td>1.0</td>\n",
       "      <td>0.5</td>\n",
       "      <td>0.333333</td>\n",
       "    </tr>\n",
       "  </tbody>\n",
       "</table>\n",
       "<p>13493 rows × 6 columns</p>\n",
       "</div>"
      ],
      "text/plain": [
       "       Item_Visibility  Item_MRP  Outlet_Identifier_encode  \\\n",
       "0             0.078120  0.927507                  1.000000   \n",
       "1             0.098357  0.072068                  0.333333   \n",
       "2             0.082585  0.468288                  1.000000   \n",
       "3             0.443619  0.640093                  0.000000   \n",
       "4             0.380338  0.095805                  0.111111   \n",
       "...                ...       ...                       ...   \n",
       "13488         0.062144  0.467004                  0.888889   \n",
       "13489         0.873212  0.585126                  0.333333   \n",
       "13490         0.438146  0.371199                  0.777778   \n",
       "13491         0.382904  0.778154                  0.222222   \n",
       "13492         0.633509  0.205884                  0.777778   \n",
       "\n",
       "       Outlet_Size_encode  Outlet_Location_Type_encode  Outlet_Type_encode  \n",
       "0                     0.5                          0.0            0.333333  \n",
       "1                     0.5                          1.0            0.666667  \n",
       "2                     0.5                          0.0            0.333333  \n",
       "3                     0.5                          1.0            0.000000  \n",
       "4                     0.0                          1.0            0.333333  \n",
       "...                   ...                          ...                 ...  \n",
       "13488                 1.0                          0.0            0.333333  \n",
       "13489                 0.5                          1.0            0.666667  \n",
       "13490                 1.0                          0.5            0.333333  \n",
       "13491                 1.0                          0.5            0.333333  \n",
       "13492                 1.0                          0.5            0.333333  \n",
       "\n",
       "[13493 rows x 6 columns]"
      ]
     },
     "execution_count": 58,
     "metadata": {},
     "output_type": "execute_result"
    }
   ],
   "source": [
    "scaled_data"
   ]
  },
  {
   "cell_type": "markdown",
   "id": "3c211403",
   "metadata": {},
   "source": [
    "## In this project we have labelled data and we have a dependent variable (Sales), so we perform supervised ML"
   ]
  },
  {
   "cell_type": "markdown",
   "id": "53720fe8",
   "metadata": {},
   "source": [
    "## As our dependent variable sales is numerical, this falls under regression model"
   ]
  },
  {
   "cell_type": "markdown",
   "id": "257c1f31",
   "metadata": {},
   "source": [
    "## Here we have to predict the sales"
   ]
  },
  {
   "cell_type": "markdown",
   "id": "b91338b0",
   "metadata": {},
   "source": [
    "# Data splitting"
   ]
  },
  {
   "cell_type": "code",
   "execution_count": 59,
   "id": "b536d0c1",
   "metadata": {},
   "outputs": [
    {
     "data": {
      "text/plain": [
       "Item_Outlet_Sales              5401\n",
       "Item_Visibility                   0\n",
       "Item_MRP                          0\n",
       "Outlet_Identifier_encode          0\n",
       "Outlet_Size_encode                0\n",
       "Outlet_Location_Type_encode       0\n",
       "Outlet_Type_encode                0\n",
       "dtype: int64"
      ]
     },
     "execution_count": 59,
     "metadata": {},
     "output_type": "execute_result"
    }
   ],
   "source": [
    "d1.isnull().sum()"
   ]
  },
  {
   "cell_type": "code",
   "execution_count": 60,
   "id": "566a11cb",
   "metadata": {},
   "outputs": [
    {
     "data": {
      "text/html": [
       "<div>\n",
       "<style scoped>\n",
       "    .dataframe tbody tr th:only-of-type {\n",
       "        vertical-align: middle;\n",
       "    }\n",
       "\n",
       "    .dataframe tbody tr th {\n",
       "        vertical-align: top;\n",
       "    }\n",
       "\n",
       "    .dataframe thead th {\n",
       "        text-align: right;\n",
       "    }\n",
       "</style>\n",
       "<table border=\"1\" class=\"dataframe\">\n",
       "  <thead>\n",
       "    <tr style=\"text-align: right;\">\n",
       "      <th></th>\n",
       "      <th>Item_Outlet_Sales</th>\n",
       "      <th>Item_Visibility</th>\n",
       "      <th>Item_MRP</th>\n",
       "      <th>Outlet_Identifier_encode</th>\n",
       "      <th>Outlet_Size_encode</th>\n",
       "      <th>Outlet_Location_Type_encode</th>\n",
       "      <th>Outlet_Type_encode</th>\n",
       "    </tr>\n",
       "  </thead>\n",
       "  <tbody>\n",
       "    <tr>\n",
       "      <th>8092</th>\n",
       "      <td>NaN</td>\n",
       "      <td>0.007565</td>\n",
       "      <td>107.8622</td>\n",
       "      <td>9</td>\n",
       "      <td>1</td>\n",
       "      <td>0</td>\n",
       "      <td>1</td>\n",
       "    </tr>\n",
       "    <tr>\n",
       "      <th>8093</th>\n",
       "      <td>NaN</td>\n",
       "      <td>0.038428</td>\n",
       "      <td>87.3198</td>\n",
       "      <td>2</td>\n",
       "      <td>2</td>\n",
       "      <td>1</td>\n",
       "      <td>1</td>\n",
       "    </tr>\n",
       "    <tr>\n",
       "      <th>8094</th>\n",
       "      <td>NaN</td>\n",
       "      <td>0.099575</td>\n",
       "      <td>241.7538</td>\n",
       "      <td>0</td>\n",
       "      <td>1</td>\n",
       "      <td>2</td>\n",
       "      <td>0</td>\n",
       "    </tr>\n",
       "    <tr>\n",
       "      <th>8095</th>\n",
       "      <td>NaN</td>\n",
       "      <td>0.015388</td>\n",
       "      <td>155.0340</td>\n",
       "      <td>2</td>\n",
       "      <td>2</td>\n",
       "      <td>1</td>\n",
       "      <td>1</td>\n",
       "    </tr>\n",
       "    <tr>\n",
       "      <th>8096</th>\n",
       "      <td>NaN</td>\n",
       "      <td>0.118599</td>\n",
       "      <td>234.2300</td>\n",
       "      <td>5</td>\n",
       "      <td>1</td>\n",
       "      <td>2</td>\n",
       "      <td>3</td>\n",
       "    </tr>\n",
       "    <tr>\n",
       "      <th>...</th>\n",
       "      <td>...</td>\n",
       "      <td>...</td>\n",
       "      <td>...</td>\n",
       "      <td>...</td>\n",
       "      <td>...</td>\n",
       "      <td>...</td>\n",
       "      <td>...</td>\n",
       "    </tr>\n",
       "    <tr>\n",
       "      <th>13488</th>\n",
       "      <td>NaN</td>\n",
       "      <td>0.013496</td>\n",
       "      <td>141.3154</td>\n",
       "      <td>8</td>\n",
       "      <td>2</td>\n",
       "      <td>0</td>\n",
       "      <td>1</td>\n",
       "    </tr>\n",
       "    <tr>\n",
       "      <th>13489</th>\n",
       "      <td>NaN</td>\n",
       "      <td>0.142991</td>\n",
       "      <td>169.1448</td>\n",
       "      <td>3</td>\n",
       "      <td>1</td>\n",
       "      <td>2</td>\n",
       "      <td>2</td>\n",
       "    </tr>\n",
       "    <tr>\n",
       "      <th>13490</th>\n",
       "      <td>NaN</td>\n",
       "      <td>0.073529</td>\n",
       "      <td>118.7440</td>\n",
       "      <td>7</td>\n",
       "      <td>2</td>\n",
       "      <td>1</td>\n",
       "      <td>1</td>\n",
       "    </tr>\n",
       "    <tr>\n",
       "      <th>13491</th>\n",
       "      <td>NaN</td>\n",
       "      <td>0.064709</td>\n",
       "      <td>214.6218</td>\n",
       "      <td>2</td>\n",
       "      <td>2</td>\n",
       "      <td>1</td>\n",
       "      <td>1</td>\n",
       "    </tr>\n",
       "    <tr>\n",
       "      <th>13492</th>\n",
       "      <td>NaN</td>\n",
       "      <td>0.104720</td>\n",
       "      <td>79.7960</td>\n",
       "      <td>7</td>\n",
       "      <td>2</td>\n",
       "      <td>1</td>\n",
       "      <td>1</td>\n",
       "    </tr>\n",
       "  </tbody>\n",
       "</table>\n",
       "<p>5401 rows × 7 columns</p>\n",
       "</div>"
      ],
      "text/plain": [
       "       Item_Outlet_Sales  Item_Visibility  Item_MRP  Outlet_Identifier_encode  \\\n",
       "8092                 NaN         0.007565  107.8622                         9   \n",
       "8093                 NaN         0.038428   87.3198                         2   \n",
       "8094                 NaN         0.099575  241.7538                         0   \n",
       "8095                 NaN         0.015388  155.0340                         2   \n",
       "8096                 NaN         0.118599  234.2300                         5   \n",
       "...                  ...              ...       ...                       ...   \n",
       "13488                NaN         0.013496  141.3154                         8   \n",
       "13489                NaN         0.142991  169.1448                         3   \n",
       "13490                NaN         0.073529  118.7440                         7   \n",
       "13491                NaN         0.064709  214.6218                         2   \n",
       "13492                NaN         0.104720   79.7960                         7   \n",
       "\n",
       "       Outlet_Size_encode  Outlet_Location_Type_encode  Outlet_Type_encode  \n",
       "8092                    1                            0                   1  \n",
       "8093                    2                            1                   1  \n",
       "8094                    1                            2                   0  \n",
       "8095                    2                            1                   1  \n",
       "8096                    1                            2                   3  \n",
       "...                   ...                          ...                 ...  \n",
       "13488                   2                            0                   1  \n",
       "13489                   1                            2                   2  \n",
       "13490                   2                            1                   1  \n",
       "13491                   2                            1                   1  \n",
       "13492                   2                            1                   1  \n",
       "\n",
       "[5401 rows x 7 columns]"
      ]
     },
     "execution_count": 60,
     "metadata": {},
     "output_type": "execute_result"
    }
   ],
   "source": [
    "d1[d1['Item_Outlet_Sales'].isna()]"
   ]
  },
  {
   "cell_type": "markdown",
   "id": "4fe59e59",
   "metadata": {},
   "source": [
    "## As we can from index 8092 we have null values for Sales, we can consider these null columns as test data"
   ]
  },
  {
   "cell_type": "code",
   "execution_count": 61,
   "id": "8d2c454b",
   "metadata": {},
   "outputs": [],
   "source": [
    "y=d1.Item_Outlet_Sales         #dependent variable\n",
    "x=scaled_data"
   ]
  },
  {
   "cell_type": "code",
   "execution_count": 62,
   "id": "35d3077b",
   "metadata": {},
   "outputs": [],
   "source": [
    "x_train=x[:8092]       #splitting x\n",
    "x_test=x[8092:]"
   ]
  },
  {
   "cell_type": "code",
   "execution_count": 63,
   "id": "c5ec1b96",
   "metadata": {},
   "outputs": [],
   "source": [
    "y_train=y[:8092]          #splitting y\n",
    "y_test=y[8092:]"
   ]
  },
  {
   "cell_type": "markdown",
   "id": "3d91d32d",
   "metadata": {},
   "source": [
    "# ML model"
   ]
  },
  {
   "cell_type": "markdown",
   "id": "2c5835a8",
   "metadata": {},
   "source": [
    "## Linear regression"
   ]
  },
  {
   "cell_type": "code",
   "execution_count": 64,
   "id": "a400ba6a",
   "metadata": {},
   "outputs": [],
   "source": [
    "lr_model=LinearRegression()      #defining model"
   ]
  },
  {
   "cell_type": "code",
   "execution_count": 65,
   "id": "eff7a19f",
   "metadata": {},
   "outputs": [],
   "source": [
    "lr_model=lr_model.fit(x_train,y_train)    #training model"
   ]
  },
  {
   "cell_type": "code",
   "execution_count": 66,
   "id": "e0b9f147",
   "metadata": {},
   "outputs": [],
   "source": [
    "lr_predict=lr_model.predict(x_test)"
   ]
  },
  {
   "cell_type": "code",
   "execution_count": 67,
   "id": "78734cc4",
   "metadata": {},
   "outputs": [],
   "source": [
    "lr_score=lr_model.score(x_train,y_train)"
   ]
  },
  {
   "cell_type": "code",
   "execution_count": 68,
   "id": "6b19e855",
   "metadata": {},
   "outputs": [
    {
     "name": "stdout",
     "output_type": "stream",
     "text": [
      "The score of Linear Regression model is : 0.494640409090769\n"
     ]
    }
   ],
   "source": [
    "print(\"The score of Linear Regression model is :\",lr_score)"
   ]
  },
  {
   "cell_type": "markdown",
   "id": "d318a9f9",
   "metadata": {},
   "source": [
    "# Decision tree"
   ]
  },
  {
   "cell_type": "code",
   "execution_count": 69,
   "id": "e4c8236b",
   "metadata": {},
   "outputs": [],
   "source": [
    "dt_model=DecisionTreeRegressor()"
   ]
  },
  {
   "cell_type": "code",
   "execution_count": 70,
   "id": "cbf31c65",
   "metadata": {},
   "outputs": [],
   "source": [
    "dt_model=dt_model.fit(x_train,y_train)"
   ]
  },
  {
   "cell_type": "code",
   "execution_count": 71,
   "id": "1daf507a",
   "metadata": {},
   "outputs": [],
   "source": [
    "dt_score=dt_model.score(x_train,y_train)"
   ]
  },
  {
   "cell_type": "code",
   "execution_count": 72,
   "id": "c8668c64",
   "metadata": {},
   "outputs": [],
   "source": [
    "dt_predict=dt_model.predict(x_test)"
   ]
  },
  {
   "cell_type": "code",
   "execution_count": 73,
   "id": "1a2d55e5",
   "metadata": {},
   "outputs": [
    {
     "name": "stdout",
     "output_type": "stream",
     "text": [
      "The score of Decision tree model is : 1.0\n"
     ]
    }
   ],
   "source": [
    "print(\"The score of Decision tree model is :\",dt_score)"
   ]
  },
  {
   "cell_type": "markdown",
   "id": "c8eeeed4",
   "metadata": {},
   "source": [
    "# Random Forest"
   ]
  },
  {
   "cell_type": "code",
   "execution_count": 74,
   "id": "61a5b232",
   "metadata": {},
   "outputs": [],
   "source": [
    "rm_model=RandomForestRegressor()"
   ]
  },
  {
   "cell_type": "code",
   "execution_count": 75,
   "id": "fbd5e5e4",
   "metadata": {},
   "outputs": [],
   "source": [
    "rm_model=rm_model.fit(x_train,y_train)"
   ]
  },
  {
   "cell_type": "code",
   "execution_count": 76,
   "id": "f3a44abd",
   "metadata": {},
   "outputs": [],
   "source": [
    "rm_score=rm_model.score(x_train,y_train)"
   ]
  },
  {
   "cell_type": "code",
   "execution_count": 77,
   "id": "96eec35e",
   "metadata": {},
   "outputs": [
    {
     "name": "stdout",
     "output_type": "stream",
     "text": [
      "The score of Random forest model is : 0.9344430995507319\n"
     ]
    }
   ],
   "source": [
    "print(\"The score of Random forest model is :\",rm_score)"
   ]
  },
  {
   "cell_type": "markdown",
   "id": "b31917d9",
   "metadata": {},
   "source": [
    "# AdaBoosting"
   ]
  },
  {
   "cell_type": "code",
   "execution_count": 78,
   "id": "40cd0155",
   "metadata": {},
   "outputs": [],
   "source": [
    "ada_model=AdaBoostRegressor()"
   ]
  },
  {
   "cell_type": "code",
   "execution_count": 79,
   "id": "a8e7cc70",
   "metadata": {},
   "outputs": [],
   "source": [
    "ada_model=ada_model.fit(x_train,y_train)"
   ]
  },
  {
   "cell_type": "code",
   "execution_count": 80,
   "id": "be93ff3f",
   "metadata": {},
   "outputs": [],
   "source": [
    "ada_score=ada_model.score(x_train,y_train)"
   ]
  },
  {
   "cell_type": "code",
   "execution_count": 81,
   "id": "5e371d2d",
   "metadata": {},
   "outputs": [
    {
     "name": "stdout",
     "output_type": "stream",
     "text": [
      "The score of AdaBoosting model is : 0.515390898311101\n"
     ]
    }
   ],
   "source": [
    "print(\"The score of AdaBoosting model is :\",ada_score)"
   ]
  },
  {
   "cell_type": "markdown",
   "id": "7e2c3e63",
   "metadata": {},
   "source": [
    "# Stacking"
   ]
  },
  {
   "cell_type": "code",
   "execution_count": 82,
   "id": "3c170ed1",
   "metadata": {},
   "outputs": [],
   "source": [
    "# get a stacking ensemble of models\n",
    "def get_stacking():\n",
    "\t# define the base models\n",
    "\tlevel0 = list()\n",
    "\tlevel0.append(('dtree', DecisionTreeRegressor()))\n",
    "\tlevel0.append(('forest', RandomForestRegressor()))\n",
    "\t# define meta learner model\n",
    "\tlevel1 = LinearRegression()\n",
    "\t# define the stacking ensemble\n",
    "\tmodel = StackingRegressor(estimators=level0, final_estimator=level1, cv=5)\n",
    "\treturn model"
   ]
  },
  {
   "cell_type": "code",
   "execution_count": 83,
   "id": "2e690a13",
   "metadata": {},
   "outputs": [],
   "source": [
    "stack_model=get_stacking()"
   ]
  },
  {
   "cell_type": "code",
   "execution_count": 84,
   "id": "0f2eac3a",
   "metadata": {},
   "outputs": [
    {
     "data": {
      "text/plain": [
       "StackingRegressor(cv=5,\n",
       "                  estimators=[('dtree', DecisionTreeRegressor()),\n",
       "                              ('forest', RandomForestRegressor())],\n",
       "                  final_estimator=LinearRegression())"
      ]
     },
     "execution_count": 84,
     "metadata": {},
     "output_type": "execute_result"
    }
   ],
   "source": [
    "stack_model.fit(x_train,y_train)"
   ]
  },
  {
   "cell_type": "code",
   "execution_count": 85,
   "id": "cce4c9ea",
   "metadata": {},
   "outputs": [],
   "source": [
    "stack=stack_model.score(x_train,y_train)"
   ]
  },
  {
   "cell_type": "code",
   "execution_count": 86,
   "id": "951560f6",
   "metadata": {},
   "outputs": [
    {
     "name": "stdout",
     "output_type": "stream",
     "text": [
      "The score of Stacking model is : 0.901397901740982\n"
     ]
    }
   ],
   "source": [
    "print(\"The score of Stacking model is :\",stack)"
   ]
  },
  {
   "cell_type": "code",
   "execution_count": 87,
   "id": "efdb19dc",
   "metadata": {},
   "outputs": [],
   "source": [
    "score={'Linear regression':lr_score,'Random forest':rm_score,'AdaBoosting':ada_score,'Stacking':stack}"
   ]
  },
  {
   "cell_type": "code",
   "execution_count": 88,
   "id": "7ed32f52",
   "metadata": {},
   "outputs": [],
   "source": [
    "name=list(score.keys())\n",
    "values=list(score.values())"
   ]
  },
  {
   "cell_type": "code",
   "execution_count": 89,
   "id": "ab56c391",
   "metadata": {},
   "outputs": [
    {
     "data": {
      "image/png": "[encoded data removed]",
      "text/plain": [
       "<Figure size 720x360 with 1 Axes>"
      ]
     },
     "metadata": {
      "needs_background": "light"
     },
     "output_type": "display_data"
    }
   ],
   "source": [
    "plt.figure(figsize=(10,5))\n",
    "plt.bar(name,values,color='maroon')\n",
    "plt.title(\"Comparision of scores for different models\")\n",
    "plt.xlabel(\"Model\")\n",
    "plt.ylabel(\"Score\")\n",
    "plt.show()"
   ]
  },
  {
   "cell_type": "markdown",
   "id": "ea43abb8",
   "metadata": {},
   "source": [
    "## From the above graph we can see that the Random forest has the best score "
   ]
  },
  {
   "cell_type": "markdown",
   "id": "1912a177",
   "metadata": {},
   "source": [
    "## So the best model for this project is Random forest"
   ]
  },
  {
   "cell_type": "markdown",
   "id": "6550d94c",
   "metadata": {},
   "source": [
    "# BEST MODEL : Random Forest"
   ]
  },
  {
   "cell_type": "code",
   "execution_count": 90,
   "id": "bba15e03",
   "metadata": {},
   "outputs": [],
   "source": [
    "rm_model=RandomForestRegressor()"
   ]
  },
  {
   "cell_type": "code",
   "execution_count": 91,
   "id": "fa9c3580",
   "metadata": {},
   "outputs": [],
   "source": [
    "rm_model=rm_model.fit(x_train,y_train)"
   ]
  },
  {
   "cell_type": "code",
   "execution_count": 92,
   "id": "b110135b",
   "metadata": {},
   "outputs": [],
   "source": [
    "rm_score=rm_model.score(x_train,y_train)"
   ]
  },
  {
   "cell_type": "code",
   "execution_count": 93,
   "id": "1a09e388",
   "metadata": {},
   "outputs": [
    {
     "name": "stdout",
     "output_type": "stream",
     "text": [
      "The score of Random forest model is : 0.9345544084173356\n"
     ]
    }
   ],
   "source": [
    "print(\"The score of Random forest model is :\",rm_score)"
   ]
  },
  {
   "cell_type": "code",
   "execution_count": 94,
   "id": "38ecd4b8",
   "metadata": {},
   "outputs": [],
   "source": [
    "predict=rm_model.predict(x_test)#predicted sales"
   ]
  },
  {
   "cell_type": "code",
   "execution_count": 95,
   "id": "148f843a",
   "metadata": {},
   "outputs": [
    {
     "data": {
      "text/plain": [
       "array([1667.29636 , 1190.210712,  482.50526 , ..., 1784.530424,\n",
       "       3829.461886, 1759.396474])"
      ]
     },
     "execution_count": 95,
     "metadata": {},
     "output_type": "execute_result"
    }
   ],
   "source": [
    "predict"
   ]
  },
  {
   "cell_type": "code",
   "execution_count": 96,
   "id": "bf32ea5f",
   "metadata": {},
   "outputs": [
    {
     "data": {
      "text/plain": [
       "5401"
      ]
     },
     "execution_count": 96,
     "metadata": {},
     "output_type": "execute_result"
    }
   ],
   "source": [
    "predict.size"
   ]
  },
  {
   "cell_type": "code",
   "execution_count": 97,
   "id": "6890ae00",
   "metadata": {},
   "outputs": [],
   "source": [
    "predicted_sales=pd.DataFrame(predict,columns=['predicted_sales'])"
   ]
  },
  {
   "cell_type": "code",
   "execution_count": 98,
   "id": "4d59c0f4",
   "metadata": {},
   "outputs": [
    {
     "data": {
      "text/html": [
       "<div>\n",
       "<style scoped>\n",
       "    .dataframe tbody tr th:only-of-type {\n",
       "        vertical-align: middle;\n",
       "    }\n",
       "\n",
       "    .dataframe tbody tr th {\n",
       "        vertical-align: top;\n",
       "    }\n",
       "\n",
       "    .dataframe thead th {\n",
       "        text-align: right;\n",
       "    }\n",
       "</style>\n",
       "<table border=\"1\" class=\"dataframe\">\n",
       "  <thead>\n",
       "    <tr style=\"text-align: right;\">\n",
       "      <th></th>\n",
       "      <th>predicted_sales</th>\n",
       "    </tr>\n",
       "  </thead>\n",
       "  <tbody>\n",
       "    <tr>\n",
       "      <th>0</th>\n",
       "      <td>1667.296360</td>\n",
       "    </tr>\n",
       "    <tr>\n",
       "      <th>1</th>\n",
       "      <td>1190.210712</td>\n",
       "    </tr>\n",
       "    <tr>\n",
       "      <th>2</th>\n",
       "      <td>482.505260</td>\n",
       "    </tr>\n",
       "    <tr>\n",
       "      <th>3</th>\n",
       "      <td>2292.575772</td>\n",
       "    </tr>\n",
       "    <tr>\n",
       "      <th>4</th>\n",
       "      <td>6104.047742</td>\n",
       "    </tr>\n",
       "    <tr>\n",
       "      <th>...</th>\n",
       "      <td>...</td>\n",
       "    </tr>\n",
       "    <tr>\n",
       "      <th>5396</th>\n",
       "      <td>2282.162660</td>\n",
       "    </tr>\n",
       "    <tr>\n",
       "      <th>5397</th>\n",
       "      <td>2316.704364</td>\n",
       "    </tr>\n",
       "    <tr>\n",
       "      <th>5398</th>\n",
       "      <td>1784.530424</td>\n",
       "    </tr>\n",
       "    <tr>\n",
       "      <th>5399</th>\n",
       "      <td>3829.461886</td>\n",
       "    </tr>\n",
       "    <tr>\n",
       "      <th>5400</th>\n",
       "      <td>1759.396474</td>\n",
       "    </tr>\n",
       "  </tbody>\n",
       "</table>\n",
       "<p>5401 rows × 1 columns</p>\n",
       "</div>"
      ],
      "text/plain": [
       "      predicted_sales\n",
       "0         1667.296360\n",
       "1         1190.210712\n",
       "2          482.505260\n",
       "3         2292.575772\n",
       "4         6104.047742\n",
       "...               ...\n",
       "5396      2282.162660\n",
       "5397      2316.704364\n",
       "5398      1784.530424\n",
       "5399      3829.461886\n",
       "5400      1759.396474\n",
       "\n",
       "[5401 rows x 1 columns]"
      ]
     },
     "execution_count": 98,
     "metadata": {},
     "output_type": "execute_result"
    }
   ],
   "source": [
    "predicted_sales"
   ]
  },
  {
   "cell_type": "code",
   "execution_count": 115,
   "id": "a12ff372",
   "metadata": {},
   "outputs": [],
   "source": [
    "ss=d1.Item_Outlet_Sales.dropna()"
   ]
  },
  {
   "cell_type": "code",
   "execution_count": 118,
   "id": "2332c2a5",
   "metadata": {},
   "outputs": [],
   "source": [
    "a=ss.append(predicted_sales['predicted_sales'])"
   ]
  },
  {
   "cell_type": "code",
   "execution_count": 127,
   "id": "20c410aa",
   "metadata": {},
   "outputs": [],
   "source": [
    "b=pd.DataFrame(a,columns=['Sales with prediction'])"
   ]
  },
  {
   "cell_type": "code",
   "execution_count": 132,
   "id": "c1dfa46b",
   "metadata": {},
   "outputs": [],
   "source": [
    "b.reset_index(inplace=True)"
   ]
  },
  {
   "cell_type": "code",
   "execution_count": 134,
   "id": "61069099",
   "metadata": {},
   "outputs": [],
   "source": [
    "b.drop(columns=\"index\",inplace=True)"
   ]
  },
  {
   "cell_type": "code",
   "execution_count": 135,
   "id": "6772e313",
   "metadata": {},
   "outputs": [
    {
     "data": {
      "text/html": [
       "<div>\n",
       "<style scoped>\n",
       "    .dataframe tbody tr th:only-of-type {\n",
       "        vertical-align: middle;\n",
       "    }\n",
       "\n",
       "    .dataframe tbody tr th {\n",
       "        vertical-align: top;\n",
       "    }\n",
       "\n",
       "    .dataframe thead th {\n",
       "        text-align: right;\n",
       "    }\n",
       "</style>\n",
       "<table border=\"1\" class=\"dataframe\">\n",
       "  <thead>\n",
       "    <tr style=\"text-align: right;\">\n",
       "      <th></th>\n",
       "      <th>Sales with prediction</th>\n",
       "    </tr>\n",
       "  </thead>\n",
       "  <tbody>\n",
       "    <tr>\n",
       "      <th>0</th>\n",
       "      <td>3735.138000</td>\n",
       "    </tr>\n",
       "    <tr>\n",
       "      <th>1</th>\n",
       "      <td>443.422800</td>\n",
       "    </tr>\n",
       "    <tr>\n",
       "      <th>2</th>\n",
       "      <td>2097.270000</td>\n",
       "    </tr>\n",
       "    <tr>\n",
       "      <th>3</th>\n",
       "      <td>732.380000</td>\n",
       "    </tr>\n",
       "    <tr>\n",
       "      <th>4</th>\n",
       "      <td>994.705200</td>\n",
       "    </tr>\n",
       "    <tr>\n",
       "      <th>...</th>\n",
       "      <td>...</td>\n",
       "    </tr>\n",
       "    <tr>\n",
       "      <th>13488</th>\n",
       "      <td>2282.162660</td>\n",
       "    </tr>\n",
       "    <tr>\n",
       "      <th>13489</th>\n",
       "      <td>2316.704364</td>\n",
       "    </tr>\n",
       "    <tr>\n",
       "      <th>13490</th>\n",
       "      <td>1784.530424</td>\n",
       "    </tr>\n",
       "    <tr>\n",
       "      <th>13491</th>\n",
       "      <td>3829.461886</td>\n",
       "    </tr>\n",
       "    <tr>\n",
       "      <th>13492</th>\n",
       "      <td>1759.396474</td>\n",
       "    </tr>\n",
       "  </tbody>\n",
       "</table>\n",
       "<p>13493 rows × 1 columns</p>\n",
       "</div>"
      ],
      "text/plain": [
       "       Sales with prediction\n",
       "0                3735.138000\n",
       "1                 443.422800\n",
       "2                2097.270000\n",
       "3                 732.380000\n",
       "4                 994.705200\n",
       "...                      ...\n",
       "13488            2282.162660\n",
       "13489            2316.704364\n",
       "13490            1784.530424\n",
       "13491            3829.461886\n",
       "13492            1759.396474\n",
       "\n",
       "[13493 rows x 1 columns]"
      ]
     },
     "execution_count": 135,
     "metadata": {},
     "output_type": "execute_result"
    }
   ],
   "source": [
    "b"
   ]
  },
  {
   "cell_type": "code",
   "execution_count": 139,
   "id": "bd83e723",
   "metadata": {},
   "outputs": [],
   "source": [
    "d1=pd.concat([d1,b],axis=1)"
   ]
  },
  {
   "cell_type": "code",
   "execution_count": 140,
   "id": "54c188b9",
   "metadata": {},
   "outputs": [
    {
     "data": {
      "text/html": [
       "<div>\n",
       "<style scoped>\n",
       "    .dataframe tbody tr th:only-of-type {\n",
       "        vertical-align: middle;\n",
       "    }\n",
       "\n",
       "    .dataframe tbody tr th {\n",
       "        vertical-align: top;\n",
       "    }\n",
       "\n",
       "    .dataframe thead th {\n",
       "        text-align: right;\n",
       "    }\n",
       "</style>\n",
       "<table border=\"1\" class=\"dataframe\">\n",
       "  <thead>\n",
       "    <tr style=\"text-align: right;\">\n",
       "      <th></th>\n",
       "      <th>Item_Outlet_Sales</th>\n",
       "      <th>Item_Visibility</th>\n",
       "      <th>Item_MRP</th>\n",
       "      <th>Outlet_Identifier_encode</th>\n",
       "      <th>Outlet_Size_encode</th>\n",
       "      <th>Outlet_Location_Type_encode</th>\n",
       "      <th>Outlet_Type_encode</th>\n",
       "      <th>Sales with prediction</th>\n",
       "    </tr>\n",
       "  </thead>\n",
       "  <tbody>\n",
       "    <tr>\n",
       "      <th>0</th>\n",
       "      <td>3735.1380</td>\n",
       "      <td>0.016047</td>\n",
       "      <td>249.8092</td>\n",
       "      <td>9</td>\n",
       "      <td>1</td>\n",
       "      <td>0</td>\n",
       "      <td>1</td>\n",
       "      <td>3735.138000</td>\n",
       "    </tr>\n",
       "    <tr>\n",
       "      <th>1</th>\n",
       "      <td>443.4228</td>\n",
       "      <td>0.019278</td>\n",
       "      <td>48.2692</td>\n",
       "      <td>3</td>\n",
       "      <td>1</td>\n",
       "      <td>2</td>\n",
       "      <td>2</td>\n",
       "      <td>443.422800</td>\n",
       "    </tr>\n",
       "    <tr>\n",
       "      <th>2</th>\n",
       "      <td>2097.2700</td>\n",
       "      <td>0.016760</td>\n",
       "      <td>141.6180</td>\n",
       "      <td>9</td>\n",
       "      <td>1</td>\n",
       "      <td>0</td>\n",
       "      <td>1</td>\n",
       "      <td>2097.270000</td>\n",
       "    </tr>\n",
       "    <tr>\n",
       "      <th>3</th>\n",
       "      <td>732.3800</td>\n",
       "      <td>0.074402</td>\n",
       "      <td>182.0950</td>\n",
       "      <td>0</td>\n",
       "      <td>1</td>\n",
       "      <td>2</td>\n",
       "      <td>0</td>\n",
       "      <td>732.380000</td>\n",
       "    </tr>\n",
       "    <tr>\n",
       "      <th>4</th>\n",
       "      <td>994.7052</td>\n",
       "      <td>0.064299</td>\n",
       "      <td>53.8614</td>\n",
       "      <td>1</td>\n",
       "      <td>0</td>\n",
       "      <td>2</td>\n",
       "      <td>1</td>\n",
       "      <td>994.705200</td>\n",
       "    </tr>\n",
       "    <tr>\n",
       "      <th>...</th>\n",
       "      <td>...</td>\n",
       "      <td>...</td>\n",
       "      <td>...</td>\n",
       "      <td>...</td>\n",
       "      <td>...</td>\n",
       "      <td>...</td>\n",
       "      <td>...</td>\n",
       "      <td>...</td>\n",
       "    </tr>\n",
       "    <tr>\n",
       "      <th>13488</th>\n",
       "      <td>NaN</td>\n",
       "      <td>0.013496</td>\n",
       "      <td>141.3154</td>\n",
       "      <td>8</td>\n",
       "      <td>2</td>\n",
       "      <td>0</td>\n",
       "      <td>1</td>\n",
       "      <td>2282.162660</td>\n",
       "    </tr>\n",
       "    <tr>\n",
       "      <th>13489</th>\n",
       "      <td>NaN</td>\n",
       "      <td>0.142991</td>\n",
       "      <td>169.1448</td>\n",
       "      <td>3</td>\n",
       "      <td>1</td>\n",
       "      <td>2</td>\n",
       "      <td>2</td>\n",
       "      <td>2316.704364</td>\n",
       "    </tr>\n",
       "    <tr>\n",
       "      <th>13490</th>\n",
       "      <td>NaN</td>\n",
       "      <td>0.073529</td>\n",
       "      <td>118.7440</td>\n",
       "      <td>7</td>\n",
       "      <td>2</td>\n",
       "      <td>1</td>\n",
       "      <td>1</td>\n",
       "      <td>1784.530424</td>\n",
       "    </tr>\n",
       "    <tr>\n",
       "      <th>13491</th>\n",
       "      <td>NaN</td>\n",
       "      <td>0.064709</td>\n",
       "      <td>214.6218</td>\n",
       "      <td>2</td>\n",
       "      <td>2</td>\n",
       "      <td>1</td>\n",
       "      <td>1</td>\n",
       "      <td>3829.461886</td>\n",
       "    </tr>\n",
       "    <tr>\n",
       "      <th>13492</th>\n",
       "      <td>NaN</td>\n",
       "      <td>0.104720</td>\n",
       "      <td>79.7960</td>\n",
       "      <td>7</td>\n",
       "      <td>2</td>\n",
       "      <td>1</td>\n",
       "      <td>1</td>\n",
       "      <td>1759.396474</td>\n",
       "    </tr>\n",
       "  </tbody>\n",
       "</table>\n",
       "<p>13493 rows × 8 columns</p>\n",
       "</div>"
      ],
      "text/plain": [
       "       Item_Outlet_Sales  Item_Visibility  Item_MRP  Outlet_Identifier_encode  \\\n",
       "0              3735.1380         0.016047  249.8092                         9   \n",
       "1               443.4228         0.019278   48.2692                         3   \n",
       "2              2097.2700         0.016760  141.6180                         9   \n",
       "3               732.3800         0.074402  182.0950                         0   \n",
       "4               994.7052         0.064299   53.8614                         1   \n",
       "...                  ...              ...       ...                       ...   \n",
       "13488                NaN         0.013496  141.3154                         8   \n",
       "13489                NaN         0.142991  169.1448                         3   \n",
       "13490                NaN         0.073529  118.7440                         7   \n",
       "13491                NaN         0.064709  214.6218                         2   \n",
       "13492                NaN         0.104720   79.7960                         7   \n",
       "\n",
       "       Outlet_Size_encode  Outlet_Location_Type_encode  Outlet_Type_encode  \\\n",
       "0                       1                            0                   1   \n",
       "1                       1                            2                   2   \n",
       "2                       1                            0                   1   \n",
       "3                       1                            2                   0   \n",
       "4                       0                            2                   1   \n",
       "...                   ...                          ...                 ...   \n",
       "13488                   2                            0                   1   \n",
       "13489                   1                            2                   2   \n",
       "13490                   2                            1                   1   \n",
       "13491                   2                            1                   1   \n",
       "13492                   2                            1                   1   \n",
       "\n",
       "       Sales with prediction  \n",
       "0                3735.138000  \n",
       "1                 443.422800  \n",
       "2                2097.270000  \n",
       "3                 732.380000  \n",
       "4                 994.705200  \n",
       "...                      ...  \n",
       "13488            2282.162660  \n",
       "13489            2316.704364  \n",
       "13490            1784.530424  \n",
       "13491            3829.461886  \n",
       "13492            1759.396474  \n",
       "\n",
       "[13493 rows x 8 columns]"
      ]
     },
     "execution_count": 140,
     "metadata": {},
     "output_type": "execute_result"
    }
   ],
   "source": [
    "d1"
   ]
  },
  {
   "cell_type": "markdown",
   "id": "98766a47",
   "metadata": {},
   "source": [
    "\n",
    "### Here i have appended the predicted values in to the dataframe with the old sales values. This is the final dataframe\n",
    "### The null values are given with the corresponding predicted values"
   ]
  },
  {
   "cell_type": "code",
   "execution_count": 142,
   "id": "b01cc382",
   "metadata": {},
   "outputs": [
    {
     "data": {
      "text/html": [
       "<div>\n",
       "<style scoped>\n",
       "    .dataframe tbody tr th:only-of-type {\n",
       "        vertical-align: middle;\n",
       "    }\n",
       "\n",
       "    .dataframe tbody tr th {\n",
       "        vertical-align: top;\n",
       "    }\n",
       "\n",
       "    .dataframe thead th {\n",
       "        text-align: right;\n",
       "    }\n",
       "</style>\n",
       "<table border=\"1\" class=\"dataframe\">\n",
       "  <thead>\n",
       "    <tr style=\"text-align: right;\">\n",
       "      <th></th>\n",
       "      <th>Item_Outlet_Sales</th>\n",
       "      <th>Sales with prediction</th>\n",
       "    </tr>\n",
       "  </thead>\n",
       "  <tbody>\n",
       "    <tr>\n",
       "      <th>0</th>\n",
       "      <td>3735.1380</td>\n",
       "      <td>3735.138000</td>\n",
       "    </tr>\n",
       "    <tr>\n",
       "      <th>1</th>\n",
       "      <td>443.4228</td>\n",
       "      <td>443.422800</td>\n",
       "    </tr>\n",
       "    <tr>\n",
       "      <th>2</th>\n",
       "      <td>2097.2700</td>\n",
       "      <td>2097.270000</td>\n",
       "    </tr>\n",
       "    <tr>\n",
       "      <th>3</th>\n",
       "      <td>732.3800</td>\n",
       "      <td>732.380000</td>\n",
       "    </tr>\n",
       "    <tr>\n",
       "      <th>4</th>\n",
       "      <td>994.7052</td>\n",
       "      <td>994.705200</td>\n",
       "    </tr>\n",
       "    <tr>\n",
       "      <th>...</th>\n",
       "      <td>...</td>\n",
       "      <td>...</td>\n",
       "    </tr>\n",
       "    <tr>\n",
       "      <th>13488</th>\n",
       "      <td>NaN</td>\n",
       "      <td>2282.162660</td>\n",
       "    </tr>\n",
       "    <tr>\n",
       "      <th>13489</th>\n",
       "      <td>NaN</td>\n",
       "      <td>2316.704364</td>\n",
       "    </tr>\n",
       "    <tr>\n",
       "      <th>13490</th>\n",
       "      <td>NaN</td>\n",
       "      <td>1784.530424</td>\n",
       "    </tr>\n",
       "    <tr>\n",
       "      <th>13491</th>\n",
       "      <td>NaN</td>\n",
       "      <td>3829.461886</td>\n",
       "    </tr>\n",
       "    <tr>\n",
       "      <th>13492</th>\n",
       "      <td>NaN</td>\n",
       "      <td>1759.396474</td>\n",
       "    </tr>\n",
       "  </tbody>\n",
       "</table>\n",
       "<p>13493 rows × 2 columns</p>\n",
       "</div>"
      ],
      "text/plain": [
       "       Item_Outlet_Sales  Sales with prediction\n",
       "0              3735.1380            3735.138000\n",
       "1               443.4228             443.422800\n",
       "2              2097.2700            2097.270000\n",
       "3               732.3800             732.380000\n",
       "4               994.7052             994.705200\n",
       "...                  ...                    ...\n",
       "13488                NaN            2282.162660\n",
       "13489                NaN            2316.704364\n",
       "13490                NaN            1784.530424\n",
       "13491                NaN            3829.461886\n",
       "13492                NaN            1759.396474\n",
       "\n",
       "[13493 rows x 2 columns]"
      ]
     },
     "execution_count": 142,
     "metadata": {},
     "output_type": "execute_result"
    }
   ],
   "source": [
    "d1[['Item_Outlet_Sales','Sales with prediction']]"
   ]
  },
  {
   "cell_type": "markdown",
   "id": "2412ee78",
   "metadata": {},
   "source": [
    "## Insights"
   ]
  },
  {
   "cell_type": "markdown",
   "id": "10ee9e36",
   "metadata": {},
   "source": [
    "Most of the items weight between 8 to 17 kgs  \n",
    "The items have 2 kinds of fat content : low fat and regular.  \n",
    "65% of the items are of low fat where as the other 35% are regular  \n",
    "Most of the items are in the visibility range of 0.01 - 0.1  \n",
    "We can see that there are 16 types of items. And the most popular ones are Fruits and vegetables and snacks foods.  \n",
    "The least type of item is seafood  \n",
    "Most of the items are in the cost range of 90 - 190   \n",
    "There are 10 different types outlets. Most of the outlets have the same number of stores. OUT10 and OUT19 have the least number of stores  \n",
    "Most number of outlets were established in the year 1985. After 1985 the number of outlets have been increasing constantly other than in the year 1998  \n",
    "Most of the outlets are small in size(50%). High size outlets are the least(11%)  \n",
    "The stores are almost equally spread across each location type. Tier 3 is just ahead with 39%  \n",
    "Most of the stores are of Supermart type 1. The other 3 types have almost the same number  \n",
    "The items sales mostly ranges between 1000 - 3000  \n",
    "The sales of both low fat and regular items are almost the same  \n",
    "There is no particular trend for weight vs sales  \n",
    "Here we can observe that the sales of items with low visibility is high compared to ones with high visibility items  \n",
    "Almost all the item types have the same amount of sales  \n",
    "The sales of the items increases as the MRP of the item also increases  \n",
    "The sales of all the stores established in each year is almost the same. But the stores established in 1998 produce the least sales  \n",
    "The outlet 27 has the highest sales. Outlet 19 and 10 have the least sales  \n",
    "The sales of stores in Tier 3 and Tier 2 is highest. Tier 1 has the least sales  \n",
    "Supermarkert type 3 has the highest sales whereas grocery store has the least sales    \n",
    "All the items with regular and low fat content have almost the same sales  \n",
    "We can observe that Tier 1 does not have High size stores. Tier 3 does not have small size stores where are tier 2 has only small size stores  \n",
    "Sales of Tier 1 small stores is the least    \n",
    "We can see that the sales increase with increase in MRP but does not depend on the fat content  \n"
   ]
  }
 ],
 "metadata": {
  "kernelspec": {
   "display_name": "Python 3 (ipykernel)",
   "language": "python",
   "name": "python3"
  },
  "language_info": {
   "codemirror_mode": {
    "name": "ipython",
    "version": 3
   },
   "file_extension": ".py",
   "mimetype": "text/x-python",
   "name": "python",
   "nbconvert_exporter": "python",
   "pygments_lexer": "ipython3",
   "version": "3.9.12"
  }
 },
 "nbformat": 4,
 "nbformat_minor": 5
}
